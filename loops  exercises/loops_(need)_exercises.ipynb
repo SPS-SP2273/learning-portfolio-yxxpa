{
 "cells": [
  {
   "attachments": {},
   "cell_type": "markdown",
   "id": "123456",
   "metadata": {},
   "source": [
    "<div style=\"text-align:left;font-size:2em\"><span style=\"font-weight:bolder;font-size:1.25em\">SP2273 | Learning Portfolio</span><br><br><span style=\"font-weight:bold;color:darkred\">Loops (Need) Exercises</span></div>"
   ]
  },
  {
   "cell_type": "markdown",
   "id": "1b01dc3c-022f-4562-92e7-2d6b948a216e",
   "metadata": {},
   "source": [
    "**Exercise 1**"
   ]
  },
  {
   "cell_type": "code",
   "execution_count": 1,
   "id": "4642392c-4dd9-4281-91a4-796899a5d22f",
   "metadata": {},
   "outputs": [],
   "source": [
    "temperatures_celsius = [\n",
    "    0, 5, 10, 15, 20, 25,\n",
    "    30, 35, 40, 45, 50\n",
    "]"
   ]
  },
  {
   "cell_type": "code",
   "execution_count": 3,
   "id": "d07232a5-a16d-43c7-8318-062c11e6d5dc",
   "metadata": {},
   "outputs": [
    {
     "name": "stdout",
     "output_type": "stream",
     "text": [
      "0 degrees Celsius, 32 degrees Fahrenheit\n",
      "5 degrees Celsius, 41 degrees Fahrenheit\n",
      "10 degrees Celsius, 50 degrees Fahrenheit\n",
      "15 degrees Celsius, 59 degrees Fahrenheit\n",
      "20 degrees Celsius, 68 degrees Fahrenheit\n",
      "25 degrees Celsius, 77 degrees Fahrenheit\n",
      "30 degrees Celsius, 86 degrees Fahrenheit\n",
      "35 degrees Celsius, 95 degrees Fahrenheit\n",
      "40 degrees Celsius, 104 degrees Fahrenheit\n",
      "45 degrees Celsius, 113 degrees Fahrenheit\n",
      "50 degrees Celsius, 122 degrees Fahrenheit\n"
     ]
    }
   ],
   "source": [
    "for i in range(len(temperatures_celsius)):\n",
    "    temp_fahrenheit = int(temperatures_celsius[i] * (9/5) + 32)\n",
    "    print(f\"{temperatures_celsius[i]} degrees Celsius, {temp_fahrenheit} degrees Fahrenheit\")"
   ]
  },
  {
   "cell_type": "markdown",
   "id": "bbad370f-a100-4a46-9793-637fec2b35e9",
   "metadata": {},
   "source": [
    "**Exercise 2**"
   ]
  },
  {
   "cell_type": "markdown",
   "id": "84aa719e-9822-4247-890d-3350e76e4bdb",
   "metadata": {},
   "source": [
    "Example"
   ]
  },
  {
   "cell_type": "code",
   "execution_count": 30,
   "id": "3f91684b-a670-420d-b205-4713173e5120",
   "metadata": {},
   "outputs": [
    {
     "name": "stdout",
     "output_type": "stream",
     "text": [
      "A1\tA2\tA3\t\n",
      "\n",
      "B1\tB2\tB3\t\n",
      "\n",
      "C1\tC2\tC3\t\n",
      "\n"
     ]
    }
   ],
   "source": [
    "for letter in [\"A\", \"B\", \"C\"]:\n",
    "    for number in [1, 2, 3]:\n",
    "        print(f\"{letter}{number}\", end=\"\\t\")\n",
    "    print(\"\\n\")"
   ]
  },
  {
   "cell_type": "markdown",
   "id": "a9ae4175-7ca3-4323-88fe-2b4ba021925f",
   "metadata": {},
   "source": [
    "**Task**"
   ]
  },
  {
   "cell_type": "code",
   "execution_count": 28,
   "id": "c892a8d7-cf7b-4ec8-aadd-e5af77d5201e",
   "metadata": {},
   "outputs": [
    {
     "name": "stdout",
     "output_type": "stream",
     "text": [
      "1 : 1   2   3   4   5   \n",
      "2 : 2   4   6   8   10  \n",
      "3 : 3   6   9   12  15  \n",
      "4 : 4   8   12  16  20  \n",
      "5 : 5   10  15  20  25  \n"
     ]
    }
   ],
   "source": [
    "for i in range(1, 6):\n",
    "    table = f\"{i} : \"\n",
    "    for j in range(1, 6):\n",
    "        table += f\"{i * j: <4}\"\n",
    "    print(table)"
   ]
  }
 ],
 "metadata": {
  "kernelspec": {
   "display_name": "Python 3 (ipykernel)",
   "language": "python",
   "name": "python3"
  },
  "language_info": {
   "codemirror_mode": {
    "name": "ipython",
    "version": 3
   },
   "file_extension": ".py",
   "mimetype": "text/x-python",
   "name": "python",
   "nbconvert_exporter": "python",
   "pygments_lexer": "ipython3",
   "version": "3.11.5"
  },
  "toc": {
   "base_numbering": 1,
   "nav_menu": {},
   "number_sections": true,
   "sideBar": true,
   "skip_h1_title": false,
   "title_cell": "Table of Contents",
   "title_sidebar": "Contents",
   "toc_cell": false,
   "toc_position": {},
   "toc_section_display": true,
   "toc_window_display": false
  },
  "vscode": {
   "interpreter": {
    "hash": "31f2aee4e71d21fbe5cf8b01ff0e069b9275f58929596ceb00d14d90e3e16cd6"
   }
  }
 },
 "nbformat": 4,
 "nbformat_minor": 5
}
