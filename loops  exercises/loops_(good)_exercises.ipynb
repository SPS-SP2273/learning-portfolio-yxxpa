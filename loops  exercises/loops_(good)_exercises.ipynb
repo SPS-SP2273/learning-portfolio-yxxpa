{
 "cells": [
  {
   "attachments": {},
   "cell_type": "markdown",
   "id": "123456",
   "metadata": {},
   "source": [
    "<div style=\"text-align:left;font-size:2em\"><span style=\"font-weight:bolder;font-size:1.25em\">SP2273 | Learning Portfolio</span><br><br><span style=\"font-weight:bold;color:darkred\">Loops (Good) Exercises</span></div>"
   ]
  },
  {
   "cell_type": "markdown",
   "id": "3f671ec2-9fbc-4f40-9483-44c8c079be2b",
   "metadata": {},
   "source": [
    "**Exercise 1**"
   ]
  },
  {
   "cell_type": "code",
   "execution_count": 97,
   "id": "8dd89e39-d4db-4485-85b8-7237c9dee170",
   "metadata": {},
   "outputs": [
    {
     "name": "stdout",
     "output_type": "stream",
     "text": [
      "[1, 9, 25, 49, 81]\n"
     ]
    }
   ],
   "source": [
    "odd_integers = []\n",
    "for number in range(10):\n",
    "    # Ignore even integers\n",
    "    if number % 2 == 0:\n",
    "        continue\n",
    "    else:\n",
    "        # Add the square of the odd integer to the list\n",
    "        odd_integers.append(number ** 2)\n",
    "print(odd_integers)   "
   ]
  },
  {
   "cell_type": "markdown",
   "id": "6f736dcf-5541-4461-9ced-1c621ec21749",
   "metadata": {},
   "source": [
    "**Exercise 2**"
   ]
  },
  {
   "cell_type": "code",
   "execution_count": 89,
   "id": "23dca6f6-fcf0-4f09-b699-fb6e2fd4b2d2",
   "metadata": {},
   "outputs": [
    {
     "data": {
      "text/plain": [
       "[1, 9, 25, 49, 81]"
      ]
     },
     "execution_count": 89,
     "metadata": {},
     "output_type": "execute_result"
    }
   ],
   "source": [
    "# If the number is odd, square it and store it in the list\n",
    "[number ** 2 for number in range(10) if number % 2 != 0]"
   ]
  },
  {
   "cell_type": "markdown",
   "id": "bd9f48b9-4156-4c28-ad07-7d9232e5f976",
   "metadata": {},
   "source": [
    "**Exercise 3**"
   ]
  },
  {
   "cell_type": "code",
   "execution_count": 13,
   "id": "2c4e8cbe-b0b2-4516-8838-61348a53afee",
   "metadata": {},
   "outputs": [
    {
     "name": "stdout",
     "output_type": "stream",
     "text": [
      "1.21 µs ± 40 ns per loop (mean ± std. dev. of 7 runs, 1,000,000 loops each)\n"
     ]
    }
   ],
   "source": [
    "%%timeit\n",
    "odd_integers = []\n",
    "for number in range(10):\n",
    "    if number % 2 == 0:\n",
    "        continue\n",
    "    else:\n",
    "        odd_integers.append(number ** 2) "
   ]
  },
  {
   "cell_type": "code",
   "execution_count": 14,
   "id": "f83ed5f1-9e1c-4da6-8a5c-a5e37d7f5485",
   "metadata": {},
   "outputs": [
    {
     "name": "stdout",
     "output_type": "stream",
     "text": [
      "1.41 µs ± 281 ns per loop (mean ± std. dev. of 7 runs, 1,000,000 loops each)\n"
     ]
    }
   ],
   "source": [
    "%%timeit\n",
    "[number ** 2 for number in range(10) if number % 2 != 0]"
   ]
  },
  {
   "cell_type": "markdown",
   "id": "e4a16841-8a83-4913-8af0-62191e531633",
   "metadata": {},
   "source": [
    "The first solution was faster."
   ]
  },
  {
   "cell_type": "markdown",
   "id": "6cd350b0-88fc-4b02-8f5b-82fa696f466d",
   "metadata": {},
   "source": [
    "##### **Exercise 4**"
   ]
  },
  {
   "cell_type": "code",
   "execution_count": 98,
   "id": "74d451d7-3c97-4af2-be1c-7b66ebe35c10",
   "metadata": {},
   "outputs": [
    {
     "name": "stdout",
     "output_type": "stream",
     "text": [
      "14 years\n"
     ]
    }
   ],
   "source": [
    "amount = 100\n",
    "half = amount * 0.5\n",
    "years = 0\n",
    "\n",
    "while amount >= half:\n",
    "    # Increase the number of years passed\n",
    "    years += 1\n",
    "    # Update the amount of the substance after a year passes\n",
    "    amount *= 0.95\n",
    "print(f\"{years} years\")"
   ]
  },
  {
   "cell_type": "markdown",
   "id": "1b2abf48-0c1a-4add-a3e1-3fb3532ad060",
   "metadata": {},
   "source": [
    "**Exercise 5**"
   ]
  },
  {
   "cell_type": "code",
   "execution_count": 24,
   "id": "711e1b5b-34ce-4391-9016-c93991a593e9",
   "metadata": {},
   "outputs": [],
   "source": [
    "co2_data = [\n",
    "    (2000, 369.55), (2001, 371.14), (2002, 373.28), \n",
    "    (2003, 375.80), (2004, 377.52), (2005, 379.80), \n",
    "    (2006, 381.90), (2007, 383.79), (2008, 385.60), \n",
    "    (2009, 387.43), (2010, 389.90), (2011, 391.65), \n",
    "    (2012, 393.85), (2013, 396.52), (2014, 398.65),\n",
    "    (2015, 400.83), (2016, 404.24), (2017, 406.55), \n",
    "    (2018, 408.52), (2019, 411.44), (2020, 414.24)\n",
    "]"
   ]
  },
  {
   "cell_type": "code",
   "execution_count": 101,
   "id": "8223135c-bff6-489f-8a8b-84def91022fc",
   "metadata": {},
   "outputs": [
    {
     "name": "stdout",
     "output_type": "stream",
     "text": [
      "Year: 2016, Change: 3.41 ppm\n"
     ]
    }
   ],
   "source": [
    "for i in range(0, len(co2_data) - 1):\n",
    "    compare = co2_data[i][1]\n",
    "    # Find the difference in CO2 level between two years\n",
    "    diff = co2_data[i + 1][1] - compare\n",
    "    # If the CO2 increased by 3 ppm or more, print the amount of increase\n",
    "    # and the year\n",
    "    if diff >= 3:\n",
    "        print(f\"Year: {co2_data[i + 1][0]}, Change: {diff:.2f} ppm\")"
   ]
  }
 ],
 "metadata": {
  "kernelspec": {
   "display_name": "Python 3 (ipykernel)",
   "language": "python",
   "name": "python3"
  },
  "language_info": {
   "codemirror_mode": {
    "name": "ipython",
    "version": 3
   },
   "file_extension": ".py",
   "mimetype": "text/x-python",
   "name": "python",
   "nbconvert_exporter": "python",
   "pygments_lexer": "ipython3",
   "version": "3.11.5"
  },
  "toc": {
   "base_numbering": 1,
   "nav_menu": {},
   "number_sections": true,
   "sideBar": true,
   "skip_h1_title": false,
   "title_cell": "Table of Contents",
   "title_sidebar": "Contents",
   "toc_cell": false,
   "toc_position": {},
   "toc_section_display": true,
   "toc_window_display": false
  },
  "vscode": {
   "interpreter": {
    "hash": "31f2aee4e71d21fbe5cf8b01ff0e069b9275f58929596ceb00d14d90e3e16cd6"
   }
  }
 },
 "nbformat": 4,
 "nbformat_minor": 5
}
