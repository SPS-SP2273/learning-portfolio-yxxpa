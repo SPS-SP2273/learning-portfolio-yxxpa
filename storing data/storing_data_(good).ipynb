{
 "cells": [
  {
   "attachments": {},
   "cell_type": "markdown",
   "id": "123456",
   "metadata": {},
   "source": [
    "<div style=\"text-align:left;font-size:2em\"><span style=\"font-weight:bolder;font-size:1.25em\">SP2273 | Learning Portfolio</span><br><br><span style=\"font-weight:bold;color:darkred\">Storing Data (Good)</span></div>"
   ]
  },
  {
   "cell_type": "code",
   "execution_count": 1,
   "id": "4a108c80-497a-4470-932c-ed8777e8ad90",
   "metadata": {},
   "outputs": [],
   "source": [
    "import numpy as np"
   ]
  },
  {
   "attachments": {},
   "cell_type": "markdown",
   "id": "4f95f8a9",
   "metadata": {},
   "source": [
    "# 1 Subsetting: Indexing and Slicing"
   ]
  },
  {
   "attachments": {},
   "cell_type": "markdown",
   "id": "20837565",
   "metadata": {},
   "source": [
    "## 1.1 Lists & Arrays in 1D | Subsetting & Indexing"
   ]
  },
  {
   "cell_type": "code",
   "execution_count": 3,
   "id": "de6e821d-156e-4552-8008-a612402aec37",
   "metadata": {},
   "outputs": [],
   "source": [
    "py_list = [\"a1\", \"b2\", \"c3\", \"d4\", \"e5\",\n",
    "         \"f6\", \"g7\", \"h8\", \"i9\", \"j10\"]"
   ]
  },
  {
   "cell_type": "code",
   "execution_count": 4,
   "id": "53fe2829-9ce5-474f-9aef-3b6ebb9c3f0b",
   "metadata": {},
   "outputs": [
    {
     "data": {
      "text/plain": [
       "'a1'"
      ]
     },
     "execution_count": 4,
     "metadata": {},
     "output_type": "execute_result"
    }
   ],
   "source": [
    "py_list[0]"
   ]
  },
  {
   "cell_type": "code",
   "execution_count": 5,
   "id": "cb22777c-fb96-486c-b9fa-918ec49cb5e5",
   "metadata": {},
   "outputs": [
    {
     "data": {
      "text/plain": [
       "'j10'"
      ]
     },
     "execution_count": 5,
     "metadata": {},
     "output_type": "execute_result"
    }
   ],
   "source": [
    "py_list[-1]"
   ]
  },
  {
   "cell_type": "code",
   "execution_count": 6,
   "id": "55dc155b-f04e-42fd-8055-3fe610d90661",
   "metadata": {},
   "outputs": [
    {
     "data": {
      "text/plain": [
       "['a1', 'b2', 'c3']"
      ]
     },
     "execution_count": 6,
     "metadata": {},
     "output_type": "execute_result"
    }
   ],
   "source": [
    "py_list[0:3]"
   ]
  },
  {
   "cell_type": "code",
   "execution_count": 7,
   "id": "26361730-ceda-4815-beac-df90524b83d0",
   "metadata": {},
   "outputs": [
    {
     "data": {
      "text/plain": [
       "['b2', 'c3']"
      ]
     },
     "execution_count": 7,
     "metadata": {},
     "output_type": "execute_result"
    }
   ],
   "source": [
    "py_list[1:3]"
   ]
  },
  {
   "cell_type": "code",
   "execution_count": 8,
   "id": "3ccac7f7-7c86-450a-ab39-803ff4b0b382",
   "metadata": {},
   "outputs": [
    {
     "data": {
      "text/plain": [
       "['b2', 'c3', 'd4', 'e5', 'f6']"
      ]
     },
     "execution_count": 8,
     "metadata": {},
     "output_type": "execute_result"
    }
   ],
   "source": [
    "py_list[1:6]"
   ]
  },
  {
   "cell_type": "code",
   "execution_count": 9,
   "id": "ff0f2d0f-0943-48cc-8af6-32f5dddd94f7",
   "metadata": {},
   "outputs": [
    {
     "data": {
      "text/plain": [
       "['b2', 'd4', 'f6']"
      ]
     },
     "execution_count": 9,
     "metadata": {},
     "output_type": "execute_result"
    }
   ],
   "source": [
    "py_list[1:6:2]"
   ]
  },
  {
   "cell_type": "code",
   "execution_count": 10,
   "id": "715017fa-41bc-42cc-999c-2f56496ecab6",
   "metadata": {},
   "outputs": [
    {
     "data": {
      "text/plain": [
       "['f6', 'g7', 'h8', 'i9', 'j10']"
      ]
     },
     "execution_count": 10,
     "metadata": {},
     "output_type": "execute_result"
    }
   ],
   "source": [
    "py_list[5:]"
   ]
  },
  {
   "cell_type": "code",
   "execution_count": 11,
   "id": "14f2d4f6-0215-4efb-8e85-7b07d331f618",
   "metadata": {},
   "outputs": [
    {
     "data": {
      "text/plain": [
       "['f6', 'h8', 'j10']"
      ]
     },
     "execution_count": 11,
     "metadata": {},
     "output_type": "execute_result"
    }
   ],
   "source": [
    "py_list[5::2]"
   ]
  },
  {
   "cell_type": "code",
   "execution_count": 12,
   "id": "cf53d3f8-4888-4d2c-8570-ed1ce012e9c5",
   "metadata": {},
   "outputs": [
    {
     "data": {
      "text/plain": [
       "['a1', 'b2', 'c3', 'd4', 'e5']"
      ]
     },
     "execution_count": 12,
     "metadata": {},
     "output_type": "execute_result"
    }
   ],
   "source": [
    "py_list[:5]"
   ]
  },
  {
   "cell_type": "code",
   "execution_count": 14,
   "id": "898bcdb1-1e33-447d-9501-035a0c5c03d0",
   "metadata": {},
   "outputs": [
    {
     "data": {
      "text/plain": [
       "['f6', 'e5', 'd4']"
      ]
     },
     "execution_count": 14,
     "metadata": {},
     "output_type": "execute_result"
    }
   ],
   "source": [
    "py_list[5:2:-1]"
   ]
  },
  {
   "cell_type": "code",
   "execution_count": 15,
   "id": "b862f86f-08b0-49fc-878d-dc3893e0a947",
   "metadata": {},
   "outputs": [
    {
     "data": {
      "text/plain": [
       "['j10', 'i9', 'h8', 'g7', 'f6', 'e5', 'd4', 'c3', 'b2', 'a1']"
      ]
     },
     "execution_count": 15,
     "metadata": {},
     "output_type": "execute_result"
    }
   ],
   "source": [
    "py_list[::-1]"
   ]
  },
  {
   "cell_type": "code",
   "execution_count": 16,
   "id": "f0779805-2507-41b8-9e7b-a1bc2f743afb",
   "metadata": {},
   "outputs": [
    {
     "data": {
      "text/plain": [
       "['j10', 'h8', 'f6', 'd4', 'b2']"
      ]
     },
     "execution_count": 16,
     "metadata": {},
     "output_type": "execute_result"
    }
   ],
   "source": [
    "py_list[::-2]"
   ]
  },
  {
   "attachments": {},
   "cell_type": "markdown",
   "id": "d45b91bc",
   "metadata": {},
   "source": [
    "## 1.2 Arrays only | Subsetting by masking"
   ]
  },
  {
   "cell_type": "code",
   "execution_count": 18,
   "id": "cb1a0a00-b22f-4ef1-ab17-be401c7202ec",
   "metadata": {},
   "outputs": [],
   "source": [
    "np_array = np.array([1, 2, 3, 4, 5, 6, 7, 8, 9, 10])"
   ]
  },
  {
   "cell_type": "code",
   "execution_count": 21,
   "id": "cc2e75f1-e7b2-47f0-918c-ba141b5e9363",
   "metadata": {},
   "outputs": [
    {
     "data": {
      "text/plain": [
       "array([False, False, False,  True,  True,  True,  True,  True,  True,\n",
       "        True])"
      ]
     },
     "execution_count": 21,
     "metadata": {},
     "output_type": "execute_result"
    }
   ],
   "source": [
    "my_mask = np_array > 3\n",
    "my_mask"
   ]
  },
  {
   "cell_type": "code",
   "execution_count": 22,
   "id": "305ece88-f980-4021-a6ac-461d81429b9c",
   "metadata": {},
   "outputs": [
    {
     "data": {
      "text/plain": [
       "array([ 4,  5,  6,  7,  8,  9, 10])"
      ]
     },
     "execution_count": 22,
     "metadata": {},
     "output_type": "execute_result"
    }
   ],
   "source": [
    "np_array[my_mask]"
   ]
  },
  {
   "cell_type": "code",
   "execution_count": 24,
   "id": "1b2d7f5e-be31-43ad-9087-016de16e59c2",
   "metadata": {},
   "outputs": [
    {
     "data": {
      "text/plain": [
       "array([ 4,  5,  6,  7,  8,  9, 10])"
      ]
     },
     "execution_count": 24,
     "metadata": {},
     "output_type": "execute_result"
    }
   ],
   "source": [
    "np_array[np_array > 3]"
   ]
  },
  {
   "cell_type": "markdown",
   "id": "daaa1151-0aca-4b69-9480-58abb421228c",
   "metadata": {},
   "source": [
    "**Example 1**"
   ]
  },
  {
   "cell_type": "code",
   "execution_count": 26,
   "id": "4f000ae6-760e-450a-b407-f47c20879209",
   "metadata": {},
   "outputs": [
    {
     "data": {
      "text/plain": [
       "array([1, 2, 3])"
      ]
     },
     "execution_count": 26,
     "metadata": {},
     "output_type": "execute_result"
    }
   ],
   "source": [
    "np_array[~(np_array > 3)]  # \"~\" is the Bitwise Not operator"
   ]
  },
  {
   "cell_type": "markdown",
   "id": "f57a0ac8-63e0-4b52-906c-3a5ee165f824",
   "metadata": {},
   "source": [
    "**Example 2**"
   ]
  },
  {
   "cell_type": "code",
   "execution_count": 27,
   "id": "af82a318-d2fa-4769-9abb-9898f19e1577",
   "metadata": {},
   "outputs": [
    {
     "data": {
      "text/plain": [
       "array([4, 5, 6, 7])"
      ]
     },
     "execution_count": 27,
     "metadata": {},
     "output_type": "execute_result"
    }
   ],
   "source": [
    "np_array[(np_array > 3) & (np_array < 8)]  # \"&\" is the Bitwise And"
   ]
  },
  {
   "cell_type": "markdown",
   "id": "4b4c8ebc-2f3f-4317-b8ed-f36a1cc25224",
   "metadata": {},
   "source": [
    "**Example 3**"
   ]
  },
  {
   "cell_type": "code",
   "execution_count": 28,
   "id": "76316b7a-a9b5-42ce-a017-3e64c327af93",
   "metadata": {},
   "outputs": [
    {
     "data": {
      "text/plain": [
       "array([ 1,  2,  9, 10])"
      ]
     },
     "execution_count": 28,
     "metadata": {},
     "output_type": "execute_result"
    }
   ],
   "source": [
    "np_array[(np_array < 3) | (np_array > 8)]"
   ]
  },
  {
   "attachments": {},
   "cell_type": "markdown",
   "id": "1e7f4da3",
   "metadata": {},
   "source": [
    "## 1.3 Lists & Arrays in 2D | Indexing & Slicing"
   ]
  },
  {
   "cell_type": "code",
   "execution_count": 29,
   "id": "114b3f80-a25a-476f-bafa-e318c97f89dc",
   "metadata": {},
   "outputs": [],
   "source": [
    "py_list_2d = [[1, \"A\"], [2, \"B\"], [3, \"C\"], [4, \"D\"],\n",
    "              [5, \"E\"], [6, \"F\"], [7, \"G\"], [8, \"H\"],\n",
    "              [9, \"I\"], [10, \"J\"]]\n",
    "\n",
    "np_array_2d = np.array(py_list_2d)"
   ]
  },
  {
   "cell_type": "markdown",
   "id": "bb0045c6-d408-4fcc-8926-4c48ecc246e0",
   "metadata": {},
   "source": [
    "**Example 1**"
   ]
  },
  {
   "cell_type": "code",
   "execution_count": 30,
   "id": "2f69cb3f-0ff7-4ed9-bbad-1d529d38bfaa",
   "metadata": {},
   "outputs": [
    {
     "data": {
      "text/plain": [
       "[4, 'D']"
      ]
     },
     "execution_count": 30,
     "metadata": {},
     "output_type": "execute_result"
    }
   ],
   "source": [
    "py_list_2d[3]"
   ]
  },
  {
   "cell_type": "code",
   "execution_count": 31,
   "id": "2f9b117e-8748-4b6c-921a-4fa80d35e258",
   "metadata": {},
   "outputs": [
    {
     "data": {
      "text/plain": [
       "array(['4', 'D'], dtype='<U21')"
      ]
     },
     "execution_count": 31,
     "metadata": {},
     "output_type": "execute_result"
    }
   ],
   "source": [
    "np_array_2d[3]"
   ]
  },
  {
   "cell_type": "markdown",
   "id": "184cae38-fb13-4f8c-92ce-b525b80f0c48",
   "metadata": {},
   "source": [
    "**Example 2**"
   ]
  },
  {
   "cell_type": "code",
   "execution_count": 32,
   "id": "9c5c36de-ca91-4a8f-92a6-feed9f96ad71",
   "metadata": {},
   "outputs": [
    {
     "data": {
      "text/plain": [
       "4"
      ]
     },
     "execution_count": 32,
     "metadata": {},
     "output_type": "execute_result"
    }
   ],
   "source": [
    "py_list_2d[3][0]"
   ]
  },
  {
   "cell_type": "code",
   "execution_count": 33,
   "id": "55f41d5e-1b33-4b44-841b-259b1abf258a",
   "metadata": {},
   "outputs": [
    {
     "data": {
      "text/plain": [
       "'4'"
      ]
     },
     "execution_count": 33,
     "metadata": {},
     "output_type": "execute_result"
    }
   ],
   "source": [
    "np_array_2d[3, 0]"
   ]
  },
  {
   "cell_type": "markdown",
   "id": "d1dd922f-1076-4c55-ae77-1c0be83eb6f0",
   "metadata": {},
   "source": [
    "**Example 3**"
   ]
  },
  {
   "cell_type": "code",
   "execution_count": 35,
   "id": "05da29ac-e72c-4616-b64f-b166a58808a7",
   "metadata": {},
   "outputs": [
    {
     "data": {
      "text/plain": [
       "[[1, 'A'], [2, 'B'], [3, 'C']]"
      ]
     },
     "execution_count": 35,
     "metadata": {},
     "output_type": "execute_result"
    }
   ],
   "source": [
    "py_list_2d[:3]"
   ]
  },
  {
   "cell_type": "code",
   "execution_count": 36,
   "id": "4bf2d37c-8111-4c60-83b7-bad6c3527545",
   "metadata": {},
   "outputs": [
    {
     "data": {
      "text/plain": [
       "array([['1', 'A'],\n",
       "       ['2', 'B'],\n",
       "       ['3', 'C']], dtype='<U21')"
      ]
     },
     "execution_count": 36,
     "metadata": {},
     "output_type": "execute_result"
    }
   ],
   "source": [
    "np_array_2d[:3]"
   ]
  },
  {
   "cell_type": "markdown",
   "id": "1a43777a-5225-44d9-8f7e-bc0d109ebad4",
   "metadata": {},
   "source": [
    "**Example 4**"
   ]
  },
  {
   "cell_type": "code",
   "execution_count": 39,
   "id": "4c320926-98c1-4c9e-a384-a89e30f0191c",
   "metadata": {},
   "outputs": [
    {
     "data": {
      "text/plain": [
       "[1, 'A']"
      ]
     },
     "execution_count": 39,
     "metadata": {},
     "output_type": "execute_result"
    }
   ],
   "source": [
    "py_list_2d[:3][0]"
   ]
  },
  {
   "cell_type": "code",
   "execution_count": 40,
   "id": "7449a811-bbf4-464a-83d5-8655a7c150fc",
   "metadata": {},
   "outputs": [
    {
     "data": {
      "text/plain": [
       "array(['1', '2', '3'], dtype='<U21')"
      ]
     },
     "execution_count": 40,
     "metadata": {},
     "output_type": "execute_result"
    }
   ],
   "source": [
    "np_array_2d[:3, 0]"
   ]
  },
  {
   "cell_type": "markdown",
   "id": "6de35092-9352-406e-baf9-ec8fe13fe234",
   "metadata": {},
   "source": [
    "**Example 5**"
   ]
  },
  {
   "cell_type": "code",
   "execution_count": 41,
   "id": "1d57b99e-cd2f-49bb-8566-3982df70d3f3",
   "metadata": {},
   "outputs": [
    {
     "data": {
      "text/plain": [
       "[4, 'D']"
      ]
     },
     "execution_count": 41,
     "metadata": {},
     "output_type": "execute_result"
    }
   ],
   "source": [
    "py_list_2d[3:6][0]"
   ]
  },
  {
   "cell_type": "code",
   "execution_count": 42,
   "id": "39e99fb8-4101-4dd3-8869-069c332e1d0b",
   "metadata": {},
   "outputs": [
    {
     "data": {
      "text/plain": [
       "array(['4', '5', '6'], dtype='<U21')"
      ]
     },
     "execution_count": 42,
     "metadata": {},
     "output_type": "execute_result"
    }
   ],
   "source": [
    "np_array_2d[3:6, 0]"
   ]
  },
  {
   "cell_type": "code",
   "execution_count": 43,
   "id": "53d0d857-3fa0-460a-aafb-4ee6c2e32d18",
   "metadata": {},
   "outputs": [
    {
     "data": {
      "text/plain": [
       "array(['1', '2', '3', '4', '5', '6', '7', '8', '9', '10'], dtype='<U21')"
      ]
     },
     "execution_count": 43,
     "metadata": {},
     "output_type": "execute_result"
    }
   ],
   "source": [
    "np_array_2d[:, 0]"
   ]
  },
  {
   "attachments": {},
   "cell_type": "markdown",
   "id": "6354aa7e",
   "metadata": {},
   "source": [
    "## 1.4 Growing lists"
   ]
  },
  {
   "cell_type": "markdown",
   "id": "812f24d0-b9dd-4a6a-ac45-9f17056c8b61",
   "metadata": {},
   "source": [
    "**Example 1**"
   ]
  },
  {
   "cell_type": "code",
   "execution_count": 46,
   "id": "9149353d-4065-41a7-b8e3-e08e48da7758",
   "metadata": {},
   "outputs": [
    {
     "data": {
      "text/plain": [
       "[1, 2, 1, 2, 1, 2, 1, 2, 1, 2]"
      ]
     },
     "execution_count": 46,
     "metadata": {},
     "output_type": "execute_result"
    }
   ],
   "source": [
    "x = [1, 2] * 5\n",
    "x"
   ]
  },
  {
   "cell_type": "markdown",
   "id": "8a079a97-8bea-4176-899e-f004a9aff212",
   "metadata": {},
   "source": [
    "**Example 2**"
   ]
  },
  {
   "cell_type": "code",
   "execution_count": 53,
   "id": "0c6b8a61-efc3-45c5-9fd7-17bec764ce3b",
   "metadata": {},
   "outputs": [
    {
     "data": {
      "text/plain": [
       "[1, 2, 3, 4]"
      ]
     },
     "execution_count": 53,
     "metadata": {},
     "output_type": "execute_result"
    }
   ],
   "source": [
    "x = [1]\n",
    "x = x + [2]\n",
    "x = x + [3]\n",
    "x = x + [4]\n",
    "x"
   ]
  },
  {
   "cell_type": "code",
   "execution_count": 54,
   "id": "3c154130-830d-48bc-9e0e-9b6c2f42cba7",
   "metadata": {},
   "outputs": [
    {
     "data": {
      "text/plain": [
       "[1, 2, 3, 4]"
      ]
     },
     "execution_count": 54,
     "metadata": {},
     "output_type": "execute_result"
    }
   ],
   "source": [
    "x = [1]\n",
    "x += [2]\n",
    "x += [3]\n",
    "x += [4]\n",
    "x"
   ]
  },
  {
   "cell_type": "code",
   "execution_count": 56,
   "id": "2b5248f9-778f-4b3c-af53-f585adbf350b",
   "metadata": {},
   "outputs": [
    {
     "data": {
      "text/plain": [
       "[1, 2, 3, 4]"
      ]
     },
     "execution_count": 56,
     "metadata": {},
     "output_type": "execute_result"
    }
   ],
   "source": [
    "x = [1]\n",
    "x.append(2)\n",
    "x.append(3)\n",
    "x.append(4)\n",
    "x"
   ]
  },
  {
   "cell_type": "markdown",
   "id": "901e17a2-2d67-4d42-8565-ed3d2fecf846",
   "metadata": {},
   "source": [
    "**Example 3**"
   ]
  },
  {
   "cell_type": "code",
   "execution_count": 57,
   "id": "7fe56df4-7702-47e8-bb79-7bd34eca0e03",
   "metadata": {},
   "outputs": [
    {
     "data": {
      "text/plain": [
       "[1, 2, 3, 4, 5, 6]"
      ]
     },
     "execution_count": 57,
     "metadata": {},
     "output_type": "execute_result"
    }
   ],
   "source": [
    "x = [1, 2, 3]\n",
    "x += [4, 5, 6]\n",
    "x"
   ]
  },
  {
   "cell_type": "code",
   "execution_count": 3,
   "id": "a8c5f78e-aba0-4364-9152-fb9d96959907",
   "metadata": {},
   "outputs": [
    {
     "data": {
      "text/plain": [
       "[1, 2, 3, 4, 5, 6]"
      ]
     },
     "execution_count": 3,
     "metadata": {},
     "output_type": "execute_result"
    }
   ],
   "source": [
    "x = [1, 2, 3]\n",
    "x.extend([4, 5, 6])\n",
    "x"
   ]
  },
  {
   "cell_type": "code",
   "execution_count": 5,
   "id": "a78b0e8d-c6f0-4d49-9a91-d0baa583bcce",
   "metadata": {},
   "outputs": [
    {
     "data": {
      "text/plain": [
       "[1, 2, 3, [4, 5, 6]]"
      ]
     },
     "execution_count": 5,
     "metadata": {},
     "output_type": "execute_result"
    }
   ],
   "source": [
    "x = [1, 2, 3]\n",
    "x.append([4, 5, 6])\n",
    "x"
   ]
  },
  {
   "cell_type": "code",
   "execution_count": 6,
   "id": "c5b83dc6-b290-4365-994f-5af2a171b016",
   "metadata": {},
   "outputs": [
    {
     "data": {
      "text/plain": [
       "[1, 4, 5, 1, 2, 3, [4, 5, 6]]"
      ]
     },
     "execution_count": 6,
     "metadata": {},
     "output_type": "execute_result"
    }
   ],
   "source": [
    "[1, 4, 5] + x"
   ]
  },
  {
   "attachments": {},
   "cell_type": "markdown",
   "id": "d3ba9a66",
   "metadata": {},
   "source": [
    "# Some loose ends"
   ]
  },
  {
   "attachments": {},
   "cell_type": "markdown",
   "id": "ecdb0d49",
   "metadata": {},
   "source": [
    "## 1.5 Tuples"
   ]
  },
  {
   "cell_type": "code",
   "execution_count": 65,
   "id": "8ee80ca7-f5b2-4ba1-8c9e-3ed3143312fb",
   "metadata": {},
   "outputs": [
    {
     "data": {
      "text/plain": [
       "[1233452, 2, 3, 4, 5]"
      ]
     },
     "execution_count": 65,
     "metadata": {},
     "output_type": "execute_result"
    }
   ],
   "source": [
    "a = [1, 2, 3, 4, 5]\n",
    "a[0] = 1233452\n",
    "a"
   ]
  },
  {
   "cell_type": "code",
   "execution_count": 7,
   "id": "dcde1176-9263-463b-91d0-e423682d8b40",
   "metadata": {},
   "outputs": [],
   "source": [
    "# Defining a tuple\n",
    "a_tuple = (1, 2, 3)"
   ]
  },
  {
   "cell_type": "code",
   "execution_count": 68,
   "id": "176bb527-df01-49f4-9d05-0039224fb26a",
   "metadata": {},
   "outputs": [
    {
     "name": "stdout",
     "output_type": "stream",
     "text": [
      "1\n"
     ]
    }
   ],
   "source": [
    "print(a_tuple[0])"
   ]
  },
  {
   "cell_type": "code",
   "execution_count": 69,
   "id": "d2cb8e3a-55ac-4c0f-8805-d471aa8036ad",
   "metadata": {},
   "outputs": [
    {
     "ename": "TypeError",
     "evalue": "'tuple' object does not support item assignment",
     "output_type": "error",
     "traceback": [
      "\u001b[0;31m---------------------------------------------------------------------------\u001b[0m",
      "\u001b[0;31mTypeError\u001b[0m                                 Traceback (most recent call last)",
      "Cell \u001b[0;32mIn[69], line 2\u001b[0m\n\u001b[1;32m      1\u001b[0m \u001b[38;5;66;03m# Will not work\u001b[39;00m\n\u001b[0;32m----> 2\u001b[0m \u001b[43ma_tuple\u001b[49m\u001b[43m[\u001b[49m\u001b[38;5;241;43m0\u001b[39;49m\u001b[43m]\u001b[49m \u001b[38;5;241m=\u001b[39m \u001b[38;5;241m-\u001b[39m\u001b[38;5;241m1\u001b[39m\n\u001b[1;32m      3\u001b[0m a_tuple[\u001b[38;5;241m0\u001b[39m] \u001b[38;5;241m+\u001b[39m\u001b[38;5;241m=\u001b[39m [\u001b[38;5;241m10\u001b[39m]\n",
      "\u001b[0;31mTypeError\u001b[0m: 'tuple' object does not support item assignment"
     ]
    }
   ],
   "source": [
    "# Will not work\n",
    "a_tuple[0] = -1\n",
    "a_tuple[0] += [10]"
   ]
  },
  {
   "attachments": {},
   "cell_type": "markdown",
   "id": "0e23d0de",
   "metadata": {},
   "source": [
    "## 1.6 Be VERY careful when copying"
   ]
  },
  {
   "cell_type": "code",
   "execution_count": 77,
   "id": "9e1daa6b-357d-4cd3-b213-cbd60f4df494",
   "metadata": {},
   "outputs": [],
   "source": [
    "# Do not do this - y and z are not different\n",
    "x = [1, 2, 3]\n",
    "y = x\n",
    "z = x"
   ]
  },
  {
   "cell_type": "code",
   "execution_count": 79,
   "id": "ae477786-a835-43f3-8412-45e536291da2",
   "metadata": {},
   "outputs": [
    {
     "name": "stdout",
     "output_type": "stream",
     "text": [
      "id(x)=4447605376, id(y)=4447605376, id(z)=4447605376\n"
     ]
    }
   ],
   "source": [
    "print(f\"{id(x)=}, {id(y)=}, {id(z)=}\")"
   ]
  },
  {
   "cell_type": "code",
   "execution_count": 80,
   "id": "2c36d36e-6475-4d1b-93c9-0e9a26b76ccc",
   "metadata": {},
   "outputs": [],
   "source": [
    "x = [1, 2, 3]\n",
    "y = x.copy()\n",
    "z = x.copy()"
   ]
  },
  {
   "cell_type": "code",
   "execution_count": 81,
   "id": "91a330c1-a906-4605-891b-fd14f508dc9e",
   "metadata": {},
   "outputs": [
    {
     "name": "stdout",
     "output_type": "stream",
     "text": [
      "id(x)=4447842944, id(y)=4447453760, id(z)=4447610048\n"
     ]
    }
   ],
   "source": [
    "print(f\"{id(x)=}, {id(y)=}, {id(z)=}\")"
   ]
  }
 ],
 "metadata": {
  "kernelspec": {
   "display_name": "Python 3 (ipykernel)",
   "language": "python",
   "name": "python3"
  },
  "language_info": {
   "codemirror_mode": {
    "name": "ipython",
    "version": 3
   },
   "file_extension": ".py",
   "mimetype": "text/x-python",
   "name": "python",
   "nbconvert_exporter": "python",
   "pygments_lexer": "ipython3",
   "version": "3.11.5"
  },
  "toc": {
   "base_numbering": 1,
   "nav_menu": {},
   "number_sections": true,
   "sideBar": true,
   "skip_h1_title": false,
   "title_cell": "Table of Contents",
   "title_sidebar": "Contents",
   "toc_cell": false,
   "toc_position": {},
   "toc_section_display": true,
   "toc_window_display": false
  },
  "vscode": {
   "interpreter": {
    "hash": "31f2aee4e71d21fbe5cf8b01ff0e069b9275f58929596ceb00d14d90e3e16cd6"
   }
  }
 },
 "nbformat": 4,
 "nbformat_minor": 5
}
