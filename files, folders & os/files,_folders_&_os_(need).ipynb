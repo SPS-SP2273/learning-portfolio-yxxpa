{
 "cells": [
  {
   "attachments": {},
   "cell_type": "markdown",
   "id": "123456",
   "metadata": {},
   "source": [
    "<div style=\"text-align:left;font-size:2em\"><span style=\"font-weight:bolder;font-size:1.25em\">SP2273 | Learning Portfolio</span><br><br><span style=\"font-weight:bold;color:darkred\">Files, Folders & OS (Need)</span></div>"
   ]
  },
  {
   "attachments": {},
   "cell_type": "markdown",
   "id": "7e72d936",
   "metadata": {},
   "source": [
    "# 1 Important concepts"
   ]
  },
  {
   "attachments": {},
   "cell_type": "markdown",
   "id": "4a2a5608",
   "metadata": {},
   "source": [
    "## 1.1 Path"
   ]
  },
  {
   "cell_type": "markdown",
   "id": "2bf936cf-c9f8-49f9-8c6e-1f3b042e15d9",
   "metadata": {},
   "source": [
    "/Users/yangxuanxi/Downloads/SP2273/learning-portfolio-yxxpa/files, folders & os"
   ]
  },
  {
   "cell_type": "markdown",
   "id": "d8928187-1985-4619-921f-59a45f8afa18",
   "metadata": {},
   "source": [
    "Using absolute paths is discouraged."
   ]
  },
  {
   "cell_type": "code",
   "execution_count": 2,
   "id": "fe084184-d285-403e-a365-2bcc00e8334f",
   "metadata": {},
   "outputs": [
    {
     "name": "stdout",
     "output_type": "stream",
     "text": [
      "/Users/yangxuanxi/Downloads/SP2273/learning-portfolio-yxxpa/files, folders & os\n"
     ]
    }
   ],
   "source": [
    "!pwd"
   ]
  },
  {
   "attachments": {},
   "cell_type": "markdown",
   "id": "3ba85717",
   "metadata": {},
   "source": [
    "## 1.2 More about relative paths"
   ]
  },
  {
   "cell_type": "markdown",
   "id": "ff248fc9-9541-4770-aef6-71f51fb7ed31",
   "metadata": {},
   "source": [
    ". - This Folder"
   ]
  },
  {
   "cell_type": "markdown",
   "id": "43213c06-3943-4087-81cc-833a36c64f13",
   "metadata": {},
   "source": [
    ".. - One folder above"
   ]
  },
  {
   "cell_type": "markdown",
   "id": "b9510c86-08e4-4b6f-b213-273f65d0d3d2",
   "metadata": {},
   "source": [
    "../../../data.txt"
   ]
  },
  {
   "attachments": {},
   "cell_type": "markdown",
   "id": "2caa2f45",
   "metadata": {},
   "source": [
    "### macOS or Linux"
   ]
  },
  {
   "cell_type": "code",
   "execution_count": 3,
   "id": "1a1d3a97-5519-49ee-a5f3-c69809d39116",
   "metadata": {},
   "outputs": [
    {
     "name": "stdout",
     "output_type": "stream",
     "text": [
      "C:\\Users\\chammika\\Desktop\tdata-01.txt\n",
      "C:\\Users\\chammika\\Desktop\\data-01.txt\n"
     ]
    }
   ],
   "source": [
    "# Windows Example (wrong)\n",
    "my_path = \"C:\\\\Users\\chammika\\Desktop\\tdata-01.txt\"  \n",
    "print(my_path)\n",
    "\n",
    "# Need to escape by putting \\\\\n",
    "path2 = \"C:\\\\Users\\\\chammika\\\\Desktop\\\\data-01.txt\" \n",
    "print(path2)"
   ]
  },
  {
   "cell_type": "markdown",
   "id": "c2f14342-62a7-4d19-8507-60f5a9b2bf6c",
   "metadata": {},
   "source": [
    "Mac Example (~ represents home folder):\n",
    "\n",
    "~/Downloads/SP2273  "
   ]
  },
  {
   "attachments": {},
   "cell_type": "markdown",
   "id": "63a56bda",
   "metadata": {},
   "source": [
    "## 1.3 Path separator"
   ]
  },
  {
   "cell_type": "markdown",
   "id": "98e6fd13-0198-4213-b2aa-6bb988473640",
   "metadata": {},
   "source": [
    "Windows Example: C:\\\\Users\\chammika\\Desktop\\data-01.txt\n",
    "\n",
    "macOS Example: /Users/chammika/Desktop/data-01.txt\n",
    "\n",
    "It's best not to hardcode path separators."
   ]
  },
  {
   "attachments": {},
   "cell_type": "markdown",
   "id": "32e2172e",
   "metadata": {},
   "source": [
    "## 1.4 Text files vs. Binary files"
   ]
  },
  {
   "cell_type": "markdown",
   "id": "68f8a0e4-0219-4898-90c6-86fb53a7d921",
   "metadata": {},
   "source": [
    "Binary file - everything is stored as 1s and 0s, format needed for extraction, good for speed and size\n",
    "\n",
    "Text files - simpler and can be opened by more software"
   ]
  },
  {
   "attachments": {},
   "cell_type": "markdown",
   "id": "8dda6e16",
   "metadata": {},
   "source": [
    "## 1.5 Extensions"
   ]
  },
  {
   "cell_type": "markdown",
   "id": "94fe7f9b-0b09-40aa-8a5a-9c9b440130ab",
   "metadata": {},
   "source": [
    "file.xlsx"
   ]
  },
  {
   "cell_type": "markdown",
   "id": "9140274f-c3c6-4e0e-b109-e973d289fe41",
   "metadata": {},
   "source": [
    "file.pptx"
   ]
  },
  {
   "attachments": {},
   "cell_type": "markdown",
   "id": "dfe4f338",
   "metadata": {},
   "source": [
    "# 2 Opening and closing files"
   ]
  },
  {
   "attachments": {},
   "cell_type": "markdown",
   "id": "3a3eba85",
   "metadata": {},
   "source": [
    "## 2.1 Reading data"
   ]
  },
  {
   "cell_type": "code",
   "execution_count": 10,
   "id": "6b21b4f8-7d53-4969-b98b-c4d7112d2af1",
   "metadata": {},
   "outputs": [
    {
     "name": "stdout",
     "output_type": "stream",
     "text": [
      "Testing\n"
     ]
    }
   ],
   "source": [
    "with open(\"test1.txt\", \"r\") as file:  # \"rb\" for .xlsx\n",
    "    file_content = file.read()\n",
    "\n",
    "print(file_content)"
   ]
  },
  {
   "cell_type": "code",
   "execution_count": 15,
   "id": "aee39ff8-5d23-43be-b999-3bc21d3169be",
   "metadata": {},
   "outputs": [
    {
     "name": "stdout",
     "output_type": "stream",
     "text": [
      "Testing\n"
     ]
    }
   ],
   "source": [
    "# Not recommended\n",
    "file1 = open(\"test1.txt\", \"r\")\n",
    "file1_content = file1.read()\n",
    "print(file1_content)\n",
    "file.close()"
   ]
  },
  {
   "attachments": {},
   "cell_type": "markdown",
   "id": "c11679a0",
   "metadata": {},
   "source": [
    "## 2.2 Writing data"
   ]
  },
  {
   "attachments": {},
   "cell_type": "markdown",
   "id": "668942ae",
   "metadata": {},
   "source": [
    "### Writing to a file in one go"
   ]
  },
  {
   "cell_type": "code",
   "execution_count": 17,
   "id": "719550c8-12d7-4898-bcce-4297df72fdb1",
   "metadata": {},
   "outputs": [],
   "source": [
    "text = \"Far out in the uncharted backwaters of the unfashionable end of the western spiral arm of the Galaxy lies a small unregarded yellow sun.\\nOrbiting this at a distance of roughly ninety-two million miles is an utterly insignificant little blue green planet whose ape-descended life forms are so amazingly primitive that they still think digital watches are a pretty neat idea.\""
   ]
  },
  {
   "cell_type": "code",
   "execution_count": 21,
   "id": "9436d8a3",
   "metadata": {},
   "outputs": [],
   "source": [
    "with open(\"my-text-once.txt\", \"w\") as file:\n",
    "    file.write(text)"
   ]
  },
  {
   "cell_type": "code",
   "execution_count": 22,
   "id": "c150efbb-1b59-4dfd-adec-90c3cb696704",
   "metadata": {},
   "outputs": [],
   "source": [
    "with open(\"my-text-once.txt\", \"a\") as file:  # Appending\n",
    "    file.write(text)"
   ]
  },
  {
   "attachments": {},
   "cell_type": "markdown",
   "id": "d5b0596d",
   "metadata": {},
   "source": [
    "### Writing to a file, line by line"
   ]
  },
  {
   "cell_type": "code",
   "execution_count": 19,
   "id": "b6ffda1e-74be-40de-ad67-32bea54df948",
   "metadata": {},
   "outputs": [],
   "source": [
    "with open(\"my-text-lines.txt\", \"w\") as file:\n",
    "    for line in text.splitlines():\n",
    "        file.writelines(line)"
   ]
  },
  {
   "cell_type": "code",
   "execution_count": 20,
   "id": "0d5fe885-60b5-4c29-8b6a-e36b904a2413",
   "metadata": {},
   "outputs": [
    {
     "data": {
      "text/plain": [
       "['Far out in the uncharted backwaters of the unfashionable end of the western spiral arm of the Galaxy lies a small unregarded yellow sun.',\n",
       " 'Orbiting this at a distance of roughly ninety-two million miles is an utterly insignificant little blue green planet whose ape-descended life forms are so amazingly primitive that they still think digital watches are a pretty neat idea.']"
      ]
     },
     "execution_count": 20,
     "metadata": {},
     "output_type": "execute_result"
    }
   ],
   "source": [
    "text.splitlines()"
   ]
  },
  {
   "attachments": {},
   "cell_type": "markdown",
   "id": "11f443e5",
   "metadata": {},
   "source": [
    "# 3 Some useful packages"
   ]
  },
  {
   "cell_type": "code",
   "execution_count": 2,
   "id": "d57c4a55-e1cd-4e9e-8dd8-ff6c51d5bfa7",
   "metadata": {},
   "outputs": [],
   "source": [
    "import os\n",
    "import glob\n",
    "import shutil"
   ]
  },
  {
   "attachments": {},
   "cell_type": "markdown",
   "id": "77987044",
   "metadata": {},
   "source": [
    "# 4 OS safe paths"
   ]
  },
  {
   "cell_type": "code",
   "execution_count": 26,
   "id": "b0a34299-3391-4af6-839a-c50fbceebeea",
   "metadata": {},
   "outputs": [
    {
     "name": "stdout",
     "output_type": "stream",
     "text": [
      "./all-data/sg-data/data-01.txt\n"
     ]
    }
   ],
   "source": [
    "# Adjusts for different OS, good for writing paths\n",
    "path = os.path.join(\".\", \"all-data\", \"sg-data\", \"data-01.txt\")\n",
    "print(path)"
   ]
  },
  {
   "attachments": {},
   "cell_type": "markdown",
   "id": "0a94170e",
   "metadata": {},
   "source": [
    "# 5 Folders"
   ]
  },
  {
   "attachments": {},
   "cell_type": "markdown",
   "id": "99ad907e",
   "metadata": {},
   "source": [
    "## 5.1 Creating folders"
   ]
  },
  {
   "cell_type": "code",
   "execution_count": 27,
   "id": "b531f122-b7a4-40d0-bfcb-4d57af5a3b1f",
   "metadata": {},
   "outputs": [
    {
     "name": "stdout",
     "output_type": "stream",
     "text": [
      "Creating people/Jack\n",
      "Creating people/Jill\n",
      "Creating people/Jane\n"
     ]
    }
   ],
   "source": [
    "os.mkdir(\"people\")\n",
    "\n",
    "for person in [\"Jack\", \"Jill\", \"Jane\"]:\n",
    "    path = os.path.join(\"people\", person)\n",
    "    print(f\"Creating {path}\")\n",
    "    os.mkdir(path)"
   ]
  },
  {
   "cell_type": "code",
   "execution_count": 29,
   "id": "a3f4f519-71f7-4d1f-b876-4c9fb6cce611",
   "metadata": {},
   "outputs": [
    {
     "ename": "FileExistsError",
     "evalue": "[Errno 17] File exists: 'People'",
     "output_type": "error",
     "traceback": [
      "\u001b[0;31m---------------------------------------------------------------------------\u001b[0m",
      "\u001b[0;31mFileExistsError\u001b[0m                           Traceback (most recent call last)",
      "Cell \u001b[0;32mIn[29], line 2\u001b[0m\n\u001b[1;32m      1\u001b[0m \u001b[38;5;66;03m# Mac OS and Windows are case-insensitive so this will not work\u001b[39;00m\n\u001b[0;32m----> 2\u001b[0m \u001b[43mos\u001b[49m\u001b[38;5;241;43m.\u001b[39;49m\u001b[43mmkdir\u001b[49m\u001b[43m(\u001b[49m\u001b[38;5;124;43m\"\u001b[39;49m\u001b[38;5;124;43mPeople\u001b[39;49m\u001b[38;5;124;43m\"\u001b[39;49m\u001b[43m)\u001b[49m\n",
      "\u001b[0;31mFileExistsError\u001b[0m: [Errno 17] File exists: 'People'"
     ]
    }
   ],
   "source": [
    "# Mac OS and Windows are case-insensitive so this will not work\n",
    "os.mkdir(\"People\")"
   ]
  },
  {
   "attachments": {},
   "cell_type": "markdown",
   "id": "9832ee68",
   "metadata": {},
   "source": [
    "## 5.2 Checking for existence"
   ]
  },
  {
   "attachments": {},
   "cell_type": "markdown",
   "id": "7ec4efa7",
   "metadata": {},
   "source": [
    "### Using try-except"
   ]
  },
  {
   "cell_type": "code",
   "execution_count": 33,
   "id": "ada3a344",
   "metadata": {},
   "outputs": [
    {
     "name": "stdout",
     "output_type": "stream",
     "text": [
      "people/Jack already exists; skipping creation.\n",
      "Creating people/Jill\n",
      "people/Jane already exists; skipping creation.\n"
     ]
    }
   ],
   "source": [
    "for person in [\"Jack\", \"Jill\", \"Jane\"]:\n",
    "    path = os.path.join(\"people\", person)\n",
    "    try:\n",
    "        os.mkdir(path)\n",
    "        print(f\"Creating {path}\")\n",
    "    except FileExistsError:\n",
    "        print(f\"{path} already exists; skipping creation.\")"
   ]
  },
  {
   "attachments": {},
   "cell_type": "markdown",
   "id": "04b926f0",
   "metadata": {},
   "source": [
    "### Using os.path.exists()"
   ]
  },
  {
   "cell_type": "code",
   "execution_count": 34,
   "id": "6cd94f81",
   "metadata": {},
   "outputs": [
    {
     "name": "stdout",
     "output_type": "stream",
     "text": [
      "people/Jack already exists; skipping creation.\n",
      "people/Jill already exists; skipping creation.\n",
      "people/Jane already exists; skipping creation.\n"
     ]
    }
   ],
   "source": [
    "for person in [\"Jack\", \"Jill\", \"Jane\"]:\n",
    "    path = os.path.join(\"people\", person)\n",
    "    if os.path.exists(path):\n",
    "        print(f\"{path} already exists; skipping creation.\")\n",
    "    else:\n",
    "        os.mkdir(path)\n",
    "        print(f\"Creating {path}\")"
   ]
  },
  {
   "attachments": {},
   "cell_type": "markdown",
   "id": "ccfbe983",
   "metadata": {},
   "source": [
    "## 5.3 Copying files"
   ]
  },
  {
   "cell_type": "code",
   "execution_count": 9,
   "id": "b6bbddf8-101b-462c-b32e-4a7a156dd02f",
   "metadata": {},
   "outputs": [
    {
     "name": "stdout",
     "output_type": "stream",
     "text": [
      "Copied sp2273_logo.png to people/Jack\n",
      "Copied sp2273_logo.png to people/Jill\n",
      "Copied sp2273_logo.png to people/Jane\n"
     ]
    }
   ],
   "source": [
    "file_to_copy = \"sp2273_logo.png\"\n",
    "for person in [\"Jack\", \"Jill\", \"Jane\"]:\n",
    "    path_to_destination = os.path.join(\"people\", person)\n",
    "    shutil.copy(file_to_copy, path_to_destination)\n",
    "    print(f\"Copied {file_to_copy} to {path_to_destination}\")"
   ]
  },
  {
   "cell_type": "code",
   "execution_count": 10,
   "id": "7b4cb4c6-eb82-4616-b3e3-1d16f081ca54",
   "metadata": {},
   "outputs": [
    {
     "name": "stdout",
     "output_type": "stream",
     "text": [
      "people/Jack/sp2273_logo.png already exists\n",
      "people/Jill/sp2273_logo.png already exists\n",
      "people/Jane/sp2273_logo.png already exists\n"
     ]
    }
   ],
   "source": [
    "file_to_copy = \"sp2273_logo.png\"\n",
    "for person in [\"Jack\", \"Jill\", \"Jane\"]:\n",
    "    path_to_destination = os.path.join(\"people\", person)\n",
    "    \n",
    "    file_path = os.path.join(path_to_destination, file_to_copy)\n",
    "    \n",
    "    if os.path.exists(file_path):\n",
    "        print(f\"{file_path} already exists\")\n",
    "    else:\n",
    "        shutil.copy(file_to_copy, path_to_destination)\n",
    "        print(f\"Copied {file_to_copy} to {path_to_destination}\")"
   ]
  },
  {
   "cell_type": "code",
   "execution_count": 11,
   "id": "93a5af72-83ce-4fc4-b503-6c71dbd53c69",
   "metadata": {},
   "outputs": [
    {
     "name": "stdout",
     "output_type": "stream",
     "text": [
      "Moved logo to people/Jack/imgs/sp2273_logo.png\n",
      "Moved logo to people/Jill/imgs/sp2273_logo.png\n",
      "Moved logo to people/Jane/imgs/sp2273_logo.png\n"
     ]
    }
   ],
   "source": [
    "file_to_copy = \"sp2273_logo.png\"\n",
    "for person in [\"Jack\", \"Jill\", \"Jane\"]:\n",
    "    # Create folder \"imgs\"\n",
    "    path_to_imgs = os.path.join(\"people\", person, \"imgs\")\n",
    "    if not os.path.exists(path_to_imgs):\n",
    "        os.mkdir(path_to_imgs)\n",
    "\n",
    "    # Move logo file\n",
    "    current_path_of_logo = os.path.join(\"people\", person, file_to_copy)\n",
    "    new_path_of_logo = os.path.join(\"people\", person, \"imgs\", file_to_copy)\n",
    "\n",
    "    shutil.move(current_path_of_logo, new_path_of_logo)\n",
    "    print(f\"Moved logo to {new_path_of_logo}\")"
   ]
  },
  {
   "attachments": {},
   "cell_type": "markdown",
   "id": "4f21a7e2",
   "metadata": {},
   "source": [
    "# 6 Listing and looking for files"
   ]
  },
  {
   "cell_type": "markdown",
   "id": "7b97bd3f-4681-4465-82d9-2516cb3b4a47",
   "metadata": {},
   "source": [
    "**Example 1**"
   ]
  },
  {
   "cell_type": "code",
   "execution_count": 15,
   "id": "998bd240-b971-4633-812b-a7509acd4334",
   "metadata": {},
   "outputs": [
    {
     "data": {
      "text/plain": [
       "['my-text-once.txt',\n",
       " 'test1.txt',\n",
       " 'test2.xlsx',\n",
       " 'files,_folders_&_os_(need).ipynb',\n",
       " 'sp2273_logo.png',\n",
       " 'people',\n",
       " 'my-text-lines.txt']"
      ]
     },
     "execution_count": 15,
     "metadata": {},
     "output_type": "execute_result"
    }
   ],
   "source": [
    "glob.glob(\"*\")  # * - anything"
   ]
  },
  {
   "cell_type": "markdown",
   "id": "38f908fb-d66b-4916-bb90-dc0282311b45",
   "metadata": {},
   "source": [
    "**Example 2**"
   ]
  },
  {
   "cell_type": "code",
   "execution_count": 16,
   "id": "23600d41-1289-4178-bdb0-5235daf2412c",
   "metadata": {},
   "outputs": [
    {
     "data": {
      "text/plain": [
       "['people']"
      ]
     },
     "execution_count": 16,
     "metadata": {},
     "output_type": "execute_result"
    }
   ],
   "source": [
    "glob.glob(\"peo*\")"
   ]
  },
  {
   "cell_type": "markdown",
   "id": "6b618dc9-be8e-4683-bc90-c256e5297911",
   "metadata": {},
   "source": [
    "**Example 3**"
   ]
  },
  {
   "cell_type": "code",
   "execution_count": 17,
   "id": "201ffbae-c861-491a-a65c-c69422e25e9d",
   "metadata": {},
   "outputs": [
    {
     "data": {
      "text/plain": [
       "['people/Jill', 'people/Jack', 'people/Jane']"
      ]
     },
     "execution_count": 17,
     "metadata": {},
     "output_type": "execute_result"
    }
   ],
   "source": [
    "glob.glob(\"peo*/*\")"
   ]
  },
  {
   "cell_type": "markdown",
   "id": "6f3d96c0-193a-4014-b5e3-69b0ad6e659f",
   "metadata": {},
   "source": [
    "**Example 4**"
   ]
  },
  {
   "cell_type": "code",
   "execution_count": 18,
   "id": "3096fff9-3b53-4a82-86dc-53032b16ef13",
   "metadata": {},
   "outputs": [
    {
     "data": {
      "text/plain": [
       "['people/',\n",
       " 'people/Jill',\n",
       " 'people/Jill/imgs',\n",
       " 'people/Jill/imgs/sp2273_logo.png',\n",
       " 'people/Jack',\n",
       " 'people/Jack/imgs',\n",
       " 'people/Jack/imgs/sp2273_logo.png',\n",
       " 'people/Jane',\n",
       " 'people/Jane/imgs',\n",
       " 'people/Jane/imgs/sp2273_logo.png']"
      ]
     },
     "execution_count": 18,
     "metadata": {},
     "output_type": "execute_result"
    }
   ],
   "source": [
    "glob.glob(\"people/**\", recursive=True)"
   ]
  },
  {
   "cell_type": "markdown",
   "id": "5976a9de-bbb9-42a8-af49-9322d87e93a6",
   "metadata": {},
   "source": [
    "**Example 5**"
   ]
  },
  {
   "cell_type": "code",
   "execution_count": 19,
   "id": "e23695bb-2505-44fa-9c5e-7e9748d32a6c",
   "metadata": {},
   "outputs": [
    {
     "data": {
      "text/plain": [
       "['people/Jill/imgs/sp2273_logo.png',\n",
       " 'people/Jack/imgs/sp2273_logo.png',\n",
       " 'people/Jane/imgs/sp2273_logo.png']"
      ]
     },
     "execution_count": 19,
     "metadata": {},
     "output_type": "execute_result"
    }
   ],
   "source": [
    "glob.glob(\"people/**/*.png\", recursive=True)"
   ]
  },
  {
   "attachments": {},
   "cell_type": "markdown",
   "id": "a119ca9a",
   "metadata": {},
   "source": [
    "# 7 Extracting file info"
   ]
  },
  {
   "cell_type": "code",
   "execution_count": 26,
   "id": "8f486c0f-ee6e-4943-8fe5-10d77188c230",
   "metadata": {},
   "outputs": [
    {
     "name": "stdout",
     "output_type": "stream",
     "text": [
      "sp2273_logo.png png\n"
     ]
    }
   ],
   "source": [
    "path = \"people/Jane/imgs/sp2273_logo.png\"\n",
    "filename = path.split(os.path.sep)[-1]\n",
    "extension = filename.split(\".\")[-1]\n",
    "print(filename, extension)"
   ]
  },
  {
   "cell_type": "code",
   "execution_count": 23,
   "id": "dcd142b9-9a33-4f8d-8ef6-aad64c91171e",
   "metadata": {},
   "outputs": [
    {
     "data": {
      "text/plain": [
       "('people/Jane/imgs', 'sp2273_logo.png')"
      ]
     },
     "execution_count": 23,
     "metadata": {},
     "output_type": "execute_result"
    }
   ],
   "source": [
    "path = \"people/Jane/imgs/sp2273_logo.png\"\n",
    "os.path.split(path)  # Splits file name"
   ]
  },
  {
   "cell_type": "code",
   "execution_count": 24,
   "id": "757126e1-47fa-49a5-a802-846a995bfd1e",
   "metadata": {},
   "outputs": [
    {
     "data": {
      "text/plain": [
       "('people/Jane/imgs/sp2273_logo', '.png')"
      ]
     },
     "execution_count": 24,
     "metadata": {},
     "output_type": "execute_result"
    }
   ],
   "source": [
    "os.path.splitext(path)  # Splits extension"
   ]
  },
  {
   "cell_type": "code",
   "execution_count": 25,
   "id": "eb8ec13d-0c3b-490d-a84c-b17f5281851e",
   "metadata": {},
   "outputs": [
    {
     "data": {
      "text/plain": [
       "'people/Jane/imgs'"
      ]
     },
     "execution_count": 25,
     "metadata": {},
     "output_type": "execute_result"
    }
   ],
   "source": [
    "os.path.dirname(path)  # Shows the directory"
   ]
  },
  {
   "attachments": {},
   "cell_type": "markdown",
   "id": "03c71fd6",
   "metadata": {},
   "source": [
    "# 8 Deleting stuff"
   ]
  },
  {
   "cell_type": "code",
   "execution_count": null,
   "id": "1163ca17-1ae5-4a06-a171-c6ac0b56a329",
   "metadata": {},
   "outputs": [],
   "source": [
    "os.remove(\"people/Ringo/imgs/sp2273_logo.png\")  # Removing a file"
   ]
  },
  {
   "cell_type": "code",
   "execution_count": null,
   "id": "9cce02d9-7246-42fe-8dda-115a84f0a49d",
   "metadata": {},
   "outputs": [],
   "source": [
    "os.rmdir(\"people/Ringo\")  # For an empty directory"
   ]
  },
  {
   "cell_type": "code",
   "execution_count": null,
   "id": "80babf3e-da98-4b8e-a71b-a65bc27d2369",
   "metadata": {},
   "outputs": [],
   "source": [
    "shutil.rmtree(\"people/Ringo\")  # For a directory with files"
   ]
  }
 ],
 "metadata": {
  "kernelspec": {
   "display_name": "Python 3 (ipykernel)",
   "language": "python",
   "name": "python3"
  },
  "language_info": {
   "codemirror_mode": {
    "name": "ipython",
    "version": 3
   },
   "file_extension": ".py",
   "mimetype": "text/x-python",
   "name": "python",
   "nbconvert_exporter": "python",
   "pygments_lexer": "ipython3",
   "version": "3.11.5"
  },
  "toc": {
   "base_numbering": 1,
   "nav_menu": {},
   "number_sections": true,
   "sideBar": true,
   "skip_h1_title": false,
   "title_cell": "Table of Contents",
   "title_sidebar": "Contents",
   "toc_cell": false,
   "toc_position": {},
   "toc_section_display": true,
   "toc_window_display": false
  },
  "vscode": {
   "interpreter": {
    "hash": "31f2aee4e71d21fbe5cf8b01ff0e069b9275f58929596ceb00d14d90e3e16cd6"
   }
  }
 },
 "nbformat": 4,
 "nbformat_minor": 5
}
