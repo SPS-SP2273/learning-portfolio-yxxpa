{
 "cells": [
  {
   "attachments": {},
   "cell_type": "markdown",
   "id": "123456",
   "metadata": {},
   "source": [
    "<div style=\"text-align:left;font-size:2em\"><span style=\"font-weight:bolder;font-size:1.25em\">SP2273 | Learning Portfolio</span><br><br><span style=\"font-weight:bold;color:darkred\">Fundamentals (Nice)</span></div>"
   ]
  },
  {
   "cell_type": "code",
   "execution_count": 12,
   "id": "8f459a55-2146-4810-88a4-c05974f5b5df",
   "metadata": {},
   "outputs": [],
   "source": [
    "import numpy as np"
   ]
  },
  {
   "attachments": {},
   "cell_type": "markdown",
   "id": "11505ebd",
   "metadata": {},
   "source": [
    "# 1 If if is not enough"
   ]
  },
  {
   "cell_type": "code",
   "execution_count": 1,
   "id": "7f919a21-6019-4906-9d24-c1c2f00abb65",
   "metadata": {},
   "outputs": [
    {
     "name": "stdout",
     "output_type": "stream",
     "text": [
      "Good morning!\n"
     ]
    }
   ],
   "source": [
    "time_of_day = \"morning\"\n",
    "\n",
    "match time_of_day:\n",
    "    case \"morning\":\n",
    "        print(\"Good morning!\")\n",
    "    case \"afternoon\":\n",
    "        print(\"Good afternoon!\")\n",
    "    case \"evening\":\n",
    "        print(\"Good evening!\")\n",
    "    case \"night\":\n",
    "        print(\"Good night!\")\n",
    "    case _:\n",
    "        print(\"Hello!\")"
   ]
  },
  {
   "attachments": {},
   "cell_type": "markdown",
   "id": "870a4118",
   "metadata": {},
   "source": [
    "# 2 Ternary operators or Conditional Statements"
   ]
  },
  {
   "cell_type": "markdown",
   "id": "8557f3eb-5f1c-4c64-b09e-b7580db9f484",
   "metadata": {},
   "source": [
    "**Example 1**"
   ]
  },
  {
   "cell_type": "code",
   "execution_count": 7,
   "id": "d76174f6-a863-466f-8bd6-e8d7ca32cda0",
   "metadata": {},
   "outputs": [
    {
     "name": "stdout",
     "output_type": "stream",
     "text": [
      "negative\n"
     ]
    }
   ],
   "source": [
    "number = -1\n",
    "sign = \"positive\" if number > 0 else \"negative\"\n",
    "\n",
    "print(sign)"
   ]
  },
  {
   "cell_type": "markdown",
   "id": "471e0404-9dbd-4b37-b329-4ef6f4b7fa74",
   "metadata": {},
   "source": [
    "**Example 2**"
   ]
  },
  {
   "cell_type": "code",
   "execution_count": 8,
   "id": "d42708d4-1270-4820-ae56-8e23dfc2218e",
   "metadata": {},
   "outputs": [
    {
     "name": "stdout",
     "output_type": "stream",
     "text": [
      "No money!\n"
     ]
    }
   ],
   "source": [
    "money = None\n",
    "amount_saved = money or \"No money!\"\n",
    "\n",
    "print(amount_saved)"
   ]
  },
  {
   "attachments": {},
   "cell_type": "markdown",
   "id": "97829d25",
   "metadata": {},
   "source": [
    "# 3 Swapping values"
   ]
  },
  {
   "cell_type": "code",
   "execution_count": 11,
   "id": "7fd02e3e-d09e-448a-a04e-e7cd7deae531",
   "metadata": {},
   "outputs": [
    {
     "name": "stdout",
     "output_type": "stream",
     "text": [
      "1 2 3\n"
     ]
    }
   ],
   "source": [
    "a, b, c = 3, 2, 1\n",
    "a, b, c = c, b, a\n",
    "\n",
    "print(a, b, c)"
   ]
  },
  {
   "attachments": {},
   "cell_type": "markdown",
   "id": "dbf60f7c",
   "metadata": {},
   "source": [
    "# 4 There are more types"
   ]
  },
  {
   "cell_type": "code",
   "execution_count": 17,
   "id": "888e9820-bea0-47d0-b3e3-c06e10661624",
   "metadata": {},
   "outputs": [
    {
     "name": "stdout",
     "output_type": "stream",
     "text": [
      "float               : 2.220446049250313e-16\n",
      "float16             : 0.000977\n",
      "float32             : 1.1920929e-07\n",
      "float64             : 2.220446049250313e-16\n",
      "longdouble          : 1.084202172485504434e-19\n"
     ]
    }
   ],
   "source": [
    "my_types = [float, np.float16, np.float32, np.float64, np.float128]\n",
    "\n",
    "for my_type in my_types:\n",
    "    print(f\"{my_type.__name__:<20s}:\", np.finfo(my_type).eps)"
   ]
  },
  {
   "attachments": {},
   "cell_type": "markdown",
   "id": "dfd70cf3",
   "metadata": {},
   "source": [
    "# 5 Operator precedance"
   ]
  },
  {
   "cell_type": "code",
   "execution_count": 18,
   "id": "7bcdb3f6-6bf0-4d33-9e0d-df8ef7a17b22",
   "metadata": {},
   "outputs": [
    {
     "data": {
      "text/plain": [
       "162"
      ]
     },
     "execution_count": 18,
     "metadata": {},
     "output_type": "execute_result"
    }
   ],
   "source": [
    "2 * 3 ** 4"
   ]
  },
  {
   "cell_type": "code",
   "execution_count": 19,
   "id": "8bc2c7f9-01eb-4c09-808f-a91e6137982f",
   "metadata": {},
   "outputs": [
    {
     "data": {
      "text/plain": [
       "81"
      ]
     },
     "execution_count": 19,
     "metadata": {},
     "output_type": "execute_result"
    }
   ],
   "source": [
    "3 ** 2 ** 2"
   ]
  },
  {
   "cell_type": "code",
   "execution_count": 20,
   "id": "ad99d3df-9208-4afd-b7e7-bacf6ee7f394",
   "metadata": {},
   "outputs": [
    {
     "data": {
      "text/plain": [
       "27"
      ]
     },
     "execution_count": 20,
     "metadata": {},
     "output_type": "execute_result"
    }
   ],
   "source": [
    "3 ** (1 + 2)"
   ]
  },
  {
   "cell_type": "code",
   "execution_count": 21,
   "id": "1f5ea62c-328f-412e-ad66-e0e2f638c321",
   "metadata": {},
   "outputs": [
    {
     "data": {
      "text/plain": [
       "True"
      ]
     },
     "execution_count": 21,
     "metadata": {},
     "output_type": "execute_result"
    }
   ],
   "source": [
    "2 * (1 - 2) != 3 ** (4 + 1)"
   ]
  },
  {
   "attachments": {},
   "cell_type": "markdown",
   "id": "c40ecde3",
   "metadata": {},
   "source": [
    "# 6 Variables in Python are just names"
   ]
  },
  {
   "attachments": {},
   "cell_type": "markdown",
   "id": "e1c384cf",
   "metadata": {},
   "source": [
    "## 6.1 The Problem"
   ]
  },
  {
   "cell_type": "markdown",
   "id": "6295e70a-50b9-4a27-88c9-9affb0337683",
   "metadata": {},
   "source": [
    "I predict that the answer will be x: [1, 2], y: [1, 2, 3]"
   ]
  },
  {
   "cell_type": "code",
   "execution_count": 44,
   "id": "0cce5457-9a4b-4917-89fd-041882fdd665",
   "metadata": {},
   "outputs": [
    {
     "name": "stdout",
     "output_type": "stream",
     "text": [
      "x: [1, 2, 3], y: [1, 2, 3]\n"
     ]
    }
   ],
   "source": [
    "x = [1, 2]\n",
    "y = x\n",
    "y.append(3)\n",
    "\n",
    "print(f\"x: {x}, y: {y}\")  # x was modified as well (lists are mutable)."
   ]
  },
  {
   "attachments": {},
   "cell_type": "markdown",
   "id": "ef41d516",
   "metadata": {},
   "source": [
    "## 6.2 An explanation"
   ]
  },
  {
   "cell_type": "code",
   "execution_count": 24,
   "id": "4303f322-e38f-4b33-ae14-58785272746a",
   "metadata": {},
   "outputs": [
    {
     "data": {
      "text/plain": [
       "'CODE 1'"
      ]
     },
     "execution_count": 24,
     "metadata": {},
     "output_type": "execute_result"
    }
   ],
   "source": [
    "'''CODE 1'''"
   ]
  },
  {
   "cell_type": "code",
   "execution_count": 28,
   "id": "5d00b5e5-13e6-4fa0-a9b0-ec70e9f7e160",
   "metadata": {},
   "outputs": [
    {
     "name": "stdout",
     "output_type": "stream",
     "text": [
      "x: 4389096792, y: 4389096792, 1: 4389096792\n"
     ]
    }
   ],
   "source": [
    "# Names that are bound to 1\n",
    "x = 1\n",
    "y = 1\n",
    "\n",
    "print(f\"x: {id(x)}, y: {id(y)}, 1: {id(1)}\")"
   ]
  },
  {
   "cell_type": "code",
   "execution_count": 27,
   "id": "81426764-c5a8-4dd3-87f9-86e68c88c866",
   "metadata": {},
   "outputs": [
    {
     "data": {
      "text/plain": [
       "'CODE 2'"
      ]
     },
     "execution_count": 27,
     "metadata": {},
     "output_type": "execute_result"
    }
   ],
   "source": [
    "'''CODE 2'''"
   ]
  },
  {
   "cell_type": "code",
   "execution_count": 32,
   "id": "b66ea71a-eb1a-487f-8a50-a717e83ff56f",
   "metadata": {},
   "outputs": [
    {
     "name": "stdout",
     "output_type": "stream",
     "text": [
      "x: 4389096792, y: 4389096824\n"
     ]
    }
   ],
   "source": [
    "x = 1\n",
    "y = x + 1  # y is bound to the object 2\n",
    "\n",
    "print(f\"x: {id(x)}, y: {id(y)}\")"
   ]
  },
  {
   "cell_type": "code",
   "execution_count": 31,
   "id": "134f8071-e4ae-4ee3-85b2-6c1f2ab7e8df",
   "metadata": {},
   "outputs": [
    {
     "name": "stdout",
     "output_type": "stream",
     "text": [
      "1: 4389096792, 2: 4389096824\n"
     ]
    }
   ],
   "source": [
    "print(f\"1: {id(1)}, 2: {id(2)}\")"
   ]
  },
  {
   "cell_type": "markdown",
   "id": "540bb2e1-2cf6-449f-b1fd-321aeca1f348",
   "metadata": {},
   "source": [
    "**Immutable** types: int, str, float, bool, etc.\n",
    "\n",
    "**Mutable** types: lists, dictionaries, instances of classes, etc."
   ]
  },
  {
   "attachments": {},
   "cell_type": "markdown",
   "id": "097140ad",
   "metadata": {},
   "source": [
    "## 6.3 A solution"
   ]
  },
  {
   "cell_type": "code",
   "execution_count": 48,
   "id": "b65ca1c0-88c9-4858-92d5-04a449822f73",
   "metadata": {},
   "outputs": [
    {
     "name": "stdout",
     "output_type": "stream",
     "text": [
      "[1, 2]\n",
      "x: 4452583552, y: 4452588992\n"
     ]
    }
   ],
   "source": [
    "x = [1, 2]\n",
    "y = x.copy()\n",
    "print(y)\n",
    "\n",
    "print(f\"x: {id(x)}, y: {id(y)}\")"
   ]
  },
  {
   "attachments": {},
   "cell_type": "markdown",
   "id": "47fdd001",
   "metadata": {},
   "source": [
    "# 7 == is not the same as is"
   ]
  },
  {
   "cell_type": "code",
   "execution_count": 43,
   "id": "c3163823-9380-4f3d-b2e6-98385692ee7b",
   "metadata": {},
   "outputs": [
    {
     "data": {
      "text/plain": [
       "False"
      ]
     },
     "execution_count": 43,
     "metadata": {},
     "output_type": "execute_result"
    }
   ],
   "source": [
    "x = [1, 2]\n",
    "y = [1, 2]\n",
    "x is y"
   ]
  },
  {
   "cell_type": "code",
   "execution_count": 42,
   "id": "f72458cc-d1d2-4e56-8bd1-8fa2456dde31",
   "metadata": {},
   "outputs": [
    {
     "data": {
      "text/plain": [
       "True"
      ]
     },
     "execution_count": 42,
     "metadata": {},
     "output_type": "execute_result"
    }
   ],
   "source": [
    "x = [1, 2]\n",
    "y = [1, 2]\n",
    "x == y"
   ]
  },
  {
   "attachments": {},
   "cell_type": "markdown",
   "id": "12829930",
   "metadata": {},
   "source": [
    "## Footnotes"
   ]
  }
 ],
 "metadata": {
  "kernelspec": {
   "display_name": "Python 3 (ipykernel)",
   "language": "python",
   "name": "python3"
  },
  "language_info": {
   "codemirror_mode": {
    "name": "ipython",
    "version": 3
   },
   "file_extension": ".py",
   "mimetype": "text/x-python",
   "name": "python",
   "nbconvert_exporter": "python",
   "pygments_lexer": "ipython3",
   "version": "3.11.5"
  },
  "toc": {
   "base_numbering": 1,
   "nav_menu": {},
   "number_sections": true,
   "sideBar": true,
   "skip_h1_title": false,
   "title_cell": "Table of Contents",
   "title_sidebar": "Contents",
   "toc_cell": false,
   "toc_position": {},
   "toc_section_display": true,
   "toc_window_display": false
  },
  "vscode": {
   "interpreter": {
    "hash": "31f2aee4e71d21fbe5cf8b01ff0e069b9275f58929596ceb00d14d90e3e16cd6"
   }
  }
 },
 "nbformat": 4,
 "nbformat_minor": 5
}
