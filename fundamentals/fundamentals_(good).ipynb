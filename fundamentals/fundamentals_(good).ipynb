{
 "cells": [
  {
   "attachments": {},
   "cell_type": "markdown",
   "id": "123456",
   "metadata": {},
   "source": [
    "<div style=\"text-align:left;font-size:2em\"><span style=\"font-weight:bolder;font-size:1.25em\">SP2273 | Learning Portfolio</span><br><br><span style=\"font-weight:bold;color:darkred\">Fundamentals (Good)</span></div>"
   ]
  },
  {
   "attachments": {},
   "cell_type": "markdown",
   "id": "04af565d",
   "metadata": {},
   "source": [
    "# 1 There is more to if"
   ]
  },
  {
   "cell_type": "code",
   "execution_count": null,
   "id": "6b915b37-054f-46b6-b739-0712e4275076",
   "metadata": {},
   "outputs": [],
   "source": [
    "name = \"Batman\"\n",
    "\n",
    "if name == \"Batman\":\n",
    "    print(\"Hello Batman!\")\n",
    "elif name == \"Robin\":\n",
    "    print(\"Hello Sidekick!\")\n",
    "elif name == \"Who\":\n",
    "    print(\"Who?\")\n",
    "else:\n",
    "    print(\"Hello World!\")"
   ]
  },
  {
   "attachments": {},
   "cell_type": "markdown",
   "id": "8e55c84d",
   "metadata": {},
   "source": [
    "# 2 Asking questions"
   ]
  },
  {
   "cell_type": "code",
   "execution_count": 1,
   "id": "5eda44f6-8391-41a8-bc18-00738b3e9767",
   "metadata": {},
   "outputs": [],
   "source": [
    "fruits = [\"orange\", \"blueberry\", \"cherry\", \"mango\"]\n",
    "vegetables = [\"potato\", \"spinach\", \"kale\", \"onion\"]"
   ]
  },
  {
   "cell_type": "code",
   "execution_count": 2,
   "id": "7ade2982-4d50-4a9b-bc8e-410123b5e81d",
   "metadata": {},
   "outputs": [
    {
     "data": {
      "text/plain": [
       "True"
      ]
     },
     "execution_count": 2,
     "metadata": {},
     "output_type": "execute_result"
    }
   ],
   "source": [
    "\"mango\" in fruits"
   ]
  },
  {
   "cell_type": "code",
   "execution_count": 3,
   "id": "2e04e62b-b968-49b0-84e4-f6e322656a10",
   "metadata": {},
   "outputs": [
    {
     "data": {
      "text/plain": [
       "False"
      ]
     },
     "execution_count": 3,
     "metadata": {},
     "output_type": "execute_result"
    }
   ],
   "source": [
    "\"apple\" in fruits"
   ]
  },
  {
   "cell_type": "code",
   "execution_count": 4,
   "id": "e52882c1-95e9-43f4-8ad4-76166ce97640",
   "metadata": {},
   "outputs": [
    {
     "data": {
      "text/plain": [
       "True"
      ]
     },
     "execution_count": 4,
     "metadata": {},
     "output_type": "execute_result"
    }
   ],
   "source": [
    "\"banana\" not in fruits"
   ]
  },
  {
   "cell_type": "code",
   "execution_count": 5,
   "id": "624bb62f-a004-4313-a32b-46f5d22af75e",
   "metadata": {},
   "outputs": [
    {
     "data": {
      "text/plain": [
       "True"
      ]
     },
     "execution_count": 5,
     "metadata": {},
     "output_type": "execute_result"
    }
   ],
   "source": [
    "\"berry\" in \"blueberry\""
   ]
  },
  {
   "cell_type": "code",
   "execution_count": 9,
   "id": "b9540235-95c2-428c-9e83-a9a2721deeb7",
   "metadata": {},
   "outputs": [
    {
     "data": {
      "text/plain": [
       "True"
      ]
     },
     "execution_count": 9,
     "metadata": {},
     "output_type": "execute_result"
    }
   ],
   "source": [
    "(\"cherry\" in fruits) or (\"potato\" in vegetables)"
   ]
  },
  {
   "cell_type": "code",
   "execution_count": 10,
   "id": "7b194f79-5637-4e04-8c28-ce8d785668a9",
   "metadata": {},
   "outputs": [
    {
     "data": {
      "text/plain": [
       "False"
      ]
     },
     "execution_count": 10,
     "metadata": {},
     "output_type": "execute_result"
    }
   ],
   "source": [
    "(\"blueberry\" in fruits) and (\"celery\" in vegetables)"
   ]
  },
  {
   "cell_type": "code",
   "execution_count": 8,
   "id": "482748e4-4ea5-4f43-9cf6-65d74801015c",
   "metadata": {},
   "outputs": [
    {
     "data": {
      "text/plain": [
       "False"
      ]
     },
     "execution_count": 8,
     "metadata": {},
     "output_type": "execute_result"
    }
   ],
   "source": [
    "\"blueberry\" > \"mango\""
   ]
  },
  {
   "attachments": {},
   "cell_type": "markdown",
   "id": "82af4fb3",
   "metadata": {},
   "source": [
    "## 3.1 Asking Math questions"
   ]
  },
  {
   "cell_type": "code",
   "execution_count": 11,
   "id": "cbe2674b-9106-439e-a97b-26282c6b5f54",
   "metadata": {},
   "outputs": [
    {
     "data": {
      "text/plain": [
       "True"
      ]
     },
     "execution_count": 11,
     "metadata": {},
     "output_type": "execute_result"
    }
   ],
   "source": [
    "15 >= 10"
   ]
  },
  {
   "cell_type": "code",
   "execution_count": null,
   "id": "c830d9f3-ba92-44ac-8962-4a6bd7e2ef3a",
   "metadata": {},
   "outputs": [],
   "source": [
    "x = 1"
   ]
  },
  {
   "cell_type": "code",
   "execution_count": 14,
   "id": "40571ce0-79c0-4a81-a939-810c2346b0c3",
   "metadata": {},
   "outputs": [
    {
     "data": {
      "text/plain": [
       "True"
      ]
     },
     "execution_count": 14,
     "metadata": {},
     "output_type": "execute_result"
    }
   ],
   "source": [
    "x > 0 and x < 50"
   ]
  },
  {
   "cell_type": "code",
   "execution_count": 15,
   "id": "02289bd3-ee36-4650-b6cc-253882cb6cca",
   "metadata": {},
   "outputs": [
    {
     "data": {
      "text/plain": [
       "True"
      ]
     },
     "execution_count": 15,
     "metadata": {},
     "output_type": "execute_result"
    }
   ],
   "source": [
    "(x > 0) and (x < 50)"
   ]
  },
  {
   "cell_type": "code",
   "execution_count": 29,
   "id": "d9c69d7e-d233-40da-98f0-755ad8e05c41",
   "metadata": {},
   "outputs": [
    {
     "data": {
      "text/plain": [
       "True"
      ]
     },
     "execution_count": 29,
     "metadata": {},
     "output_type": "execute_result"
    }
   ],
   "source": [
    "-5 < 1 < 5"
   ]
  },
  {
   "attachments": {},
   "cell_type": "markdown",
   "id": "bcc53a23",
   "metadata": {},
   "source": [
    "# 4 Python stores information in different formats or types"
   ]
  },
  {
   "cell_type": "code",
   "execution_count": 16,
   "id": "f60de97f-ebb0-425c-b813-530e1799247d",
   "metadata": {},
   "outputs": [
    {
     "name": "stdout",
     "output_type": "stream",
     "text": [
      "1 <class 'int'>\n"
     ]
    }
   ],
   "source": [
    "a = int(1.984)\n",
    "print(a, type(a))"
   ]
  },
  {
   "cell_type": "code",
   "execution_count": 17,
   "id": "9f2f8e0d-f145-4b31-8b72-5384085f899a",
   "metadata": {},
   "outputs": [
    {
     "name": "stdout",
     "output_type": "stream",
     "text": [
      "1.984 <class 'str'>\n"
     ]
    }
   ],
   "source": [
    "a = str(1.984)\n",
    "print(a, type(a))"
   ]
  },
  {
   "cell_type": "code",
   "execution_count": 18,
   "id": "e15eea22-15e3-4197-bbd3-a10525601ccf",
   "metadata": {},
   "outputs": [
    {
     "name": "stdout",
     "output_type": "stream",
     "text": [
      "1.984 <class 'float'>\n"
     ]
    }
   ],
   "source": [
    "a = float(1.984)\n",
    "print(a, type(a))"
   ]
  },
  {
   "cell_type": "code",
   "execution_count": 19,
   "id": "a5bcd032-ed94-4c23-b773-50f5f0a17d17",
   "metadata": {},
   "outputs": [
    {
     "name": "stdout",
     "output_type": "stream",
     "text": [
      "(1.984+0j) <class 'complex'>\n"
     ]
    }
   ],
   "source": [
    "a = complex(1.984)\n",
    "print(a, type(a))"
   ]
  },
  {
   "cell_type": "code",
   "execution_count": 20,
   "id": "ef722c4f-8652-4be4-99da-8c1dbfff607f",
   "metadata": {},
   "outputs": [
    {
     "name": "stdout",
     "output_type": "stream",
     "text": [
      "4.321 <class 'float'>\n"
     ]
    }
   ],
   "source": [
    "# Typecasting\n",
    "b = \"4.321\"\n",
    "b = float(b)\n",
    "print(b, type(b))"
   ]
  },
  {
   "attachments": {},
   "cell_type": "markdown",
   "id": "cf0b28ba",
   "metadata": {},
   "source": [
    "# 5 Never compare floats directly"
   ]
  },
  {
   "attachments": {},
   "cell_type": "markdown",
   "id": "1c75c1b0",
   "metadata": {},
   "source": [
    "## 5.1 The Problem"
   ]
  },
  {
   "cell_type": "code",
   "execution_count": 21,
   "id": "58b31548-f6a9-4e3b-a5cc-ff7094bb7dc7",
   "metadata": {},
   "outputs": [
    {
     "data": {
      "text/plain": [
       "False"
      ]
     },
     "execution_count": 21,
     "metadata": {},
     "output_type": "execute_result"
    }
   ],
   "source": [
    "l = 0.1\n",
    "l3 = 0.3\n",
    "l * 3 == l3"
   ]
  },
  {
   "cell_type": "code",
   "execution_count": 22,
   "id": "f9eb5934-1b2f-4655-b294-7d46c88005a2",
   "metadata": {},
   "outputs": [
    {
     "data": {
      "text/plain": [
       "'0.29999999999999999'"
      ]
     },
     "execution_count": 22,
     "metadata": {},
     "output_type": "execute_result"
    }
   ],
   "source": [
    "f\"{0.3:.17f}\""
   ]
  },
  {
   "attachments": {},
   "cell_type": "markdown",
   "id": "28751ead",
   "metadata": {},
   "source": [
    "## 5.2 A solution"
   ]
  },
  {
   "cell_type": "code",
   "execution_count": 28,
   "id": "880056bf-0594-42d7-b2c8-e18caf2a404b",
   "metadata": {},
   "outputs": [
    {
     "data": {
      "text/plain": [
       "True"
      ]
     },
     "execution_count": 28,
     "metadata": {},
     "output_type": "execute_result"
    }
   ],
   "source": [
    "abs(l3 - l * 3) < 1E-10"
   ]
  },
  {
   "cell_type": "code",
   "execution_count": 27,
   "id": "54154150-bc91-4727-8140-a01dfe8ea573",
   "metadata": {},
   "outputs": [
    {
     "data": {
      "text/plain": [
       "True"
      ]
     },
     "execution_count": 27,
     "metadata": {},
     "output_type": "execute_result"
    }
   ],
   "source": [
    "import numpy as np\n",
    "\n",
    "np.isclose(l * 3, l3)"
   ]
  },
  {
   "attachments": {},
   "cell_type": "markdown",
   "id": "2851bb19",
   "metadata": {},
   "source": [
    "# 6 Combining English and variables"
   ]
  },
  {
   "attachments": {},
   "cell_type": "markdown",
   "id": "5ba27d3e",
   "metadata": {},
   "source": [
    "## 6.1 Structure of f-strings"
   ]
  },
  {
   "attachments": {},
   "cell_type": "markdown",
   "id": "728b1928",
   "metadata": {},
   "source": [
    "# 7 Escape sequences"
   ]
  },
  {
   "attachments": {},
   "cell_type": "markdown",
   "id": "fcf41277",
   "metadata": {},
   "source": [
    "# 8 Computers read = from Right to Left!"
   ]
  },
  {
   "attachments": {},
   "cell_type": "markdown",
   "id": "35e7bf98",
   "metadata": {},
   "source": [
    "# 9 Shorter and Cleaner Code"
   ]
  },
  {
   "attachments": {},
   "cell_type": "markdown",
   "id": "e1979e30",
   "metadata": {},
   "source": [
    "# 10 Python can be a prima-donna."
   ]
  },
  {
   "attachments": {},
   "cell_type": "markdown",
   "id": "d8d9c9e3",
   "metadata": {},
   "source": [
    "# 11 Best Practices for Scientific Computing"
   ]
  },
  {
   "attachments": {},
   "cell_type": "markdown",
   "id": "0d5d555b",
   "metadata": {},
   "source": [
    "# 12 Looking for help"
   ]
  },
  {
   "attachments": {},
   "cell_type": "markdown",
   "id": "4f9d1000",
   "metadata": {},
   "source": [
    "## References"
   ]
  },
  {
   "attachments": {},
   "cell_type": "markdown",
   "id": "cd5c4532",
   "metadata": {},
   "source": [
    "## Footnotes"
   ]
  }
 ],
 "metadata": {
  "kernelspec": {
   "display_name": "Python 3 (ipykernel)",
   "language": "python",
   "name": "python3"
  },
  "language_info": {
   "codemirror_mode": {
    "name": "ipython",
    "version": 3
   },
   "file_extension": ".py",
   "mimetype": "text/x-python",
   "name": "python",
   "nbconvert_exporter": "python",
   "pygments_lexer": "ipython3",
   "version": "3.11.5"
  },
  "toc": {
   "base_numbering": 1,
   "nav_menu": {},
   "number_sections": true,
   "sideBar": true,
   "skip_h1_title": false,
   "title_cell": "Table of Contents",
   "title_sidebar": "Contents",
   "toc_cell": false,
   "toc_position": {},
   "toc_section_display": true,
   "toc_window_display": false
  },
  "vscode": {
   "interpreter": {
    "hash": "31f2aee4e71d21fbe5cf8b01ff0e069b9275f58929596ceb00d14d90e3e16cd6"
   }
  }
 },
 "nbformat": 4,
 "nbformat_minor": 5
}
