{
 "cells": [
  {
   "attachments": {},
   "cell_type": "markdown",
   "id": "123456",
   "metadata": {},
   "source": [
    "<div style=\"text-align:left;font-size:2em\"><span style=\"font-weight:bolder;font-size:1.25em\">SP2273 | Learning Portfolio</span><br><br><span style=\"font-weight:bold;color:darkred\">Fundamentals (Good)</span></div>"
   ]
  },
  {
   "cell_type": "code",
   "execution_count": 17,
   "id": "fee81524-a7dc-470e-9ec3-f092e1fe86ae",
   "metadata": {},
   "outputs": [],
   "source": [
    "import numpy as np"
   ]
  },
  {
   "attachments": {},
   "cell_type": "markdown",
   "id": "04af565d",
   "metadata": {},
   "source": [
    "# 1 There is more to if"
   ]
  },
  {
   "cell_type": "code",
   "execution_count": null,
   "id": "6b915b37-054f-46b6-b739-0712e4275076",
   "metadata": {},
   "outputs": [],
   "source": [
    "name = \"Batman\"\n",
    "\n",
    "if name == \"Batman\":\n",
    "    print(\"Hello Batman!\")\n",
    "elif name == \"Robin\":\n",
    "    print(\"Hello Sidekick!\")\n",
    "elif name == \"Who\":\n",
    "    print(\"Who?\")\n",
    "else:\n",
    "    print(\"Hello World!\")"
   ]
  },
  {
   "attachments": {},
   "cell_type": "markdown",
   "id": "8e55c84d",
   "metadata": {},
   "source": [
    "# 2 Asking questions"
   ]
  },
  {
   "cell_type": "code",
   "execution_count": 2,
   "id": "5eda44f6-8391-41a8-bc18-00738b3e9767",
   "metadata": {},
   "outputs": [],
   "source": [
    "fruits = [\"orange\", \"blueberry\", \"cherry\", \"mango\"]\n",
    "vegetables = [\"potato\", \"spinach\", \"kale\", \"corn\"]"
   ]
  },
  {
   "cell_type": "markdown",
   "id": "f2f356bd-7bb2-4f4f-8120-e478cc7027d8",
   "metadata": {},
   "source": [
    "**Example 1**"
   ]
  },
  {
   "cell_type": "code",
   "execution_count": 2,
   "id": "7ade2982-4d50-4a9b-bc8e-410123b5e81d",
   "metadata": {},
   "outputs": [
    {
     "data": {
      "text/plain": [
       "True"
      ]
     },
     "execution_count": 2,
     "metadata": {},
     "output_type": "execute_result"
    }
   ],
   "source": [
    "\"mango\" in fruits"
   ]
  },
  {
   "cell_type": "markdown",
   "id": "d7770f8a-591c-4cad-b333-b7ca0af88f68",
   "metadata": {},
   "source": [
    "**Example 2**"
   ]
  },
  {
   "cell_type": "code",
   "execution_count": 3,
   "id": "2e04e62b-b968-49b0-84e4-f6e322656a10",
   "metadata": {},
   "outputs": [
    {
     "data": {
      "text/plain": [
       "False"
      ]
     },
     "execution_count": 3,
     "metadata": {},
     "output_type": "execute_result"
    }
   ],
   "source": [
    "\"kiwi\" in fruits"
   ]
  },
  {
   "cell_type": "markdown",
   "id": "83f4bfb1-c878-43c7-87b5-7dfeac0d5739",
   "metadata": {},
   "source": [
    "**Example 3**"
   ]
  },
  {
   "cell_type": "code",
   "execution_count": 4,
   "id": "e52882c1-95e9-43f4-8ad4-76166ce97640",
   "metadata": {},
   "outputs": [
    {
     "data": {
      "text/plain": [
       "True"
      ]
     },
     "execution_count": 4,
     "metadata": {},
     "output_type": "execute_result"
    }
   ],
   "source": [
    "\"kiwi\" not in fruits"
   ]
  },
  {
   "cell_type": "markdown",
   "id": "ea2e6a65-7440-4412-b69b-e3cedb3137a6",
   "metadata": {},
   "source": [
    "**Example 4**"
   ]
  },
  {
   "cell_type": "code",
   "execution_count": 5,
   "id": "7b194f79-5637-4e04-8c28-ce8d785668a9",
   "metadata": {},
   "outputs": [
    {
     "data": {
      "text/plain": [
       "True"
      ]
     },
     "execution_count": 5,
     "metadata": {},
     "output_type": "execute_result"
    }
   ],
   "source": [
    "(\"blueberry\" in fruits) and (\"corn\" in vegetables)"
   ]
  },
  {
   "cell_type": "markdown",
   "id": "cc68cbcf-29a8-4a5c-aa58-ab326e6fdd05",
   "metadata": {},
   "source": [
    "**Example 5**"
   ]
  },
  {
   "cell_type": "code",
   "execution_count": 6,
   "id": "b9540235-95c2-428c-9e83-a9a2721deeb7",
   "metadata": {},
   "outputs": [
    {
     "data": {
      "text/plain": [
       "True"
      ]
     },
     "execution_count": 6,
     "metadata": {},
     "output_type": "execute_result"
    }
   ],
   "source": [
    "(\"cherry\" in fruits) or (\"potato\" in vegetables)"
   ]
  },
  {
   "cell_type": "markdown",
   "id": "c0e10523-54ef-4cad-a11b-c6b46847a0fa",
   "metadata": {},
   "source": [
    "**Example 6**"
   ]
  },
  {
   "cell_type": "code",
   "execution_count": 5,
   "id": "624bb62f-a004-4313-a32b-46f5d22af75e",
   "metadata": {},
   "outputs": [
    {
     "data": {
      "text/plain": [
       "True"
      ]
     },
     "execution_count": 5,
     "metadata": {},
     "output_type": "execute_result"
    }
   ],
   "source": [
    "\"berry\" in \"blueberry\""
   ]
  },
  {
   "cell_type": "code",
   "execution_count": 8,
   "id": "482748e4-4ea5-4f43-9cf6-65d74801015c",
   "metadata": {},
   "outputs": [
    {
     "data": {
      "text/plain": [
       "False"
      ]
     },
     "execution_count": 8,
     "metadata": {},
     "output_type": "execute_result"
    }
   ],
   "source": [
    "\"blueberry\" > \"mango\""
   ]
  },
  {
   "attachments": {},
   "cell_type": "markdown",
   "id": "82af4fb3",
   "metadata": {},
   "source": [
    "## 2.1 Asking Math questions"
   ]
  },
  {
   "cell_type": "code",
   "execution_count": 11,
   "id": "cbe2674b-9106-439e-a97b-26282c6b5f54",
   "metadata": {},
   "outputs": [
    {
     "data": {
      "text/plain": [
       "True"
      ]
     },
     "execution_count": 11,
     "metadata": {},
     "output_type": "execute_result"
    }
   ],
   "source": [
    "15 >= 10"
   ]
  },
  {
   "cell_type": "code",
   "execution_count": 8,
   "id": "c830d9f3-ba92-44ac-8962-4a6bd7e2ef3a",
   "metadata": {},
   "outputs": [],
   "source": [
    "x = 1"
   ]
  },
  {
   "cell_type": "code",
   "execution_count": 14,
   "id": "40571ce0-79c0-4a81-a939-810c2346b0c3",
   "metadata": {},
   "outputs": [
    {
     "data": {
      "text/plain": [
       "True"
      ]
     },
     "execution_count": 14,
     "metadata": {},
     "output_type": "execute_result"
    }
   ],
   "source": [
    "x > 0 and x < 50"
   ]
  },
  {
   "cell_type": "code",
   "execution_count": 15,
   "id": "02289bd3-ee36-4650-b6cc-253882cb6cca",
   "metadata": {},
   "outputs": [
    {
     "data": {
      "text/plain": [
       "True"
      ]
     },
     "execution_count": 15,
     "metadata": {},
     "output_type": "execute_result"
    }
   ],
   "source": [
    "(x > 0) and (x < 50)"
   ]
  },
  {
   "cell_type": "code",
   "execution_count": 9,
   "id": "d9c69d7e-d233-40da-98f0-755ad8e05c41",
   "metadata": {},
   "outputs": [
    {
     "data": {
      "text/plain": [
       "True"
      ]
     },
     "execution_count": 9,
     "metadata": {},
     "output_type": "execute_result"
    }
   ],
   "source": [
    "-5 < x < 5"
   ]
  },
  {
   "attachments": {},
   "cell_type": "markdown",
   "id": "bcc53a23",
   "metadata": {},
   "source": [
    "# 3 Python stores information in different formats or types"
   ]
  },
  {
   "cell_type": "markdown",
   "id": "d90830f3-c480-40ae-b875-6ebf94682567",
   "metadata": {},
   "source": [
    "**Example 1**"
   ]
  },
  {
   "cell_type": "code",
   "execution_count": 10,
   "id": "f60de97f-ebb0-425c-b813-530e1799247d",
   "metadata": {},
   "outputs": [
    {
     "name": "stdout",
     "output_type": "stream",
     "text": [
      "1 <class 'int'>\n"
     ]
    }
   ],
   "source": [
    "a = int(1.984)\n",
    "print(a, type(a))"
   ]
  },
  {
   "cell_type": "markdown",
   "id": "aa04fe52-653c-4586-9e56-a5e12e3ee68c",
   "metadata": {},
   "source": [
    "**Example 2**"
   ]
  },
  {
   "cell_type": "code",
   "execution_count": 11,
   "id": "9f2f8e0d-f145-4b31-8b72-5384085f899a",
   "metadata": {},
   "outputs": [
    {
     "name": "stdout",
     "output_type": "stream",
     "text": [
      "1.984 <class 'str'>\n"
     ]
    }
   ],
   "source": [
    "a = str(1.984)\n",
    "print(a, type(a))"
   ]
  },
  {
   "cell_type": "markdown",
   "id": "eab36990-6caf-4be9-8be4-31719ba63e8d",
   "metadata": {},
   "source": [
    "**Example 3**"
   ]
  },
  {
   "cell_type": "code",
   "execution_count": 18,
   "id": "e15eea22-15e3-4197-bbd3-a10525601ccf",
   "metadata": {},
   "outputs": [
    {
     "name": "stdout",
     "output_type": "stream",
     "text": [
      "1.984 <class 'float'>\n"
     ]
    }
   ],
   "source": [
    "a = float(1.984)\n",
    "print(a, type(a))"
   ]
  },
  {
   "cell_type": "markdown",
   "id": "dcf74d47-27bd-4300-a3b7-584203e0636d",
   "metadata": {},
   "source": [
    "**Example 4**"
   ]
  },
  {
   "cell_type": "code",
   "execution_count": 19,
   "id": "a5bcd032-ed94-4c23-b773-50f5f0a17d17",
   "metadata": {},
   "outputs": [
    {
     "name": "stdout",
     "output_type": "stream",
     "text": [
      "(1.984+0j) <class 'complex'>\n"
     ]
    }
   ],
   "source": [
    "a = complex(1.984)\n",
    "print(a, type(a))"
   ]
  },
  {
   "cell_type": "code",
   "execution_count": 34,
   "id": "ef722c4f-8652-4be4-99da-8c1dbfff607f",
   "metadata": {},
   "outputs": [
    {
     "name": "stdout",
     "output_type": "stream",
     "text": [
      "4.321 <class 'str'>\n",
      "4.321 <class 'float'>\n"
     ]
    }
   ],
   "source": [
    "b = \"4.321\"\n",
    "print(b, type(b))\n",
    "\n",
    "# Typecasting\n",
    "b = float(b)\n",
    "print(b, type(b))"
   ]
  },
  {
   "attachments": {},
   "cell_type": "markdown",
   "id": "cf0b28ba",
   "metadata": {},
   "source": [
    "# 4 Never compare floats directly"
   ]
  },
  {
   "attachments": {},
   "cell_type": "markdown",
   "id": "1c75c1b0",
   "metadata": {},
   "source": [
    "## 4.1 The Problem"
   ]
  },
  {
   "cell_type": "code",
   "execution_count": 13,
   "id": "58b31548-f6a9-4e3b-a5cc-ff7094bb7dc7",
   "metadata": {},
   "outputs": [
    {
     "data": {
      "text/plain": [
       "False"
      ]
     },
     "execution_count": 13,
     "metadata": {},
     "output_type": "execute_result"
    }
   ],
   "source": [
    "a = 0.1\n",
    "a3 = 0.3\n",
    "a * 3 == a3"
   ]
  },
  {
   "cell_type": "code",
   "execution_count": 14,
   "id": "f9eb5934-1b2f-4655-b294-7d46c88005a2",
   "metadata": {},
   "outputs": [
    {
     "data": {
      "text/plain": [
       "'0.29999999999999999'"
      ]
     },
     "execution_count": 14,
     "metadata": {},
     "output_type": "execute_result"
    }
   ],
   "source": [
    "f\"{0.3:.17f}\""
   ]
  },
  {
   "attachments": {},
   "cell_type": "markdown",
   "id": "28751ead",
   "metadata": {},
   "source": [
    "## 4.2 A solution"
   ]
  },
  {
   "cell_type": "code",
   "execution_count": 16,
   "id": "880056bf-0594-42d7-b2c8-e18caf2a404b",
   "metadata": {},
   "outputs": [
    {
     "data": {
      "text/plain": [
       "True"
      ]
     },
     "execution_count": 16,
     "metadata": {},
     "output_type": "execute_result"
    }
   ],
   "source": [
    "eps = 1E-10\n",
    "abs(a3 - a * 3) < eps"
   ]
  },
  {
   "cell_type": "code",
   "execution_count": 20,
   "id": "54154150-bc91-4727-8140-a01dfe8ea573",
   "metadata": {},
   "outputs": [
    {
     "data": {
      "text/plain": [
       "True"
      ]
     },
     "execution_count": 20,
     "metadata": {},
     "output_type": "execute_result"
    }
   ],
   "source": [
    "np.isclose(a * 3, a3)"
   ]
  },
  {
   "attachments": {},
   "cell_type": "markdown",
   "id": "2851bb19",
   "metadata": {},
   "source": [
    "# 5 Combining English and variables"
   ]
  },
  {
   "cell_type": "markdown",
   "id": "6f8914b2-9d3c-44dd-a899-c9c1c04c25f9",
   "metadata": {},
   "source": [
    "**Example 1**"
   ]
  },
  {
   "cell_type": "code",
   "execution_count": 1,
   "id": "3c396641-ddd1-4c8f-bf70-13126678b286",
   "metadata": {},
   "outputs": [
    {
     "name": "stdout",
     "output_type": "stream",
     "text": [
      "Hello Batman!\n"
     ]
    }
   ],
   "source": [
    "name = \"Batman\"\n",
    "print(f\"Hello {name}!\")"
   ]
  },
  {
   "cell_type": "markdown",
   "id": "a83bd4e2-9c8e-4cb6-8ff8-33b4b59abb3c",
   "metadata": {},
   "source": [
    "**Example 2**"
   ]
  },
  {
   "cell_type": "code",
   "execution_count": 3,
   "id": "88e604cd-c71f-4ff5-a544-655a53511131",
   "metadata": {},
   "outputs": [
    {
     "name": "stdout",
     "output_type": "stream",
     "text": [
      "Hello BATMAN!\n"
     ]
    }
   ],
   "source": [
    "name = \"Batman\"\n",
    "print(f\"Hello {name.upper()}!\")"
   ]
  },
  {
   "cell_type": "markdown",
   "id": "d34abaaf-6b66-49cf-88c7-c665dec3496f",
   "metadata": {},
   "source": [
    "**Example 3**"
   ]
  },
  {
   "cell_type": "code",
   "execution_count": 21,
   "id": "0eaf00cf-1237-4f74-86f5-aedae0a73953",
   "metadata": {},
   "outputs": [
    {
     "name": "stdout",
     "output_type": "stream",
     "text": [
      "The value of 10 squared is 100!\n"
     ]
    }
   ],
   "source": [
    "x = 10\n",
    "print(f\"The value of {x} squared is {x**2}!\")"
   ]
  },
  {
   "cell_type": "markdown",
   "id": "992b17d6-52d9-45eb-a1ee-90d382b62596",
   "metadata": {},
   "source": [
    "**Example 1**"
   ]
  },
  {
   "cell_type": "code",
   "execution_count": 23,
   "id": "e187fd15-7242-4bb7-9324-be99f2e3d400",
   "metadata": {},
   "outputs": [
    {
     "name": "stdout",
     "output_type": "stream",
     "text": [
      "Bruce Wayne is Batman.\n"
     ]
    }
   ],
   "source": [
    "text = \"Bruce Wayne is Batman.\"\n",
    "print(f\"{text}\")"
   ]
  },
  {
   "cell_type": "code",
   "execution_count": 6,
   "id": "8025d5f9-9dbb-4eb9-8fa4-2744f7092b5f",
   "metadata": {},
   "outputs": [
    {
     "name": "stdout",
     "output_type": "stream",
     "text": [
      "        Bruce Wayne is Batman.\n"
     ]
    }
   ],
   "source": [
    "print(f\"{text:>30}\")"
   ]
  },
  {
   "cell_type": "code",
   "execution_count": 24,
   "id": "78073012-b3ee-4476-b85d-cd2a11c715b5",
   "metadata": {},
   "outputs": [
    {
     "name": "stdout",
     "output_type": "stream",
     "text": [
      "    Bruce Wayne is Batman.    \n"
     ]
    }
   ],
   "source": [
    "print(f\"{text:^30}\")"
   ]
  },
  {
   "cell_type": "code",
   "execution_count": 25,
   "id": "97ac62ae-80f0-45df-be0d-ce2586a12a87",
   "metadata": {},
   "outputs": [
    {
     "name": "stdout",
     "output_type": "stream",
     "text": [
      "Bruce Wayne is Batman.        \n"
     ]
    }
   ],
   "source": [
    "print(f\"{text:<30}\")"
   ]
  },
  {
   "cell_type": "code",
   "execution_count": 11,
   "id": "593adc91-1a8f-4a41-bd80-4e305bcd262b",
   "metadata": {},
   "outputs": [
    {
     "name": "stdout",
     "output_type": "stream",
     "text": [
      "-------------------Bruce Wayne is Batman.-------------------\n"
     ]
    }
   ],
   "source": [
    "print(f\"{text:-^60}\")"
   ]
  },
  {
   "cell_type": "code",
   "execution_count": 12,
   "id": "497ecc7d-13ca-46ba-a4d3-dc5dff7ef8be",
   "metadata": {},
   "outputs": [
    {
     "name": "stdout",
     "output_type": "stream",
     "text": [
      "Bruce Wayne is Batman.xxxxxxxxxxxxxxxxxxxxxxxxxxxxxxxxxxxxxx\n"
     ]
    }
   ],
   "source": [
    "print(f\"{text:x<60}\")"
   ]
  },
  {
   "cell_type": "markdown",
   "id": "acd77c61-9c6d-4d95-bfe3-d085128d4c5d",
   "metadata": {},
   "source": [
    "**Example 2**"
   ]
  },
  {
   "cell_type": "code",
   "execution_count": 18,
   "id": "ac9a65ca-5764-4a6b-80c6-89779bcb88e1",
   "metadata": {},
   "outputs": [
    {
     "name": "stdout",
     "output_type": "stream",
     "text": [
      "The cube of pi to 6 decimal places is 31.006277\n"
     ]
    }
   ],
   "source": [
    "print(f\"The cube of pi to 6 decimal places is {np.pi**3:.6f}\")"
   ]
  },
  {
   "cell_type": "code",
   "execution_count": 27,
   "id": "b5d0eaff-674a-45d4-a37d-a6d702178938",
   "metadata": {},
   "outputs": [
    {
     "name": "stdout",
     "output_type": "stream",
     "text": [
      "The cube of pi to 6 decimal places is 031.006277\n"
     ]
    }
   ],
   "source": [
    "print(f\"The cube of pi to 6 decimal places is {np.pi**3:010.6f}\")"
   ]
  },
  {
   "cell_type": "markdown",
   "id": "8dff84d5-4402-429a-bcb5-239040f12700",
   "metadata": {},
   "source": [
    "**Example 3**"
   ]
  },
  {
   "cell_type": "code",
   "execution_count": 26,
   "id": "95c9a688-9d05-40cb-b80b-cc21cf29b1ef",
   "metadata": {},
   "outputs": [
    {
     "name": "stdout",
     "output_type": "stream",
     "text": [
      "The cube of pi to 6 decimal places is 3.100628e+01\n"
     ]
    }
   ],
   "source": [
    "print(f\"The cube of pi to 6 decimal places is {np.pi**3:.6e}\")"
   ]
  },
  {
   "attachments": {},
   "cell_type": "markdown",
   "id": "5ba27d3e",
   "metadata": {},
   "source": [
    "## 5.1 Structure of f-strings"
   ]
  },
  {
   "cell_type": "code",
   "execution_count": 47,
   "id": "8507e80f-c28b-45a4-8802-a9311ec606dd",
   "metadata": {},
   "outputs": [],
   "source": [
    "# {X:>0Y.ZW} \n",
    "# X - variable to format\n",
    "# > - alignment (< - left justified, > - right justified, ^ - centre justified)\n",
    "# 0 - use 0's to pad the spaces\n",
    "# Y - total number of characters\n",
    "# Z - number of decimal places\n",
    "# W - specifies the type of variable (f - float, d - integer, s - string, g - asks Python)"
   ]
  },
  {
   "attachments": {},
   "cell_type": "markdown",
   "id": "728b1928",
   "metadata": {},
   "source": [
    "# 6 Escape sequences"
   ]
  },
  {
   "cell_type": "code",
   "execution_count": 29,
   "id": "65753739-1377-4cf4-b454-78baacaa75a3",
   "metadata": {},
   "outputs": [
    {
     "name": "stdout",
     "output_type": "stream",
     "text": [
      "Line 1\n",
      "\tLine 2\n",
      "\t\tLine 3\n"
     ]
    }
   ],
   "source": [
    "print(\"Line 1\\n\\tLine 2\\n\\t\\tLine 3\")"
   ]
  },
  {
   "cell_type": "markdown",
   "id": "c8545b77-cad7-473c-b790-3f14f9933427",
   "metadata": {},
   "source": [
    "**Example 1**"
   ]
  },
  {
   "cell_type": "code",
   "execution_count": 40,
   "id": "de231b84-cea3-4073-954f-2fa85144945c",
   "metadata": {},
   "outputs": [
    {
     "name": "stdout",
     "output_type": "stream",
     "text": [
      "You're twenty years old.\n"
     ]
    }
   ],
   "source": [
    "print(\"You\\'re twenty years old.\")"
   ]
  },
  {
   "cell_type": "markdown",
   "id": "f7ed7ff7-1dc4-4286-bb71-521e508c5402",
   "metadata": {},
   "source": [
    "**Example 2**"
   ]
  },
  {
   "cell_type": "code",
   "execution_count": 43,
   "id": "09ddf5a1-a1d4-4bbe-90e2-8bf8dca05796",
   "metadata": {},
   "outputs": [
    {
     "name": "stdout",
     "output_type": "stream",
     "text": [
      "A\\B\\C\n"
     ]
    }
   ],
   "source": [
    "print(\"A\\\\B\\\\C\")"
   ]
  },
  {
   "cell_type": "markdown",
   "id": "29ee0fdd-ee1f-428f-9942-6f739f6e4293",
   "metadata": {},
   "source": [
    "**Example 3**"
   ]
  },
  {
   "cell_type": "code",
   "execution_count": 45,
   "id": "3e301cd2-46dc-4e17-adc2-b1a38021fdf8",
   "metadata": {},
   "outputs": [
    {
     "name": "stdout",
     "output_type": "stream",
     "text": [
      "A\n",
      "B\n",
      "C\n"
     ]
    }
   ],
   "source": [
    "print(\"A\\nB\\nC\")"
   ]
  },
  {
   "cell_type": "markdown",
   "id": "7b6004dd-91e7-444d-bc76-aa2658ca711c",
   "metadata": {},
   "source": [
    "**Example 4**"
   ]
  },
  {
   "cell_type": "code",
   "execution_count": 44,
   "id": "1995dbe1-0f14-4c3c-ad85-35fd1d69e9a4",
   "metadata": {},
   "outputs": [
    {
     "name": "stdout",
     "output_type": "stream",
     "text": [
      "A\tB\tC\n"
     ]
    }
   ],
   "source": [
    "print(\"A\\tB\\tC\")"
   ]
  },
  {
   "attachments": {},
   "cell_type": "markdown",
   "id": "fcf41277",
   "metadata": {},
   "source": [
    "# 7 Computers read = from Right to Left!"
   ]
  },
  {
   "cell_type": "code",
   "execution_count": 30,
   "id": "debf3722-2a7e-41ea-918e-93343a7c771e",
   "metadata": {},
   "outputs": [
    {
     "name": "stdout",
     "output_type": "stream",
     "text": [
      "42\n"
     ]
    }
   ],
   "source": [
    "y = 40\n",
    "y = y + 2\n",
    "print(y)"
   ]
  },
  {
   "cell_type": "code",
   "execution_count": 48,
   "id": "e29e9d43-10eb-48f0-94a7-4d54bd8a7292",
   "metadata": {},
   "outputs": [],
   "source": [
    "x = y = 10"
   ]
  },
  {
   "attachments": {},
   "cell_type": "markdown",
   "id": "35e7bf98",
   "metadata": {},
   "source": [
    "# 8 Shorter and Cleaner Code"
   ]
  },
  {
   "cell_type": "code",
   "execution_count": 37,
   "id": "fc83ee03-1e6f-4cf6-a6d2-010f9744ef77",
   "metadata": {},
   "outputs": [
    {
     "data": {
      "text/plain": [
       "42"
      ]
     },
     "execution_count": 37,
     "metadata": {},
     "output_type": "execute_result"
    }
   ],
   "source": [
    "y = 40\n",
    "y = y + 2\n",
    "y"
   ]
  },
  {
   "cell_type": "code",
   "execution_count": 31,
   "id": "34af27d8-818d-4d4f-ad48-6866fe801e55",
   "metadata": {},
   "outputs": [
    {
     "data": {
      "text/plain": [
       "42"
      ]
     },
     "execution_count": 31,
     "metadata": {},
     "output_type": "execute_result"
    }
   ],
   "source": [
    "y = 40\n",
    "y += 2  # Same as y = y + 2\n",
    "y"
   ]
  },
  {
   "cell_type": "code",
   "execution_count": 32,
   "id": "91675305-3653-46d4-8e6b-80b9a26afeb2",
   "metadata": {},
   "outputs": [
    {
     "data": {
      "text/plain": [
       "20.0"
      ]
     },
     "execution_count": 32,
     "metadata": {},
     "output_type": "execute_result"
    }
   ],
   "source": [
    "y = 40\n",
    "y /= 2\n",
    "y"
   ]
  },
  {
   "attachments": {},
   "cell_type": "markdown",
   "id": "e1979e30",
   "metadata": {},
   "source": [
    "# 9 Python can be a prima-donna."
   ]
  },
  {
   "cell_type": "code",
   "execution_count": 52,
   "id": "a31fe664-aa69-436e-a992-7b380c084e7c",
   "metadata": {},
   "outputs": [
    {
     "ename": "SyntaxError",
     "evalue": "incomplete input (149104261.py, line 1)",
     "output_type": "error",
     "traceback": [
      "\u001b[0;36m  Cell \u001b[0;32mIn[52], line 1\u001b[0;36m\u001b[0m\n\u001b[0;31m    print(\u001b[0m\n\u001b[0m          ^\u001b[0m\n\u001b[0;31mSyntaxError\u001b[0m\u001b[0;31m:\u001b[0m incomplete input\n"
     ]
    }
   ],
   "source": [
    "print("
   ]
  },
  {
   "attachments": {},
   "cell_type": "markdown",
   "id": "0d5d555b",
   "metadata": {},
   "source": [
    "# 11 Looking for help"
   ]
  },
  {
   "cell_type": "code",
   "execution_count": 33,
   "id": "ba0b0c9b-f559-4bc5-a008-c0afbe5020d1",
   "metadata": {},
   "outputs": [
    {
     "name": "stdout",
     "output_type": "stream",
     "text": [
      "Help on built-in function print in module builtins:\n",
      "\n",
      "print(*args, sep=' ', end='\\n', file=None, flush=False)\n",
      "    Prints the values to a stream, or to sys.stdout by default.\n",
      "    \n",
      "    sep\n",
      "      string inserted between values, default a space.\n",
      "    end\n",
      "      string appended after the last value, default a newline.\n",
      "    file\n",
      "      a file-like object (stream); defaults to the current sys.stdout.\n",
      "    flush\n",
      "      whether to forcibly flush the stream.\n",
      "\n"
     ]
    }
   ],
   "source": [
    "help(print)"
   ]
  },
  {
   "attachments": {},
   "cell_type": "markdown",
   "id": "4f9d1000",
   "metadata": {},
   "source": [
    "## References"
   ]
  },
  {
   "attachments": {},
   "cell_type": "markdown",
   "id": "cd5c4532",
   "metadata": {},
   "source": [
    "## Footnotes"
   ]
  }
 ],
 "metadata": {
  "kernelspec": {
   "display_name": "Python 3 (ipykernel)",
   "language": "python",
   "name": "python3"
  },
  "language_info": {
   "codemirror_mode": {
    "name": "ipython",
    "version": 3
   },
   "file_extension": ".py",
   "mimetype": "text/x-python",
   "name": "python",
   "nbconvert_exporter": "python",
   "pygments_lexer": "ipython3",
   "version": "3.11.5"
  },
  "toc": {
   "base_numbering": 1,
   "nav_menu": {},
   "number_sections": true,
   "sideBar": true,
   "skip_h1_title": false,
   "title_cell": "Table of Contents",
   "title_sidebar": "Contents",
   "toc_cell": false,
   "toc_position": {},
   "toc_section_display": true,
   "toc_window_display": false
  },
  "vscode": {
   "interpreter": {
    "hash": "31f2aee4e71d21fbe5cf8b01ff0e069b9275f58929596ceb00d14d90e3e16cd6"
   }
  }
 },
 "nbformat": 4,
 "nbformat_minor": 5
}
