{
 "cells": [
  {
   "attachments": {},
   "cell_type": "markdown",
   "id": "123456",
   "metadata": {},
   "source": [
    "<div style=\"text-align:left;font-size:2em\"><span style=\"font-weight:bolder;font-size:1.25em\">SP2273 | Learning Portfolio</span><br><br><span style=\"font-weight:bold;color:darkred\">Storing Data (Need) Exercises</span></div>"
   ]
  },
  {
   "cell_type": "code",
   "execution_count": 16,
   "id": "8eda7fff-66a9-45cc-8f8a-2940d69cf87d",
   "metadata": {},
   "outputs": [],
   "source": [
    "import numpy as np"
   ]
  },
  {
   "cell_type": "markdown",
   "id": "b8b42897-fbbb-4038-8334-fbc42c0ce623",
   "metadata": {},
   "source": [
    "**Exercise 1**"
   ]
  },
  {
   "cell_type": "markdown",
   "id": "c6199481-6f70-4217-b7e7-03802c2a6471",
   "metadata": {},
   "source": [
    "1. Similarities\n",
    "   - Lists and arrays can store a sequence of objects.\n",
    "   - Lists and arrays can store more lists and arrays within, i.e. one can create nested lists and arrays.\n",
    "2. Differences\n",
    "   - Lists can store multiple data types, but arrays can only store one type.\n",
    "   - You can perform operations on arrays that you cannot do to lists, like adding    10 to each element in an array."
   ]
  },
  {
   "cell_type": "markdown",
   "id": "18100114-e444-49ae-bb97-0aa6ec97a2d2",
   "metadata": {},
   "source": [
    "**Exercise 2**"
   ]
  },
  {
   "cell_type": "code",
   "execution_count": 5,
   "id": "1a733982-8740-4788-9e41-becdfb4d7fb1",
   "metadata": {},
   "outputs": [
    {
     "name": "stdout",
     "output_type": "stream",
     "text": [
      "a1\n",
      "c3\n",
      "e5\n",
      "g7\n",
      "i9\n"
     ]
    }
   ],
   "source": [
    "py_list = [\"a1\", \"b2\", \"c3\", \"d4\", \"e5\", \"f6\", \"g7\", \"h8\", \"i9\", \"j10\"]\n",
    "print(py_list[0])   # Prints \"a1\"\n",
    "print(py_list[2])   # Prints \"c3\"\n",
    "print(py_list[4])   # Prints \"e5\"\n",
    "print(py_list[6])   # Prints \"g7\"\n",
    "print(py_list[8])   # Prints \"i9\""
   ]
  },
  {
   "cell_type": "markdown",
   "id": "f75f119d-8c93-492c-8738-d8a4249a6a78",
   "metadata": {},
   "source": [
    "**Exercise 3**"
   ]
  },
  {
   "cell_type": "code",
   "execution_count": 15,
   "id": "e641f1e8-848c-42bd-9424-79a795ced221",
   "metadata": {},
   "outputs": [],
   "source": [
    "elements = [\"Hydrogen\",\n",
    "            \"Helium\", \"Lithium\",\n",
    "            \"Beryllium\", \"Boron\", \"Carbon\",\n",
    "            \"Nitrogen\", \"Oxygen\",\n",
    "            \"Fluorine\",\n",
    "            \"Neon\"]"
   ]
  },
  {
   "cell_type": "code",
   "execution_count": 11,
   "id": "8cd80ee0-ae96-4dcf-83da-55af75994a40",
   "metadata": {},
   "outputs": [
    {
     "name": "stdout",
     "output_type": "stream",
     "text": [
      "Boron\n"
     ]
    }
   ],
   "source": [
    "# 1.\n",
    "print(elements[4])"
   ]
  },
  {
   "cell_type": "code",
   "execution_count": 12,
   "id": "01d130dc-448f-4be1-808b-66403b949a7d",
   "metadata": {},
   "outputs": [
    {
     "name": "stdout",
     "output_type": "stream",
     "text": [
      "Boron\n"
     ]
    }
   ],
   "source": [
    "# 2.\n",
    "print(elements[-6])"
   ]
  },
  {
   "cell_type": "markdown",
   "id": "4775b591-50c7-4dfa-8a8b-860b28db54d0",
   "metadata": {},
   "source": [
    "**Exercise 4**"
   ]
  },
  {
   "cell_type": "code",
   "execution_count": 18,
   "id": "d31dbc7c-ead4-4249-9e55-84f271a8fee6",
   "metadata": {},
   "outputs": [],
   "source": [
    "numbers = [45, 60, 1, 30, 96, 1, 96, 57, 16, 1,\n",
    "        99, 62, 86, 43, 42, 60, 59, 1, 1, 35,\n",
    "        83, 47, 34, 28, 68, 23, 22, 92, 1, 79,\n",
    "        1, 29, 94, 72, 46, 47, 1, 74, 32, 20,\n",
    "        8, 37, 35, 1, 89, 29, 86, 19, 43, 61]                  "
   ]
  },
  {
   "cell_type": "code",
   "execution_count": 19,
   "id": "4a9c9fd6-6171-4629-bc5f-e3a80ad5b1b5",
   "metadata": {},
   "outputs": [],
   "source": [
    "np_numbers = np.array(numbers)"
   ]
  },
  {
   "cell_type": "code",
   "execution_count": 22,
   "id": "e965f48c-f033-4e7b-8ca9-e353602745b7",
   "metadata": {},
   "outputs": [
    {
     "data": {
      "text/plain": [
       "array([False, False,  True, False, False,  True, False, False, False,\n",
       "        True, False, False, False, False, False, False, False,  True,\n",
       "        True, False, False, False, False, False, False, False, False,\n",
       "       False,  True, False,  True, False, False, False, False, False,\n",
       "        True, False, False, False, False, False, False,  True, False,\n",
       "       False, False, False, False, False])"
      ]
     },
     "execution_count": 22,
     "metadata": {},
     "output_type": "execute_result"
    }
   ],
   "source": [
    "np_numbers == 1"
   ]
  },
  {
   "cell_type": "code",
   "execution_count": 21,
   "id": "68b83f0a-06e6-4a45-9b30-d386a75ca34e",
   "metadata": {},
   "outputs": [
    {
     "data": {
      "text/plain": [
       "9"
      ]
     },
     "execution_count": 21,
     "metadata": {},
     "output_type": "execute_result"
    }
   ],
   "source": [
    "sum(np_numbers == 1)"
   ]
  },
  {
   "cell_type": "markdown",
   "id": "8363b768-f95b-4d51-b857-016b8021487e",
   "metadata": {},
   "source": [
    "There are nine 1's in the list of numbers."
   ]
  }
 ],
 "metadata": {
  "kernelspec": {
   "display_name": "Python 3 (ipykernel)",
   "language": "python",
   "name": "python3"
  },
  "language_info": {
   "codemirror_mode": {
    "name": "ipython",
    "version": 3
   },
   "file_extension": ".py",
   "mimetype": "text/x-python",
   "name": "python",
   "nbconvert_exporter": "python",
   "pygments_lexer": "ipython3",
   "version": "3.11.5"
  },
  "toc": {
   "base_numbering": 1,
   "nav_menu": {},
   "number_sections": true,
   "sideBar": true,
   "skip_h1_title": false,
   "title_cell": "Table of Contents",
   "title_sidebar": "Contents",
   "toc_cell": false,
   "toc_position": {},
   "toc_section_display": true,
   "toc_window_display": false
  },
  "vscode": {
   "interpreter": {
    "hash": "31f2aee4e71d21fbe5cf8b01ff0e069b9275f58929596ceb00d14d90e3e16cd6"
   }
  }
 },
 "nbformat": 4,
 "nbformat_minor": 5
}
