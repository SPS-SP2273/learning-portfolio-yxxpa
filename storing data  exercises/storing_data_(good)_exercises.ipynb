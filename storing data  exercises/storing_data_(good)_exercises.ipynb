{
 "cells": [
  {
   "attachments": {},
   "cell_type": "markdown",
   "id": "123456",
   "metadata": {},
   "source": [
    "<div style=\"text-align:left;font-size:2em\"><span style=\"font-weight:bolder;font-size:1.25em\">SP2273 | Learning Portfolio</span><br><br><span style=\"font-weight:bold;color:darkred\">Storing Data (Good) Exercises</span></div>"
   ]
  },
  {
   "cell_type": "code",
   "execution_count": 2,
   "id": "f0fd9803-fc79-44fc-8a07-d0b48312db68",
   "metadata": {},
   "outputs": [],
   "source": [
    "import numpy as np"
   ]
  },
  {
   "cell_type": "markdown",
   "id": "38fb65ed-76d2-4e90-8d88-490cfb3ea591",
   "metadata": {},
   "source": [
    "**Exercise 1**"
   ]
  },
  {
   "cell_type": "markdown",
   "id": "72fb1243-d581-476f-8f23-64bf11363f36",
   "metadata": {},
   "source": [
    "| **Term** | **Brief description** |\n",
    "| :-- | :-- |\n",
    "|Subsetting |*Subsetting is selecting a subset of a list or array.* |\n",
    "|Indexing |Indexing accesses one element from a list or array.|\n",
    "|Slicing |Slicing accesses a *range* of elements from a list or array and allows one to *specify the step*.|\n",
    "|Masking |*Masking is specific to arrays and can be used to show a subset of the array that satisfies some condition.*|"
   ]
  },
  {
   "cell_type": "markdown",
   "id": "5309b37b-8d6b-4157-b656-016b395c65df",
   "metadata": {},
   "source": [
    "**Exercise 2**"
   ]
  },
  {
   "cell_type": "code",
   "execution_count": 3,
   "id": "a313ebbb-b629-4138-b45b-420430cc167b",
   "metadata": {},
   "outputs": [],
   "source": [
    "np_array_2d = np.array([[1, \"A\"], [3, \"C\"], [2, \"B\"], [4, \"D\"],\n",
    "                        [5, \"E\"], [7, \"G\"], [6, \"F\"], [8, \"H\"],\n",
    "                        [10, \"J\"], [9, \"I\"]])"
   ]
  },
  {
   "cell_type": "code",
   "execution_count": 31,
   "id": "53f03d90-d492-481c-86f8-ecc0ab2d096c",
   "metadata": {},
   "outputs": [
    {
     "data": {
      "text/plain": [
       "array(['1', '3', '2', '4', '5', '7', '6', '8', '10', '9'], dtype='<U21')"
      ]
     },
     "execution_count": 31,
     "metadata": {},
     "output_type": "execute_result"
    }
   ],
   "source": [
    "# Subset all the first elements of np_array_2d\n",
    "first_elements = np_array_2d[:, 0]\n",
    "first_elements"
   ]
  },
  {
   "cell_type": "code",
   "execution_count": 29,
   "id": "3d13a0c4-988e-4436-9dd5-3e034e819dd1",
   "metadata": {},
   "outputs": [
    {
     "data": {
      "text/plain": [
       "array([1, 1, 0, 0, 1, 1, 0, 0, 0, 1])"
      ]
     },
     "execution_count": 29,
     "metadata": {},
     "output_type": "execute_result"
    }
   ],
   "source": [
    "# Getting the remainders for when the first elements are divided by 2\n",
    "first_elements.astype(int) % 2"
   ]
  },
  {
   "cell_type": "code",
   "execution_count": 30,
   "id": "2c745f44-5e5a-4ae5-a4a4-c720a1ddb79d",
   "metadata": {},
   "outputs": [
    {
     "data": {
      "text/plain": [
       "array([ True,  True, False, False,  True,  True, False, False, False,\n",
       "        True])"
      ]
     },
     "execution_count": 30,
     "metadata": {},
     "output_type": "execute_result"
    }
   ],
   "source": [
    "# Creating a mask for the odd numbers (x % 2 does not equal 0 for any odd number x)\n",
    "odd_mask = first_elements.astype(int) % 2 != 0\n",
    "odd_mask"
   ]
  },
  {
   "cell_type": "code",
   "execution_count": 27,
   "id": "a1659c3a-bb71-4ae7-8c96-0be5f61d60c3",
   "metadata": {},
   "outputs": [
    {
     "name": "stdout",
     "output_type": "stream",
     "text": [
      "['A' 'C' 'E' 'G' 'I']\n"
     ]
    }
   ],
   "source": [
    "# Subsetting and printing the letters corresponding to the odd numbers\n",
    "print(np_array_2d[odd_mask, 1])"
   ]
  }
 ],
 "metadata": {
  "kernelspec": {
   "display_name": "Python 3 (ipykernel)",
   "language": "python",
   "name": "python3"
  },
  "language_info": {
   "codemirror_mode": {
    "name": "ipython",
    "version": 3
   },
   "file_extension": ".py",
   "mimetype": "text/x-python",
   "name": "python",
   "nbconvert_exporter": "python",
   "pygments_lexer": "ipython3",
   "version": "3.11.5"
  },
  "toc": {
   "base_numbering": 1,
   "nav_menu": {},
   "number_sections": true,
   "sideBar": true,
   "skip_h1_title": false,
   "title_cell": "Table of Contents",
   "title_sidebar": "Contents",
   "toc_cell": false,
   "toc_position": {},
   "toc_section_display": true,
   "toc_window_display": false
  },
  "vscode": {
   "interpreter": {
    "hash": "31f2aee4e71d21fbe5cf8b01ff0e069b9275f58929596ceb00d14d90e3e16cd6"
   }
  }
 },
 "nbformat": 4,
 "nbformat_minor": 5
}
