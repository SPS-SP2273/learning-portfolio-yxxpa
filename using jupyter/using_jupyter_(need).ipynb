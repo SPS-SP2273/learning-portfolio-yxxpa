{
 "cells": [
  {
   "attachments": {},
   "cell_type": "markdown",
   "id": "123456",
   "metadata": {},
   "source": [
    "<div style=\"text-align:left;font-size:2em\"><span style=\"font-weight:bolder;font-size:1.25em\">SP2273 | Learning Portfolio</span><br><br><span style=\"font-weight:bold;color:darkred\">Using Jupyter (Need)</span></div>"
   ]
  },
  {
   "cell_type": "markdown",
   "id": "7298d9cd-d636-4bda-b790-6d5c84469abb",
   "metadata": {},
   "source": [
    "[SP2273 Website](https://sps.nus.edu.sg/sp2273)"
   ]
  },
  {
   "attachments": {},
   "cell_type": "markdown",
   "id": "d4c374c9",
   "metadata": {},
   "source": [
    "# 2 Getting ready"
   ]
  },
  {
   "attachments": {},
   "cell_type": "markdown",
   "id": "58b45b14",
   "metadata": {},
   "source": [
    "# 3 Getting started with Jupyter"
   ]
  },
  {
   "attachments": {},
   "cell_type": "markdown",
   "id": "9984202f",
   "metadata": {},
   "source": [
    "## 3.1 It is all about running cells"
   ]
  },
  {
   "attachments": {},
   "cell_type": "markdown",
   "id": "2c11d567",
   "metadata": {},
   "source": [
    "## 3.2 A traditional start"
   ]
  },
  {
   "cell_type": "code",
   "execution_count": 2,
   "id": "33fc86ef-3c17-491b-8681-cd238c7b7a01",
   "metadata": {},
   "outputs": [
    {
     "name": "stdout",
     "output_type": "stream",
     "text": [
      "Hello World!\n"
     ]
    }
   ],
   "source": [
    "print('Hello World!')"
   ]
  },
  {
   "attachments": {},
   "cell_type": "markdown",
   "id": "4bfc64b9",
   "metadata": {},
   "source": [
    "# 4 All about Markdown"
   ]
  },
  {
   "cell_type": "markdown",
   "id": "2c8c3d75-ba4d-4e1d-b891-00a8c53ec8e9",
   "metadata": {},
   "source": [
    "## Rendering Markdown Cells"
   ]
  },
  {
   "cell_type": "markdown",
   "id": "402ab818-a28d-4a28-ba60-5b9462e97681",
   "metadata": {},
   "source": [
    "The ships hung in the sky in much the same way that bricks don’t."
   ]
  },
  {
   "cell_type": "markdown",
   "id": "02885c71-9cc6-4862-b34a-f1b061a1599e",
   "metadata": {},
   "source": [
    "## Some Basic Syntax"
   ]
  },
  {
   "cell_type": "markdown",
   "id": "927360b5-b712-4ae6-8c38-29b86d10502e",
   "metadata": {},
   "source": [
    "The ships *hung in the sky* in much the same way that **bricks don’t.**<sup>1</sup><sub>QUOTE</sub>"
   ]
  },
  {
   "cell_type": "markdown",
   "id": "99aabe89-6c00-4b48-b19a-22f8f7901ca4",
   "metadata": {},
   "source": [
    "## Headings"
   ]
  },
  {
   "cell_type": "markdown",
   "id": "33604a8f-9eda-4dee-bb87-63f319d26643",
   "metadata": {},
   "source": [
    "# The largest heading\n",
    "\n",
    "## The second-largest heading\n",
    "\n",
    "### The third-largest heading\n",
    "\n",
    "#### The smallest heading"
   ]
  },
  {
   "cell_type": "markdown",
   "id": "461d6988-3a7b-489f-b79d-283e6190fe6a",
   "metadata": {},
   "source": [
    "## Displaying Code"
   ]
  },
  {
   "cell_type": "markdown",
   "id": "416fae79-d07b-4075-aeaa-a86fe3b113bf",
   "metadata": {},
   "source": [
    "```python\n",
    "print('Hello World!')\n",
    "```"
   ]
  },
  {
   "attachments": {},
   "cell_type": "markdown",
   "id": "071ed4f8",
   "metadata": {},
   "source": [
    "## 4.6 Images"
   ]
  },
  {
   "cell_type": "markdown",
   "id": "d1aeb0a3-0b30-4f25-aec6-5b7d032e9fc8",
   "metadata": {},
   "source": [
    "![](https://nus.edu.sg/images/default-source/base/logo.png)"
   ]
  },
  {
   "attachments": {},
   "cell_type": "markdown",
   "id": "2759cd7a",
   "metadata": {},
   "source": [
    "## 4.7 Tables"
   ]
  },
  {
   "cell_type": "markdown",
   "id": "a7fb5de8-396f-48a8-9cad-aa3cd574a410",
   "metadata": {},
   "source": [
    "| A    |  B   |    C |\n",
    "| :--- | :--: | ---: |\n",
    "| a1   |  b1  |   c1 |\n",
    "| a2   |  b2  |   c2 |\n",
    "| a3   |  b3  |   c3 |\n"
   ]
  },
  {
   "attachments": {},
   "cell_type": "markdown",
   "id": "22df73e4",
   "metadata": {},
   "source": [
    "## 4.8 Lists"
   ]
  },
  {
   "cell_type": "markdown",
   "id": "cf32585b-5c55-4694-aae2-386606609fb3",
   "metadata": {},
   "source": [
    "1. a\n",
    "2. b\n",
    "3. c"
   ]
  },
  {
   "attachments": {},
   "cell_type": "markdown",
   "id": "647e2a09",
   "metadata": {},
   "source": [
    "## 4.9 Equations"
   ]
  },
  {
   "attachments": {},
   "cell_type": "markdown",
   "id": "4440692a",
   "metadata": {},
   "source": [
    "This is a square $\\int x^2$."
   ]
  },
  {
   "cell_type": "markdown",
   "id": "c418b25b-c292-4776-8f69-cafc63d2183b",
   "metadata": {},
   "source": [
    "# Footnotes"
   ]
  },
  {
   "cell_type": "markdown",
   "id": "1fd1349d-1682-4118-8864-1e8a9570bc80",
   "metadata": {},
   "source": [
    "This is a bird^[footnote]"
   ]
  }
 ],
 "metadata": {
  "kernelspec": {
   "display_name": "Python 3 (ipykernel)",
   "language": "python",
   "name": "python3"
  },
  "language_info": {
   "codemirror_mode": {
    "name": "ipython",
    "version": 3
   },
   "file_extension": ".py",
   "mimetype": "text/x-python",
   "name": "python",
   "nbconvert_exporter": "python",
   "pygments_lexer": "ipython3",
   "version": "3.11.5"
  },
  "toc": {
   "base_numbering": 1,
   "nav_menu": {},
   "number_sections": true,
   "sideBar": true,
   "skip_h1_title": false,
   "title_cell": "Table of Contents",
   "title_sidebar": "Contents",
   "toc_cell": false,
   "toc_position": {},
   "toc_section_display": true,
   "toc_window_display": false
  },
  "vscode": {
   "interpreter": {
    "hash": "31f2aee4e71d21fbe5cf8b01ff0e069b9275f58929596ceb00d14d90e3e16cd6"
   }
  }
 },
 "nbformat": 4,
 "nbformat_minor": 5
}
