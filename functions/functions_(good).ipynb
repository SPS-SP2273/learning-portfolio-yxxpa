{
 "cells": [
  {
   "attachments": {},
   "cell_type": "markdown",
   "id": "123456",
   "metadata": {},
   "source": [
    "<div style=\"text-align:left;font-size:2em\"><span style=\"font-weight:bolder;font-size:1.25em\">SP2273 | Learning Portfolio</span><br><br><span style=\"font-weight:bold;color:darkred\">Functions (Good)</span></div>"
   ]
  },
  {
   "cell_type": "code",
   "execution_count": 55,
   "id": "43299bfc-52b5-4d69-8805-8e491baac591",
   "metadata": {},
   "outputs": [],
   "source": [
    "import numpy as np"
   ]
  },
  {
   "attachments": {},
   "cell_type": "markdown",
   "id": "0c3c3995",
   "metadata": {},
   "source": [
    "# 1 Checks, balances, and contingencies"
   ]
  },
  {
   "attachments": {},
   "cell_type": "markdown",
   "id": "93e46d5a",
   "metadata": {},
   "source": [
    "## 1.1 assert"
   ]
  },
  {
   "cell_type": "markdown",
   "id": "c664edaf-5477-420c-a758-393c90f45d8d",
   "metadata": {},
   "source": [
    "### Basic Syntax"
   ]
  },
  {
   "cell_type": "code",
   "execution_count": 5,
   "id": "12777ad1-d192-4dff-8fab-973c70a3356c",
   "metadata": {},
   "outputs": [],
   "source": [
    "x = -3\n",
    "\n",
    "assert x < 0, \"Oops, x is positive.\""
   ]
  },
  {
   "cell_type": "code",
   "execution_count": 6,
   "id": "4ad9c3d5-2ec6-4fd3-a186-cf3b0032700d",
   "metadata": {},
   "outputs": [
    {
     "ename": "AssertionError",
     "evalue": "Oops, x is positive.",
     "output_type": "error",
     "traceback": [
      "\u001b[0;31m---------------------------------------------------------------------------\u001b[0m",
      "\u001b[0;31mAssertionError\u001b[0m                            Traceback (most recent call last)",
      "Cell \u001b[0;32mIn[6], line 3\u001b[0m\n\u001b[1;32m      1\u001b[0m x \u001b[38;5;241m=\u001b[39m \u001b[38;5;241m100\u001b[39m\n\u001b[0;32m----> 3\u001b[0m \u001b[38;5;28;01massert\u001b[39;00m x \u001b[38;5;241m<\u001b[39m \u001b[38;5;241m0\u001b[39m, \u001b[38;5;124m\"\u001b[39m\u001b[38;5;124mOops, x is positive.\u001b[39m\u001b[38;5;124m\"\u001b[39m\n",
      "\u001b[0;31mAssertionError\u001b[0m: Oops, x is positive."
     ]
    }
   ],
   "source": [
    "x = 100\n",
    "\n",
    "assert x < 0, \"Oops, x is positive.\""
   ]
  },
  {
   "cell_type": "markdown",
   "id": "fc772cd3-ede0-4d3b-b5c4-a1519c7243b6",
   "metadata": {},
   "source": [
    "### Will and Will not work"
   ]
  },
  {
   "cell_type": "code",
   "execution_count": 10,
   "id": "8eea76c5-21fd-4807-8e68-628245b7cccf",
   "metadata": {},
   "outputs": [],
   "source": [
    "x = 10\n",
    "assert x >= 0, \"x is becoming negative!\""
   ]
  },
  {
   "cell_type": "code",
   "execution_count": 11,
   "id": "64f2f6c7-e194-41d4-957e-d44b8be2d375",
   "metadata": {},
   "outputs": [
    {
     "ename": "AssertionError",
     "evalue": "x is becoming negative!",
     "output_type": "error",
     "traceback": [
      "\u001b[0;31m---------------------------------------------------------------------------\u001b[0m",
      "\u001b[0;31mAssertionError\u001b[0m                            Traceback (most recent call last)",
      "Cell \u001b[0;32mIn[11], line 2\u001b[0m\n\u001b[1;32m      1\u001b[0m x \u001b[38;5;241m=\u001b[39m \u001b[38;5;241m-\u001b[39m\u001b[38;5;241m1\u001b[39m\n\u001b[0;32m----> 2\u001b[0m \u001b[38;5;28;01massert\u001b[39;00m x \u001b[38;5;241m>\u001b[39m\u001b[38;5;241m=\u001b[39m \u001b[38;5;241m0\u001b[39m, \u001b[38;5;124m\"\u001b[39m\u001b[38;5;124mx is becoming negative!\u001b[39m\u001b[38;5;124m\"\u001b[39m\n",
      "\u001b[0;31mAssertionError\u001b[0m: x is becoming negative!"
     ]
    }
   ],
   "source": [
    "x = -1\n",
    "assert x >= 0, \"x is becoming negative!\""
   ]
  },
  {
   "attachments": {},
   "cell_type": "markdown",
   "id": "569e0133",
   "metadata": {},
   "source": [
    "## 1.2 try-except"
   ]
  },
  {
   "cell_type": "markdown",
   "id": "97a39ddb-5f7c-454f-aa7c-551a4999f6fd",
   "metadata": {},
   "source": [
    "### Example of things that can go wrong"
   ]
  },
  {
   "cell_type": "code",
   "execution_count": 8,
   "id": "6b4882c2-3bd8-47c0-b799-5c6efa35b529",
   "metadata": {},
   "outputs": [
    {
     "name": "stdout",
     "output_type": "stream",
     "text": [
      "Give me a number and I will calculate its square. number\n"
     ]
    },
    {
     "ename": "ValueError",
     "evalue": "invalid literal for int() with base 10: 'number'",
     "output_type": "error",
     "traceback": [
      "\u001b[0;31m---------------------------------------------------------------------------\u001b[0m",
      "\u001b[0;31mValueError\u001b[0m                                Traceback (most recent call last)",
      "Cell \u001b[0;32mIn[8], line 2\u001b[0m\n\u001b[1;32m      1\u001b[0m number \u001b[38;5;241m=\u001b[39m \u001b[38;5;28minput\u001b[39m(\u001b[38;5;124m\"\u001b[39m\u001b[38;5;124mGive me a number and I will calculate its square.\u001b[39m\u001b[38;5;124m\"\u001b[39m)\n\u001b[0;32m----> 2\u001b[0m square \u001b[38;5;241m=\u001b[39m \u001b[38;5;28;43mint\u001b[39;49m\u001b[43m(\u001b[49m\u001b[43mnumber\u001b[49m\u001b[43m)\u001b[49m\u001b[38;5;241m*\u001b[39m\u001b[38;5;241m*\u001b[39m\u001b[38;5;241m2\u001b[39m              \u001b[38;5;66;03m# Convert English to number\u001b[39;00m\n\u001b[1;32m      3\u001b[0m \u001b[38;5;28mprint\u001b[39m(\u001b[38;5;124mf\u001b[39m\u001b[38;5;124m'\u001b[39m\u001b[38;5;124mThe square of \u001b[39m\u001b[38;5;132;01m{\u001b[39;00mnumber\u001b[38;5;132;01m}\u001b[39;00m\u001b[38;5;124m is \u001b[39m\u001b[38;5;132;01m{\u001b[39;00msquare\u001b[38;5;132;01m}\u001b[39;00m\u001b[38;5;124m!\u001b[39m\u001b[38;5;124m'\u001b[39m)\n",
      "\u001b[0;31mValueError\u001b[0m: invalid literal for int() with base 10: 'number'"
     ]
    }
   ],
   "source": [
    "number = input(\"Give me a number and I will calculate its square.\")\n",
    "square = int(number)**2              # Convert English to number\n",
    "print(f'The square of {number} is {square}!')"
   ]
  },
  {
   "cell_type": "markdown",
   "id": "cce2dbb1-c39e-4933-81e8-dd111e45ef18",
   "metadata": {},
   "source": [
    "### Protecting with try-except"
   ]
  },
  {
   "cell_type": "code",
   "execution_count": 9,
   "id": "9de7e7c7-13c2-49d8-a135-b44993388bea",
   "metadata": {},
   "outputs": [
    {
     "name": "stdout",
     "output_type": "stream",
     "text": [
      "Give me a number and I will calculate its square. numb\n"
     ]
    },
    {
     "name": "stdout",
     "output_type": "stream",
     "text": [
      "numb cannot be squared :(\n"
     ]
    }
   ],
   "source": [
    "try:\n",
    "    number = input(\"Give me a number and I will calculate its square.\")\n",
    "    square = int(number)**2\n",
    "    print(f'The square of {number} is {square}!')\n",
    "except:\n",
    "    print(f\"{number} cannot be squared :(\")"
   ]
  },
  {
   "attachments": {},
   "cell_type": "markdown",
   "id": "5a58fdbf",
   "metadata": {},
   "source": [
    "## 1.3 A simple suggestion"
   ]
  },
  {
   "cell_type": "code",
   "execution_count": 5,
   "id": "e994606e-5019-4f94-aaac-497e34cf65e6",
   "metadata": {},
   "outputs": [
    {
     "name": "stdout",
     "output_type": "stream",
     "text": [
      "I am adding 0 to the list.\n",
      "I am adding 10 to the list.\n",
      "I am adding 20 to the list.\n",
      "I am adding 30 to the list.\n",
      "I am adding 40 to the list.\n",
      "I am adding 50 to the list.\n",
      "I am adding 60 to the list.\n",
      "I am adding 70 to the list.\n",
      "I am adding 80 to the list.\n",
      "I am adding 90 to the list.\n"
     ]
    }
   ],
   "source": [
    "numbers = []\n",
    "# Adding numbers 0-100 to a list\n",
    "for i in range(100):\n",
    "    if i % 10 == 0:\n",
    "        # Report progress every 10 numbers added\n",
    "        print(f\"I am adding {i} to the list.\")\n",
    "    numbers.append(i)"
   ]
  },
  {
   "cell_type": "code",
   "execution_count": 4,
   "id": "cf99d40f",
   "metadata": {},
   "outputs": [
    {
     "name": "stdout",
     "output_type": "stream",
     "text": [
      "I am adding 0 to the list.\n",
      "I am adding 10 to the list.\n",
      "I am adding 20 to the list.\n",
      "I am adding 30 to the list.\n",
      "I am adding 40 to the list.\n",
      "I am adding 50 to the list.\n",
      "I am adding 60 to the list.\n",
      "I am adding 70 to the list.\n",
      "I am adding 80 to the list.\n",
      "I am adding 90 to the list.\n"
     ]
    }
   ],
   "source": [
    "numbers2 = []\n",
    "# Adding every 10 numbers in 0-100 to the list\n",
    "for i in range(100):\n",
    "    if i % 10 == 0:\n",
    "        # Report progress for every number added\n",
    "        print(f\"I am adding {i} to the list.\")\n",
    "        numbers2.append(i)"
   ]
  },
  {
   "cell_type": "code",
   "execution_count": 32,
   "id": "f84bfdfe-cea4-4e52-8da7-7b07c17e176c",
   "metadata": {},
   "outputs": [
    {
     "data": {
      "text/plain": [
       "[0,\n",
       " 1,\n",
       " 2,\n",
       " 3,\n",
       " 4,\n",
       " 5,\n",
       " 6,\n",
       " 7,\n",
       " 8,\n",
       " 9,\n",
       " 10,\n",
       " 11,\n",
       " 12,\n",
       " 13,\n",
       " 14,\n",
       " 15,\n",
       " 16,\n",
       " 17,\n",
       " 18,\n",
       " 19,\n",
       " 20,\n",
       " 21,\n",
       " 22,\n",
       " 23,\n",
       " 24,\n",
       " 25,\n",
       " 26,\n",
       " 27,\n",
       " 28,\n",
       " 29,\n",
       " 30,\n",
       " 31,\n",
       " 32,\n",
       " 33,\n",
       " 34,\n",
       " 35,\n",
       " 36,\n",
       " 37,\n",
       " 38,\n",
       " 39,\n",
       " 40,\n",
       " 41,\n",
       " 42,\n",
       " 43,\n",
       " 44,\n",
       " 45,\n",
       " 46,\n",
       " 47,\n",
       " 48,\n",
       " 49,\n",
       " 50,\n",
       " 51,\n",
       " 52,\n",
       " 53,\n",
       " 54,\n",
       " 55,\n",
       " 56,\n",
       " 57,\n",
       " 58,\n",
       " 59,\n",
       " 60,\n",
       " 61,\n",
       " 62,\n",
       " 63,\n",
       " 64,\n",
       " 65,\n",
       " 66,\n",
       " 67,\n",
       " 68,\n",
       " 69,\n",
       " 70,\n",
       " 71,\n",
       " 72,\n",
       " 73,\n",
       " 74,\n",
       " 75,\n",
       " 76,\n",
       " 77,\n",
       " 78,\n",
       " 79,\n",
       " 80,\n",
       " 81,\n",
       " 82,\n",
       " 83,\n",
       " 84,\n",
       " 85,\n",
       " 86,\n",
       " 87,\n",
       " 88,\n",
       " 89,\n",
       " 90,\n",
       " 91,\n",
       " 92,\n",
       " 93,\n",
       " 94,\n",
       " 95,\n",
       " 96,\n",
       " 97,\n",
       " 98,\n",
       " 99]"
      ]
     },
     "execution_count": 32,
     "metadata": {},
     "output_type": "execute_result"
    }
   ],
   "source": [
    "numbers"
   ]
  },
  {
   "cell_type": "code",
   "execution_count": 6,
   "id": "5d0919d6",
   "metadata": {},
   "outputs": [
    {
     "data": {
      "text/plain": [
       "[0, 10, 20, 30, 40, 50, 60, 70, 80, 90]"
      ]
     },
     "execution_count": 6,
     "metadata": {},
     "output_type": "execute_result"
    }
   ],
   "source": [
    "numbers2"
   ]
  },
  {
   "attachments": {},
   "cell_type": "markdown",
   "id": "db25b26a",
   "metadata": {},
   "source": [
    "# 2 Some loose ends"
   ]
  },
  {
   "attachments": {},
   "cell_type": "markdown",
   "id": "33c9693e",
   "metadata": {},
   "source": [
    "## 2.1 Positional, keyword and default arguments"
   ]
  },
  {
   "cell_type": "code",
   "execution_count": 15,
   "id": "27fd68f4-ed13-435c-b6b5-0d958daf2bd6",
   "metadata": {},
   "outputs": [],
   "source": [
    "def side_by_side(a, b, c=42):\n",
    "    return f\"{a: 2d}---{b: 2d}---{c: 2d}\""
   ]
  },
  {
   "cell_type": "markdown",
   "id": "67fd129f-4eb7-4b41-a383-399098dfd441",
   "metadata": {},
   "source": [
    "### Positional"
   ]
  },
  {
   "cell_type": "code",
   "execution_count": 43,
   "id": "0f9a6b54-ed53-4e79-b48d-cf708c5f45e9",
   "metadata": {},
   "outputs": [
    {
     "data": {
      "text/plain": [
       "' 3--- 4--- 5'"
      ]
     },
     "execution_count": 43,
     "metadata": {},
     "output_type": "execute_result"
    }
   ],
   "source": [
    "side_by_side(3, 4, 5)  # Three positional"
   ]
  },
  {
   "cell_type": "markdown",
   "id": "f35ee118-72d8-470c-a5f8-efe0a8ce67d1",
   "metadata": {},
   "source": [
    "### Keyword"
   ]
  },
  {
   "cell_type": "code",
   "execution_count": 44,
   "id": "e429539f-6448-4302-8e64-af36121993b5",
   "metadata": {},
   "outputs": [
    {
     "data": {
      "text/plain": [
       "' 2--- 4--- 10'"
      ]
     },
     "execution_count": 44,
     "metadata": {},
     "output_type": "execute_result"
    }
   ],
   "source": [
    "side_by_side(c=10, a=2, b=4)  # Three keyword"
   ]
  },
  {
   "cell_type": "code",
   "execution_count": 40,
   "id": "bf4dbd37-1982-4267-9337-4305c41853b8",
   "metadata": {},
   "outputs": [
    {
     "data": {
      "text/plain": [
       "' 7--- 2--- 1'"
      ]
     },
     "execution_count": 40,
     "metadata": {},
     "output_type": "execute_result"
    }
   ],
   "source": [
    "side_by_side(a=7, c=1, b=2)  # order does not matter"
   ]
  },
  {
   "cell_type": "markdown",
   "id": "43e6493b-6a86-4efe-9f0e-70592dc1a691",
   "metadata": {},
   "source": [
    "### Default"
   ]
  },
  {
   "cell_type": "code",
   "execution_count": 47,
   "id": "cc2f5cd0-5504-4fcf-89a5-7264e9b3e8fa",
   "metadata": {},
   "outputs": [
    {
     "data": {
      "text/plain": [
       "' 2--- 5--- 42'"
      ]
     },
     "execution_count": 47,
     "metadata": {},
     "output_type": "execute_result"
    }
   ],
   "source": [
    "side_by_side(2, 5) # Two positional, One default"
   ]
  },
  {
   "cell_type": "code",
   "execution_count": 19,
   "id": "20e2b734-e660-4a92-b1f6-9879cc12289d",
   "metadata": {},
   "outputs": [
    {
     "data": {
      "text/plain": [
       "' 1--- 1--- 42'"
      ]
     },
     "execution_count": 19,
     "metadata": {},
     "output_type": "execute_result"
    }
   ],
   "source": [
    "side_by_side(1, b=1)  # One positional, 1 keyword, 1 default"
   ]
  },
  {
   "cell_type": "code",
   "execution_count": 49,
   "id": "3f3799e3-3817-4614-994f-48c0a74176f2",
   "metadata": {},
   "outputs": [
    {
     "ename": "SyntaxError",
     "evalue": "positional argument follows keyword argument (3720407350.py, line 2)",
     "output_type": "error",
     "traceback": [
      "\u001b[0;36m  Cell \u001b[0;32mIn[49], line 2\u001b[0;36m\u001b[0m\n\u001b[0;31m    side_By_side(a=2, 3)\u001b[0m\n\u001b[0m                       ^\u001b[0m\n\u001b[0;31mSyntaxError\u001b[0m\u001b[0;31m:\u001b[0m positional argument follows keyword argument\n"
     ]
    }
   ],
   "source": [
    "# Will not work\n",
    "side_By_side(a=2, 3)"
   ]
  },
  {
   "cell_type": "markdown",
   "id": "e934ba31-cb4f-4495-99b0-db04c864e7b4",
   "metadata": {},
   "source": [
    "### More examples"
   ]
  },
  {
   "cell_type": "code",
   "execution_count": 48,
   "id": "bb652287-7ff1-45c6-9f02-5ad22de12673",
   "metadata": {},
   "outputs": [
    {
     "ename": "TypeError",
     "evalue": "side_by_side() got multiple values for argument 'a'",
     "output_type": "error",
     "traceback": [
      "\u001b[0;31m---------------------------------------------------------------------------\u001b[0m",
      "\u001b[0;31mTypeError\u001b[0m                                 Traceback (most recent call last)",
      "Cell \u001b[0;32mIn[48], line 1\u001b[0m\n\u001b[0;32m----> 1\u001b[0m \u001b[43mside_by_side\u001b[49m\u001b[43m(\u001b[49m\u001b[38;5;241;43m1\u001b[39;49m\u001b[43m,\u001b[49m\u001b[43m \u001b[49m\u001b[43mc\u001b[49m\u001b[38;5;241;43m=\u001b[39;49m\u001b[38;5;241;43m2\u001b[39;49m\u001b[43m,\u001b[49m\u001b[43m \u001b[49m\u001b[43mb\u001b[49m\u001b[38;5;241;43m=\u001b[39;49m\u001b[38;5;241;43m3\u001b[39;49m\u001b[43m,\u001b[49m\u001b[43m \u001b[49m\u001b[43ma\u001b[49m\u001b[38;5;241;43m=\u001b[39;49m\u001b[38;5;241;43m4\u001b[39;49m\u001b[43m)\u001b[49m\n",
      "\u001b[0;31mTypeError\u001b[0m: side_by_side() got multiple values for argument 'a'"
     ]
    }
   ],
   "source": [
    "side_by_side(1, c=2, b=3, a=4)"
   ]
  },
  {
   "cell_type": "code",
   "execution_count": 16,
   "id": "c306807d-73a7-4326-8713-2b7cdc097a1d",
   "metadata": {},
   "outputs": [
    {
     "data": {
      "text/plain": [
       "' 2--- 3--- 42'"
      ]
     },
     "execution_count": 16,
     "metadata": {},
     "output_type": "execute_result"
    }
   ],
   "source": [
    "side_by_side(a=2, b=3)  # Two keyword, 1 default"
   ]
  },
  {
   "cell_type": "code",
   "execution_count": 18,
   "id": "b95e50fb-01ee-40f6-9a95-77e843c6f06b",
   "metadata": {},
   "outputs": [
    {
     "data": {
      "text/plain": [
       "' 2--- 3--- 4'"
      ]
     },
     "execution_count": 18,
     "metadata": {},
     "output_type": "execute_result"
    }
   ],
   "source": [
    "side_by_side(2, b=3, c=4)  # One positional, 2 keyword"
   ]
  },
  {
   "attachments": {},
   "cell_type": "markdown",
   "id": "21ebf726",
   "metadata": {},
   "source": [
    "## 2.2 Docstrings"
   ]
  },
  {
   "cell_type": "code",
   "execution_count": 51,
   "id": "c3c2ff64-e835-4980-9bdc-0920d11641e7",
   "metadata": {},
   "outputs": [],
   "source": [
    "def side_by_side(a, b, c=42):\n",
    "    '''\n",
    "    A test function to demonstrate how positional, keyword\n",
    "    and default arguments work.\n",
    "    '''\n",
    "    return f\"{a: 2d}---{b: 2d}---{c: 2d}\""
   ]
  },
  {
   "cell_type": "code",
   "execution_count": 52,
   "id": "2b051b51-beaf-4671-a632-12ed59baa827",
   "metadata": {},
   "outputs": [
    {
     "name": "stdout",
     "output_type": "stream",
     "text": [
      "Help on function side_by_side in module __main__:\n",
      "\n",
      "side_by_side(a, b, c=42)\n",
      "    A test function to demonstrate how positional, keyword\n",
      "    and default arguments work.\n",
      "\n"
     ]
    }
   ],
   "source": [
    "help(side_by_side)"
   ]
  },
  {
   "cell_type": "code",
   "execution_count": 54,
   "id": "3a395737-a350-4f15-8b0f-b66307f5709a",
   "metadata": {},
   "outputs": [
    {
     "data": {
      "text/plain": [
       "\u001b[0;31mSignature:\u001b[0m \u001b[0mside_by_side\u001b[0m\u001b[0;34m(\u001b[0m\u001b[0ma\u001b[0m\u001b[0;34m,\u001b[0m \u001b[0mb\u001b[0m\u001b[0;34m,\u001b[0m \u001b[0mc\u001b[0m\u001b[0;34m=\u001b[0m\u001b[0;36m42\u001b[0m\u001b[0;34m)\u001b[0m\u001b[0;34m\u001b[0m\u001b[0;34m\u001b[0m\u001b[0m\n",
       "\u001b[0;31mDocstring:\u001b[0m\n",
       "A test function to demonstrate how positional, keyword\n",
       "and default arguments work.\n",
       "\u001b[0;31mFile:\u001b[0m      /var/folders/h8/2vtwt2310rj05634sbpcf5140000gn/T/ipykernel_59006/4033937568.py\n",
       "\u001b[0;31mType:\u001b[0m      function"
      ]
     },
     "metadata": {},
     "output_type": "display_data"
    }
   ],
   "source": [
    "?side_by_side"
   ]
  },
  {
   "attachments": {},
   "cell_type": "markdown",
   "id": "cb65fff2",
   "metadata": {},
   "source": [
    "## 2.3 Function are first-class citizens"
   ]
  },
  {
   "cell_type": "code",
   "execution_count": 68,
   "id": "0c969781-9cfc-4376-bd8b-4dfc6bcef4c5",
   "metadata": {},
   "outputs": [],
   "source": [
    "def my_function(angle, input_function):\n",
    "        return input_function(angle)"
   ]
  },
  {
   "cell_type": "code",
   "execution_count": 70,
   "id": "c4e13263-c5ff-44e0-9daf-78c345cf71b8",
   "metadata": {},
   "outputs": [
    {
     "data": {
      "text/plain": [
       "1.0"
      ]
     },
     "execution_count": 70,
     "metadata": {},
     "output_type": "execute_result"
    }
   ],
   "source": [
    "my_function(np.pi/2, np.sin)  # np.sin(angle)"
   ]
  },
  {
   "cell_type": "code",
   "execution_count": 72,
   "id": "bb029043-3e09-4ae1-891c-e73bc443f7b8",
   "metadata": {},
   "outputs": [
    {
     "data": {
      "text/plain": [
       "6.123233995736766e-17"
      ]
     },
     "execution_count": 72,
     "metadata": {},
     "output_type": "execute_result"
    }
   ],
   "source": [
    "my_function(np.pi/2, np.cos)"
   ]
  },
  {
   "cell_type": "code",
   "execution_count": 60,
   "id": "0b7d116e-d9cc-482b-8dcd-6b34d90395ee",
   "metadata": {},
   "outputs": [
    {
     "data": {
      "text/plain": [
       "-1.0"
      ]
     },
     "execution_count": 60,
     "metadata": {},
     "output_type": "execute_result"
    }
   ],
   "source": [
    "my_function(np.pi/2, lambda x: np.cos(2*x))"
   ]
  },
  {
   "cell_type": "code",
   "execution_count": 69,
   "id": "38c3e146-047d-4eab-a0b0-aaa97da793c3",
   "metadata": {},
   "outputs": [
    {
     "data": {
      "text/plain": [
       "9.869604401089358"
      ]
     },
     "execution_count": 69,
     "metadata": {},
     "output_type": "execute_result"
    }
   ],
   "source": [
    "my_function(angle=np.pi, input_function=lambda x:x**2)"
   ]
  },
  {
   "cell_type": "code",
   "execution_count": 74,
   "id": "d1828af8-6503-4e76-9aaf-660c6b5655f6",
   "metadata": {},
   "outputs": [
    {
     "ename": "TypeError",
     "evalue": "'numpy.float64' object is not callable",
     "output_type": "error",
     "traceback": [
      "\u001b[0;31m---------------------------------------------------------------------------\u001b[0m",
      "\u001b[0;31mTypeError\u001b[0m                                 Traceback (most recent call last)",
      "Cell \u001b[0;32mIn[74], line 1\u001b[0m\n\u001b[0;32m----> 1\u001b[0m \u001b[43mmy_function\u001b[49m\u001b[43m(\u001b[49m\u001b[43mnp\u001b[49m\u001b[38;5;241;43m.\u001b[39;49m\u001b[43mpi\u001b[49m\u001b[38;5;241;43m/\u001b[39;49m\u001b[38;5;241;43m2\u001b[39;49m\u001b[43m,\u001b[49m\u001b[43m \u001b[49m\u001b[43mnp\u001b[49m\u001b[38;5;241;43m.\u001b[39;49m\u001b[43mcos\u001b[49m\u001b[43m(\u001b[49m\u001b[38;5;241;43m123\u001b[39;49m\u001b[43m)\u001b[49m\u001b[43m)\u001b[49m  \u001b[38;5;66;03m# Cannot call a number as a function\u001b[39;00m\n",
      "Cell \u001b[0;32mIn[68], line 2\u001b[0m, in \u001b[0;36mmy_function\u001b[0;34m(angle, input_function)\u001b[0m\n\u001b[1;32m      1\u001b[0m \u001b[38;5;28;01mdef\u001b[39;00m \u001b[38;5;21mmy_function\u001b[39m(angle, input_function):\n\u001b[0;32m----> 2\u001b[0m         \u001b[38;5;28;01mreturn\u001b[39;00m \u001b[43minput_function\u001b[49m\u001b[43m(\u001b[49m\u001b[43mangle\u001b[49m\u001b[43m)\u001b[49m\n",
      "\u001b[0;31mTypeError\u001b[0m: 'numpy.float64' object is not callable"
     ]
    }
   ],
   "source": [
    "my_function(np.pi/2, np.cos(123))  # Cannot call a number as a function"
   ]
  },
  {
   "attachments": {},
   "cell_type": "markdown",
   "id": "5d301ba9",
   "metadata": {},
   "source": [
    "## 2.4 More about unpacking"
   ]
  },
  {
   "cell_type": "markdown",
   "id": "afb1e47e-b7f2-416f-813f-f7190ee35531",
   "metadata": {},
   "source": [
    "**Example 1**"
   ]
  },
  {
   "cell_type": "code",
   "execution_count": 61,
   "id": "b88d9422-6048-4cbe-b604-a435a27e7664",
   "metadata": {},
   "outputs": [
    {
     "data": {
      "text/plain": [
       "(1, 2, 3)"
      ]
     },
     "execution_count": 61,
     "metadata": {},
     "output_type": "execute_result"
    }
   ],
   "source": [
    "x, y, z = [1, 2, 3]\n",
    "x, y, z"
   ]
  },
  {
   "cell_type": "markdown",
   "id": "65cfcc86-1cf6-4835-a675-0832bf576bf1",
   "metadata": {},
   "source": [
    "**Example 2**"
   ]
  },
  {
   "cell_type": "code",
   "execution_count": 75,
   "id": "0fba446e-6c1f-46e8-8b24-128615b3446f",
   "metadata": {},
   "outputs": [
    {
     "data": {
      "text/plain": [
       "(1, 2, 3)"
      ]
     },
     "execution_count": 75,
     "metadata": {},
     "output_type": "execute_result"
    }
   ],
   "source": [
    "x, y, z = np.array([1, 2, 3])\n",
    "x, y, z"
   ]
  },
  {
   "cell_type": "markdown",
   "id": "aada3d61-5c8c-4514-a7bf-aaf8babe12c6",
   "metadata": {},
   "source": [
    "**Example 3**"
   ]
  },
  {
   "cell_type": "code",
   "execution_count": 77,
   "id": "29780a25-84a6-430d-90ce-cf06d63023d5",
   "metadata": {},
   "outputs": [
    {
     "data": {
      "text/plain": [
       "(1, [2, 3, 4], 5)"
      ]
     },
     "execution_count": 77,
     "metadata": {},
     "output_type": "execute_result"
    }
   ],
   "source": [
    "x, *y, z = np.array([1, 2, 3, 4, 5])\n",
    "x, y, z"
   ]
  },
  {
   "cell_type": "code",
   "execution_count": 82,
   "id": "99c4ef0f-c405-4c71-a522-6b01c91dbb4a",
   "metadata": {},
   "outputs": [
    {
     "data": {
      "text/plain": [
       "(1, 2, [3, 4, 5])"
      ]
     },
     "execution_count": 82,
     "metadata": {},
     "output_type": "execute_result"
    }
   ],
   "source": [
    "x, y, *z = np.array([1, 2, 3, 4, 5])\n",
    "x, y, z"
   ]
  },
  {
   "cell_type": "markdown",
   "id": "39b60bef-042d-40a6-92bc-56ee77afe2c1",
   "metadata": {},
   "source": [
    "**Example 4**"
   ]
  },
  {
   "cell_type": "code",
   "execution_count": 78,
   "id": "97263e33-ccf1-41ad-8d22-5f2d3466709a",
   "metadata": {},
   "outputs": [
    {
     "data": {
      "text/plain": [
       "(1, 5)"
      ]
     },
     "execution_count": 78,
     "metadata": {},
     "output_type": "execute_result"
    }
   ],
   "source": [
    "x, *_, y = [1, 2, 3, 4, 5]\n",
    "x, y"
   ]
  },
  {
   "cell_type": "code",
   "execution_count": 81,
   "id": "0a594b42-4306-488d-bf79-d49f9cb99408",
   "metadata": {},
   "outputs": [
    {
     "name": "stdout",
     "output_type": "stream",
     "text": [
      "birds\n",
      "birds\n",
      "birds\n",
      "birds\n",
      "birds\n",
      "birds\n",
      "birds\n",
      "birds\n",
      "birds\n",
      "birds\n"
     ]
    }
   ],
   "source": [
    "# Using underscore\n",
    "for _ in range(10):\n",
    "    print(\"birds\")"
   ]
  }
 ],
 "metadata": {
  "kernelspec": {
   "display_name": "Python 3 (ipykernel)",
   "language": "python",
   "name": "python3"
  },
  "language_info": {
   "codemirror_mode": {
    "name": "ipython",
    "version": 3
   },
   "file_extension": ".py",
   "mimetype": "text/x-python",
   "name": "python",
   "nbconvert_exporter": "python",
   "pygments_lexer": "ipython3",
   "version": "3.12.1"
  },
  "toc": {
   "base_numbering": 1,
   "nav_menu": {},
   "number_sections": true,
   "sideBar": true,
   "skip_h1_title": false,
   "title_cell": "Table of Contents",
   "title_sidebar": "Contents",
   "toc_cell": false,
   "toc_position": {},
   "toc_section_display": true,
   "toc_window_display": false
  },
  "vscode": {
   "interpreter": {
    "hash": "31f2aee4e71d21fbe5cf8b01ff0e069b9275f58929596ceb00d14d90e3e16cd6"
   }
  }
 },
 "nbformat": 4,
 "nbformat_minor": 5
}
