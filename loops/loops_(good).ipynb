{
 "cells": [
  {
   "attachments": {},
   "cell_type": "markdown",
   "id": "123456",
   "metadata": {},
   "source": [
    "<div style=\"text-align:left;font-size:2em\"><span style=\"font-weight:bolder;font-size:1.25em\">SP2273 | Learning Portfolio</span><br><br><span style=\"font-weight:bold;color:darkred\">Loops (Good)</span></div>"
   ]
  },
  {
   "attachments": {},
   "cell_type": "markdown",
   "id": "fa18afa6",
   "metadata": {},
   "source": [
    "# 1 Interrupting the flow"
   ]
  },
  {
   "cell_type": "markdown",
   "id": "d257af12-85cd-4433-b174-9850bd956099",
   "metadata": {},
   "source": [
    "**Example 1**"
   ]
  },
  {
   "cell_type": "code",
   "execution_count": 7,
   "id": "d8d48a68-614a-46b2-947f-2879b5755375",
   "metadata": {},
   "outputs": [
    {
     "name": "stdout",
     "output_type": "stream",
     "text": [
      "10 raised to the power of 0 is 1.\n",
      "10 raised to the power of 1 is 10.\n",
      "10 raised to the power of 2 is 100.\n",
      "10 raised to the power of 3 is 1000.\n"
     ]
    }
   ],
   "source": [
    "for power in range(5):\n",
    "    number = 10 ** power\n",
    "    if number > 1000:\n",
    "        break\n",
    "    print(f\"10 raised to the power of {power} is {number}.\")"
   ]
  },
  {
   "cell_type": "markdown",
   "id": "71762041-a199-4b62-80ba-c5020709fcda",
   "metadata": {},
   "source": [
    "**Example 2**"
   ]
  },
  {
   "cell_type": "code",
   "execution_count": 5,
   "id": "6a6657c5-5f38-4134-a087-9374eabe4783",
   "metadata": {},
   "outputs": [
    {
     "name": "stdout",
     "output_type": "stream",
     "text": [
      "0 1\n",
      "2 4\n",
      "4 16\n"
     ]
    }
   ],
   "source": [
    "for power in range(5):\n",
    "    if power % 2 != 0:\n",
    "        continue\n",
    "    number = 2 ** power\n",
    "    print(power, number)"
   ]
  },
  {
   "cell_type": "markdown",
   "id": "a04b9af8-0873-4c63-b9fd-4f659bb50bde",
   "metadata": {},
   "source": [
    "**Example 3**"
   ]
  },
  {
   "cell_type": "code",
   "execution_count": 3,
   "id": "72e90453-84ca-4a68-98c1-7554142adab3",
   "metadata": {},
   "outputs": [
    {
     "name": "stdout",
     "output_type": "stream",
     "text": [
      "1\n",
      "3\n",
      "5\n",
      "7\n",
      "9\n"
     ]
    }
   ],
   "source": [
    "for number in range(10):\n",
    "    if number % 2 == 0:\n",
    "        continue\n",
    "    print(number)"
   ]
  },
  {
   "cell_type": "markdown",
   "id": "cd3a316d-bb81-43a5-bcce-510cc21c83f3",
   "metadata": {},
   "source": [
    "**Example 4**"
   ]
  },
  {
   "cell_type": "code",
   "execution_count": 11,
   "id": "55c26874-9ec7-462b-98b5-23720b2f3a16",
   "metadata": {},
   "outputs": [
    {
     "name": "stdout",
     "output_type": "stream",
     "text": [
      "0\n",
      "1\n",
      "2\n",
      "3\n",
      "4\n",
      "5\n",
      "6\n",
      "7\n",
      "8\n",
      "9\n",
      "10\n"
     ]
    }
   ],
   "source": [
    "number = 0\n",
    "\n",
    "while True:\n",
    "    print(number)\n",
    "    number += 1\n",
    "    if number > 10: break"
   ]
  },
  {
   "cell_type": "code",
   "execution_count": 10,
   "id": "9c4077d5-76aa-4446-8822-dffcafc710ba",
   "metadata": {},
   "outputs": [
    {
     "name": "stdout",
     "output_type": "stream",
     "text": [
      "1 2\n",
      "2 4\n",
      "3 8\n",
      "4 16\n",
      "5 32\n",
      "6 64\n",
      "7 128\n",
      "8 256\n",
      "9 512\n",
      "10 1024\n"
     ]
    }
   ],
   "source": [
    "power = 0\n",
    "\n",
    "while power < 10:\n",
    "    power += 1\n",
    "    number = 2 ** power\n",
    "    print(power, number)"
   ]
  },
  {
   "attachments": {},
   "cell_type": "markdown",
   "id": "56c18d56",
   "metadata": {},
   "source": [
    "# 2 List comprehension!"
   ]
  },
  {
   "attachments": {},
   "cell_type": "markdown",
   "id": "77091ac8",
   "metadata": {},
   "source": [
    "## 2.1 Basic syntax"
   ]
  },
  {
   "cell_type": "code",
   "execution_count": 12,
   "id": "3f6cbf00-9bae-4552-9618-2d3efa011836",
   "metadata": {},
   "outputs": [
    {
     "data": {
      "text/plain": [
       "[0, 1, 2, 3, 4, 5, 6]"
      ]
     },
     "execution_count": 12,
     "metadata": {},
     "output_type": "execute_result"
    }
   ],
   "source": [
    "[number for number in range(7)]"
   ]
  },
  {
   "cell_type": "code",
   "execution_count": 14,
   "id": "2220fa39-1cd1-4ea4-a994-cb11aefe8ddd",
   "metadata": {},
   "outputs": [
    {
     "data": {
      "text/plain": [
       "[0, 1, 4, 9, 16, 25, 36, 49, 64, 81]"
      ]
     },
     "execution_count": 14,
     "metadata": {},
     "output_type": "execute_result"
    }
   ],
   "source": [
    "[number ** 2 for number in range(10)]"
   ]
  },
  {
   "attachments": {},
   "cell_type": "markdown",
   "id": "46d150b5",
   "metadata": {},
   "source": [
    "## 2.2 List comprehension with conditions"
   ]
  },
  {
   "cell_type": "code",
   "execution_count": 18,
   "id": "d803ddf2-e61d-4b0d-b972-11f62e83b7d8",
   "metadata": {},
   "outputs": [
    {
     "data": {
      "text/plain": [
       "[1, 3, 5, 7, 9]"
      ]
     },
     "execution_count": 18,
     "metadata": {},
     "output_type": "execute_result"
    }
   ],
   "source": [
    "[number for number in range(10) if number % 2 != 0]"
   ]
  },
  {
   "cell_type": "code",
   "execution_count": 19,
   "id": "23112c2f-4e94-4fda-b483-a340f94830ef",
   "metadata": {},
   "outputs": [
    {
     "data": {
      "text/plain": [
       "['Why, 2 to the power 0 is 1',\n",
       " 'Why, 2 to the power 1 is 2',\n",
       " 'Why, 2 to the power 2 is 4',\n",
       " 'Why, 2 to the power 3 is 8',\n",
       " 'Why, 2 to the power 4 is 16',\n",
       " 'Why, 2 to the power 5 is 32',\n",
       " 'Why, 2 to the power 6 is 64',\n",
       " 'Why, 2 to the power 7 is 128',\n",
       " 'Why, 2 to the power 8 is 256',\n",
       " 'Why, 2 to the power 9 is 512']"
      ]
     },
     "execution_count": 19,
     "metadata": {},
     "output_type": "execute_result"
    }
   ],
   "source": [
    "[f\"Why, 2 to the power {power} is {2 ** power}\" for power in range(10)]"
   ]
  },
  {
   "attachments": {},
   "cell_type": "markdown",
   "id": "e800c478",
   "metadata": {},
   "source": [
    "# 3 Other useful stuff"
   ]
  },
  {
   "attachments": {},
   "cell_type": "markdown",
   "id": "da4f3c1b",
   "metadata": {},
   "source": [
    "## 3.1 for with unpacking"
   ]
  },
  {
   "cell_type": "code",
   "execution_count": 20,
   "id": "8c894040-fcf9-4433-b925-107b80b63b82",
   "metadata": {},
   "outputs": [
    {
     "name": "stdout",
     "output_type": "stream",
     "text": [
      "x = 1, y = 2, z = 3\n"
     ]
    }
   ],
   "source": [
    "x, y, z = [1, 2, 3]\n",
    "print(f\"x = {x}, y = {y}, z = {z}\")"
   ]
  },
  {
   "cell_type": "code",
   "execution_count": 25,
   "id": "68dbc8bd-37b9-485f-9ad0-ee8e87ac9aef",
   "metadata": {},
   "outputs": [
    {
     "name": "stdout",
     "output_type": "stream",
     "text": [
      "a = 10, b = 20, c = 30\n"
     ]
    }
   ],
   "source": [
    "a, b, c = [10, 20, 30]\n",
    "print(f\"{a = }, {b = }, {c = }\")"
   ]
  },
  {
   "cell_type": "code",
   "execution_count": 1,
   "id": "de91a20d-f10e-4f21-8ad4-ebf648c66598",
   "metadata": {},
   "outputs": [
    {
     "name": "stdout",
     "output_type": "stream",
     "text": [
      "Natasha Romanoff is Marvel's Black Widow!\n",
      "Tony Stark is Marvel's Iron Man!\n",
      "Stephen Strange is Marvel's Doctor Strange!\n"
     ]
    }
   ],
   "source": [
    "py_superhero_info = [[\"Natasha Romanoff\", \"Black Widow\"],\n",
    "                     [\"Tony Stark\", \"Iron Man\"],\n",
    "                     [\"Stephen Strange\", \"Doctor Strange\"]]\n",
    "\n",
    "for real_name, super_name in py_superhero_info:\n",
    "    print(f\"{real_name} is Marvel's {super_name}!\")"
   ]
  },
  {
   "attachments": {},
   "cell_type": "markdown",
   "id": "d6b42eb5",
   "metadata": {},
   "source": [
    "## 3.2 for with zip()"
   ]
  },
  {
   "cell_type": "code",
   "execution_count": 3,
   "id": "e804c34b-0df8-49de-9234-81f388e7616a",
   "metadata": {},
   "outputs": [],
   "source": [
    "super_names = [\"Black Widow\", \"Iron Man\", \"Doctor Strange\"]\n",
    "real_names = [\"Natasha Romanoff\", \"Tony Stark\", \"Stephen Strange\"]"
   ]
  },
  {
   "cell_type": "code",
   "execution_count": 32,
   "id": "fc07ca86-113a-4128-ba61-9a974f415e73",
   "metadata": {},
   "outputs": [
    {
     "data": {
      "text/plain": [
       "[('Natasha Romanoff', 'Black Widow'),\n",
       " ('Tony Stark', 'Iron Man'),\n",
       " ('Stephen Strange', 'Doctor Strange')]"
      ]
     },
     "execution_count": 32,
     "metadata": {},
     "output_type": "execute_result"
    }
   ],
   "source": [
    "list(zip(real_names, super_names))"
   ]
  },
  {
   "cell_type": "code",
   "execution_count": 4,
   "id": "11637cad-003c-4666-86c2-d1c2ddda8687",
   "metadata": {},
   "outputs": [
    {
     "name": "stdout",
     "output_type": "stream",
     "text": [
      "Natasha Romanoff is Marvel's Black Widow!\n",
      "Tony Stark is Marvel's Iron Man!\n",
      "Stephen Strange is Marvel's Doctor Strange!\n"
     ]
    }
   ],
   "source": [
    "for real_name, super_name in zip(real_names, super_names):\n",
    "    print(f\"{real_name} is Marvel's {super_name}!\")"
   ]
  },
  {
   "attachments": {},
   "cell_type": "markdown",
   "id": "d95b00b9",
   "metadata": {},
   "source": [
    "## 3.3 for with dictionaries"
   ]
  },
  {
   "cell_type": "markdown",
   "id": "820cf695-99c9-4e4b-8a70-dcd4185104f9",
   "metadata": {},
   "source": [
    "**items()**"
   ]
  },
  {
   "cell_type": "code",
   "execution_count": 8,
   "id": "475dc7ce-2043-4e39-872c-c5b0f8f3083e",
   "metadata": {},
   "outputs": [],
   "source": [
    "superhero_info = {\"Natasha Romanoff\": \"Black Widow\",\n",
    "                \"Tony Stark\": \"Iron Man\",\n",
    "                \"Stephen Strange\": \"Doctor Strange\"}"
   ]
  },
  {
   "cell_type": "code",
   "execution_count": 35,
   "id": "6dac8a2a-d11c-4e65-9dff-305303cd3993",
   "metadata": {},
   "outputs": [
    {
     "data": {
      "text/plain": [
       "dict_items([('Natasha Romanoff', 'Black Widow'), ('Tony Stark', 'Iron Man'), ('Stephen Strange', 'Doctor Strange')])"
      ]
     },
     "execution_count": 35,
     "metadata": {},
     "output_type": "execute_result"
    }
   ],
   "source": [
    "superhero_info.items()"
   ]
  },
  {
   "cell_type": "code",
   "execution_count": 36,
   "id": "469bd484-569f-4e35-ba3f-81e71d963504",
   "metadata": {},
   "outputs": [
    {
     "name": "stdout",
     "output_type": "stream",
     "text": [
      "Natasha Romanoff is Marvel's Black Widow!\n",
      "Tony Stark is Marvel's Iron Man!\n",
      "Stephen Strange is Marvel's Doctor Strange!\n"
     ]
    }
   ],
   "source": [
    "for key, value in superhero_info.items():\n",
    "    print(f\"{key} is Marvel's {value}!\")"
   ]
  },
  {
   "cell_type": "markdown",
   "id": "2ea7dc7b-c03a-4832-a78d-c14ec0235fa6",
   "metadata": {},
   "source": [
    "**Direct access with the keys**"
   ]
  },
  {
   "cell_type": "code",
   "execution_count": 12,
   "id": "a8bfcbd2-2d33-430c-a466-cf7689560257",
   "metadata": {},
   "outputs": [
    {
     "name": "stdout",
     "output_type": "stream",
     "text": [
      "Natasha Romanoff is Marvel's Black Widow!\n",
      "Tony Stark is Marvel's Iron Man!\n",
      "Stephen Strange is Marvel's Doctor Strange!\n"
     ]
    }
   ],
   "source": [
    "for real_name in superhero_info.keys():\n",
    "    super_name = superhero_info[real_name]\n",
    "    print(f\"{real_name} is Marvel's {super_name}!\")"
   ]
  },
  {
   "attachments": {},
   "cell_type": "markdown",
   "id": "00f26583",
   "metadata": {},
   "source": [
    "## Footnotes"
   ]
  }
 ],
 "metadata": {
  "kernelspec": {
   "display_name": "Python 3 (ipykernel)",
   "language": "python",
   "name": "python3"
  },
  "language_info": {
   "codemirror_mode": {
    "name": "ipython",
    "version": 3
   },
   "file_extension": ".py",
   "mimetype": "text/x-python",
   "name": "python",
   "nbconvert_exporter": "python",
   "pygments_lexer": "ipython3",
   "version": "3.11.5"
  },
  "toc": {
   "base_numbering": 1,
   "nav_menu": {},
   "number_sections": true,
   "sideBar": true,
   "skip_h1_title": false,
   "title_cell": "Table of Contents",
   "title_sidebar": "Contents",
   "toc_cell": false,
   "toc_position": {},
   "toc_section_display": true,
   "toc_window_display": false
  },
  "vscode": {
   "interpreter": {
    "hash": "31f2aee4e71d21fbe5cf8b01ff0e069b9275f58929596ceb00d14d90e3e16cd6"
   }
  }
 },
 "nbformat": 4,
 "nbformat_minor": 5
}
