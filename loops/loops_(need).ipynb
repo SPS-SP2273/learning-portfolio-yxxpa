{
 "cells": [
  {
   "attachments": {},
   "cell_type": "markdown",
   "id": "123456",
   "metadata": {},
   "source": [
    "<div style=\"text-align:left;font-size:2em\"><span style=\"font-weight:bolder;font-size:1.25em\">SP2273 | Learning Portfolio</span><br><br><span style=\"font-weight:bold;color:darkred\">Loops (Need)</span></div>"
   ]
  },
  {
   "attachments": {},
   "cell_type": "markdown",
   "id": "fbbb1976",
   "metadata": {},
   "source": [
    "# 1 The for iterator"
   ]
  },
  {
   "cell_type": "markdown",
   "id": "304baa6a-b354-4269-9d42-aad085482cf8",
   "metadata": {},
   "source": [
    "**Poor Example**"
   ]
  },
  {
   "cell_type": "code",
   "execution_count": 1,
   "id": "f55a2b13-bcb2-423e-b72f-7ed0fc90cadc",
   "metadata": {},
   "outputs": [],
   "source": [
    "real_names = [\"Natasha Romanoff\", \"Tony Stark\", \"Stephen Strange\"]"
   ]
  },
  {
   "cell_type": "code",
   "execution_count": 6,
   "id": "46e4a50d-6ee3-493f-a15a-dbaa27f5aa76",
   "metadata": {},
   "outputs": [
    {
     "name": "stdout",
     "output_type": "stream",
     "text": [
      "natasha romanoff is a Marvel superhero!\n",
      "tony stark is a Marvel superhero!\n",
      "stephen strange is a Marvel superhero!\n"
     ]
    }
   ],
   "source": [
    "name = real_names[0]\n",
    "print(f\"{name.lower()} is a Marvel superhero!\")\n",
    "\n",
    "name = real_names[1]\n",
    "print(f\"{name.lower()} is a Marvel superhero!\")\n",
    "\n",
    "name = real_names[2]\n",
    "print(f\"{name.lower()} is a Marvel superhero!\")"
   ]
  },
  {
   "attachments": {},
   "cell_type": "markdown",
   "id": "4f4c3a85",
   "metadata": {},
   "source": [
    "## 1.1 for with a list"
   ]
  },
  {
   "cell_type": "code",
   "execution_count": 11,
   "id": "8049ce35-afa4-4ed6-a439-eacfd7f0f372",
   "metadata": {},
   "outputs": [
    {
     "name": "stdout",
     "output_type": "stream",
     "text": [
      "--------------------------------------------------\n",
      "natasha romanoff is a Marvel superhero!\n",
      "--------------------------------------------------\n",
      "tony stark is a Marvel superhero!\n",
      "--------------------------------------------------\n",
      "stephen strange is a Marvel superhero!\n",
      "--------------------------------------------------\n"
     ]
    }
   ],
   "source": [
    "for name in real_names:\n",
    "    print(\"-\" * 50)\n",
    "    print(f\"{name.lower()} is a Marvel superhero!\")\n",
    "    \n",
    "print(\"-\" * 50)  # This is outside of the loop."
   ]
  },
  {
   "attachments": {},
   "cell_type": "markdown",
   "id": "606fc21e",
   "metadata": {},
   "source": [
    "## 1.2 for with enumerate"
   ]
  },
  {
   "cell_type": "markdown",
   "id": "a11f53ec-e682-42a3-bd67-58abd0089f0e",
   "metadata": {},
   "source": [
    "**Basic use**"
   ]
  },
  {
   "cell_type": "code",
   "execution_count": 2,
   "id": "5f9f37d7-c1da-451b-b4e4-951ac7eede69",
   "metadata": {},
   "outputs": [],
   "source": [
    "super_names = [\"Black Widow\", \"Iron Man\", \"Doctor Strange\"]\n",
    "real_names = [\"Natasha Romanoff\", \"Tony Stark\", \"Stephen Strange\"]\n",
    "universe = [\"Marvel\", \"Marvel\", \"Marvel\"]"
   ]
  },
  {
   "cell_type": "code",
   "execution_count": 3,
   "id": "5976189a-ab35-47a7-aad0-04e5547938b0",
   "metadata": {},
   "outputs": [
    {
     "name": "stdout",
     "output_type": "stream",
     "text": [
      "0: Natasha Romanoff is a Marvel superhero!\n",
      "1: Tony Stark is a Marvel superhero!\n",
      "2: Stephen Strange is a Marvel superhero!\n"
     ]
    }
   ],
   "source": [
    "count = 0\n",
    "for real_name in real_names:\n",
    "    print(f\"{count}: {real_name} is a Marvel superhero!\")\n",
    "    count += 1"
   ]
  },
  {
   "cell_type": "markdown",
   "id": "1bb5bcd4-f314-43de-b8f0-830d3f95aebb",
   "metadata": {},
   "source": [
    "**Using enumerate()**"
   ]
  },
  {
   "cell_type": "code",
   "execution_count": 4,
   "id": "790dd48b-0c01-449a-90d6-d9e729a22d51",
   "metadata": {},
   "outputs": [
    {
     "name": "stdout",
     "output_type": "stream",
     "text": [
      "0: Natasha Romanoff is a Marvel superhero!\n",
      "1: Tony Stark is a Marvel superhero!\n",
      "2: Stephen Strange is a Marvel superhero!\n"
     ]
    }
   ],
   "source": [
    "for count, real_name in enumerate(real_names):\n",
    "    print(f\"{count}: {real_name} is a Marvel superhero!\")"
   ]
  },
  {
   "cell_type": "markdown",
   "id": "e9a7595b-3436-4b6f-97b7-9393fc1e0cfa",
   "metadata": {},
   "source": [
    "**Index other lists**"
   ]
  },
  {
   "cell_type": "code",
   "execution_count": 36,
   "id": "4cc09eb7-f8cb-4ff0-ba46-9b1ec843d184",
   "metadata": {},
   "outputs": [
    {
     "name": "stdout",
     "output_type": "stream",
     "text": [
      "0 : Natasha Romanoff is Black Widow in the Marvel!\n",
      "1 : Tony Stark is Iron Man in the Marvel!\n",
      "2 : Stephen Strange is Doctor Strange in the Marvel!\n"
     ]
    }
   ],
   "source": [
    "for index, real_name in enumerate(real_names):\n",
    "    superhero_name = super_names[index]\n",
    "    which_universe = universe[index]\n",
    "    print(f\"{index} : {real_name} is {superhero_name} in the {which_universe}!\")"
   ]
  },
  {
   "cell_type": "markdown",
   "id": "065749fd-9765-4eda-97e4-385717535dee",
   "metadata": {},
   "source": [
    "**You can start counting anywhere**"
   ]
  },
  {
   "cell_type": "code",
   "execution_count": 38,
   "id": "af9a96f9-7e0b-45aa-82da-3ccb183f1428",
   "metadata": {},
   "outputs": [
    {
     "name": "stdout",
     "output_type": "stream",
     "text": [
      "100: Natasha Romanoff is a Marvel superhero!\n",
      "101: Tony Stark is a Marvel superhero!\n",
      "102: Stephen Strange is a Marvel superhero!\n"
     ]
    }
   ],
   "source": [
    "for count, real_name in enumerate(real_names, start=100):\n",
    "    print(f\"{count}: {real_name} is a Marvel superhero!\")"
   ]
  },
  {
   "attachments": {},
   "cell_type": "markdown",
   "id": "35ff5944",
   "metadata": {},
   "source": [
    "## 1.3 for with range"
   ]
  },
  {
   "cell_type": "markdown",
   "id": "478f1f2f-cd36-4737-9eef-08c5629058a3",
   "metadata": {},
   "source": [
    "**Example 1**"
   ]
  },
  {
   "cell_type": "code",
   "execution_count": 1,
   "id": "c1fda4a4-bd91-49b2-a6da-64b42fa1bbed",
   "metadata": {},
   "outputs": [
    {
     "name": "stdout",
     "output_type": "stream",
     "text": [
      "0\n",
      "1\n",
      "2\n",
      "3\n",
      "4\n"
     ]
    }
   ],
   "source": [
    "for i in range(5):\n",
    "    print(i)"
   ]
  },
  {
   "cell_type": "code",
   "execution_count": 40,
   "id": "012fdaee-b1c8-4bdc-9b99-100ef53acf03",
   "metadata": {},
   "outputs": [
    {
     "data": {
      "text/plain": [
       "range(0, 5)"
      ]
     },
     "execution_count": 40,
     "metadata": {},
     "output_type": "execute_result"
    }
   ],
   "source": [
    "range(5)"
   ]
  },
  {
   "cell_type": "code",
   "execution_count": 42,
   "id": "c7ceab4a-44b1-43eb-a1bd-224fabb3da66",
   "metadata": {},
   "outputs": [
    {
     "data": {
      "text/plain": [
       "[0, 1, 2, 3, 4]"
      ]
     },
     "execution_count": 42,
     "metadata": {},
     "output_type": "execute_result"
    }
   ],
   "source": [
    "list(range(5))"
   ]
  },
  {
   "cell_type": "markdown",
   "id": "c3a4ff9f-ff02-4aed-9443-661aea9e3cff",
   "metadata": {},
   "source": [
    "**Example 2**"
   ]
  },
  {
   "cell_type": "code",
   "execution_count": 44,
   "id": "08a2c0c8-bfac-4f4b-ac6a-4c305ba33f7f",
   "metadata": {},
   "outputs": [
    {
     "name": "stdout",
     "output_type": "stream",
     "text": [
      "5\n",
      "6\n",
      "7\n",
      "8\n",
      "9\n"
     ]
    }
   ],
   "source": [
    "for i in range(5, 10):\n",
    "    print(i)"
   ]
  },
  {
   "cell_type": "code",
   "execution_count": 49,
   "id": "6ade741e-d3b4-4b59-a0e9-53ab316a4514",
   "metadata": {},
   "outputs": [
    {
     "name": "stdout",
     "output_type": "stream",
     "text": [
      "10\n",
      "8\n",
      "6\n",
      "4\n",
      "2\n"
     ]
    }
   ],
   "source": [
    "for i in range(10, 1, -2):\n",
    "    print(i)"
   ]
  },
  {
   "cell_type": "markdown",
   "id": "1bce6255-4d57-4bbc-9366-785d1edcbe04",
   "metadata": {},
   "source": [
    "**Still trying to print superhero names**"
   ]
  },
  {
   "cell_type": "code",
   "execution_count": 53,
   "id": "19f08809-b096-4e4c-9fa0-4e8b4689ba83",
   "metadata": {},
   "outputs": [
    {
     "name": "stdout",
     "output_type": "stream",
     "text": [
      "Natasha Romanoff is Black Widow in the Marvel Universe!\n",
      "Tony Stark is Iron Man in the Marvel Universe!\n",
      "Stephen Strange is Doctor Strange in the Marvel Universe!\n"
     ]
    }
   ],
   "source": [
    "for index in range(len(real_names)):  # range(3)\n",
    "    real_name = real_names[index]\n",
    "    super_name = super_names[index]  \n",
    "    which_universe = universe[index]\n",
    "    print(f\"{real_name} is {super_name} in the {which_universe} Universe!\")"
   ]
  },
  {
   "cell_type": "code",
   "execution_count": 59,
   "id": "3b071a39-3023-43af-abbe-a83ac4bb8d09",
   "metadata": {},
   "outputs": [
    {
     "name": "stdout",
     "output_type": "stream",
     "text": [
      "o.o\n",
      "o.o\n",
      "o.o\n",
      "o.o\n",
      "o.o\n",
      "o.o\n",
      "o.o\n",
      "o.o\n",
      "o.o\n",
      "o.o\n"
     ]
    }
   ],
   "source": [
    "for _ in range(10):\n",
    "    print(\"o.o\")"
   ]
  },
  {
   "attachments": {},
   "cell_type": "markdown",
   "id": "aed969c4",
   "metadata": {},
   "source": [
    "# 2 while"
   ]
  },
  {
   "cell_type": "code",
   "execution_count": 54,
   "id": "16471647-153a-43af-91d2-193349acd060",
   "metadata": {},
   "outputs": [
    {
     "name": "stdout",
     "output_type": "stream",
     "text": [
      "0\n",
      "1\n",
      "2\n",
      "3\n",
      "4\n"
     ]
    }
   ],
   "source": [
    "number = 0\n",
    "\n",
    "while number < 5:\n",
    "    print(number)\n",
    "    number += 1"
   ]
  }
 ],
 "metadata": {
  "kernelspec": {
   "display_name": "Python 3 (ipykernel)",
   "language": "python",
   "name": "python3"
  },
  "language_info": {
   "codemirror_mode": {
    "name": "ipython",
    "version": 3
   },
   "file_extension": ".py",
   "mimetype": "text/x-python",
   "name": "python",
   "nbconvert_exporter": "python",
   "pygments_lexer": "ipython3",
   "version": "3.11.5"
  },
  "toc": {
   "base_numbering": 1,
   "nav_menu": {},
   "number_sections": true,
   "sideBar": true,
   "skip_h1_title": false,
   "title_cell": "Table of Contents",
   "title_sidebar": "Contents",
   "toc_cell": false,
   "toc_position": {},
   "toc_section_display": true,
   "toc_window_display": false
  },
  "vscode": {
   "interpreter": {
    "hash": "31f2aee4e71d21fbe5cf8b01ff0e069b9275f58929596ceb00d14d90e3e16cd6"
   }
  }
 },
 "nbformat": 4,
 "nbformat_minor": 5
}
