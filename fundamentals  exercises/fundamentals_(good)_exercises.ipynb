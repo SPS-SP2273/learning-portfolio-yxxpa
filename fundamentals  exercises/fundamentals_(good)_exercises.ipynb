{
 "cells": [
  {
   "attachments": {},
   "cell_type": "markdown",
   "id": "123456",
   "metadata": {},
   "source": [
    "<div style=\"text-align:left;font-size:2em\"><span style=\"font-weight:bolder;font-size:1.25em\">SP2273 | Learning Portfolio</span><br><br><span style=\"font-weight:bold;color:darkred\">Fundamentals (Good) Exercises</span></div>"
   ]
  },
  {
   "cell_type": "markdown",
   "id": "be83d752-5ef4-4dd6-982a-051ab0039947",
   "metadata": {},
   "source": [
    "## Exercise 1"
   ]
  },
  {
   "cell_type": "markdown",
   "id": "462d2a5e-5d17-440d-9cfc-44325822f3dd",
   "metadata": {},
   "source": [
    "**Step 1**"
   ]
  },
  {
   "cell_type": "code",
   "execution_count": 4,
   "id": "28b7733b-16d6-4d82-9740-4993e4ff88d1",
   "metadata": {},
   "outputs": [
    {
     "name": "stdin",
     "output_type": "stream",
     "text": [
      "Give me a number? 16\n"
     ]
    },
    {
     "name": "stdout",
     "output_type": "stream",
     "text": [
      "You entered 16\n"
     ]
    }
   ],
   "source": [
    "user_input = input(\"Give me a number?\")\n",
    "print(\"You entered\", user_input)"
   ]
  },
  {
   "cell_type": "code",
   "execution_count": 5,
   "id": "c2b64d3c-c40b-4214-9d13-c3df5aa2c2ac",
   "metadata": {},
   "outputs": [
    {
     "name": "stdin",
     "output_type": "stream",
     "text": [
      "Give me a number? number\n"
     ]
    },
    {
     "name": "stdout",
     "output_type": "stream",
     "text": [
      "You entered number\n"
     ]
    }
   ],
   "source": [
    "user_input = input(\"Give me a number?\")\n",
    "print(\"You entered\", user_input)"
   ]
  },
  {
   "cell_type": "markdown",
   "id": "74157b83-80ce-4b69-9dce-c1781d0d9b3e",
   "metadata": {},
   "source": [
    "**Task**"
   ]
  },
  {
   "cell_type": "code",
   "execution_count": 4,
   "id": "1285e38c-0def-472e-9a83-e8bdbd7686a9",
   "metadata": {},
   "outputs": [
    {
     "name": "stdout",
     "output_type": "stream",
     "text": [
      "String is an invalid score.\n",
      "-60 is an invalid score.\n",
      "The student's letter grade is: A\n"
     ]
    }
   ],
   "source": [
    "def convert_score(score):\n",
    "    if 70 <= score <= 100:\n",
    "        return \"A\"\n",
    "    elif 50 <= score <= 69:\n",
    "        return \"B\"\n",
    "    elif 35 <= score <= 49:\n",
    "        return \"C\"\n",
    "    elif 0 <= score <= 34:\n",
    "        return \"Fail\"\n",
    "    else:\n",
    "        raise ValueError\n",
    "    \n",
    "def main():\n",
    "    while True:\n",
    "        try:\n",
    "            user_score = input(\"Enter the student's score: \")\n",
    "            grade = convert_score(int(user_score))\n",
    "        except ValueError:\n",
    "            print(f\"{user_score} is an invalid score.\")\n",
    "            pass\n",
    "        else:\n",
    "            print(f\"The student's letter grade is: {grade}\")\n",
    "            break\n",
    "\n",
    "\n",
    "if __name__ == \"__main__\":\n",
    "    main()"
   ]
  }
 ],
 "metadata": {
  "kernelspec": {
   "display_name": "Python 3 (ipykernel)",
   "language": "python",
   "name": "python3"
  },
  "language_info": {
   "codemirror_mode": {
    "name": "ipython",
    "version": 3
   },
   "file_extension": ".py",
   "mimetype": "text/x-python",
   "name": "python",
   "nbconvert_exporter": "python",
   "pygments_lexer": "ipython3",
   "version": "3.11.5"
  },
  "toc": {
   "base_numbering": 1,
   "nav_menu": {},
   "number_sections": true,
   "sideBar": true,
   "skip_h1_title": false,
   "title_cell": "Table of Contents",
   "title_sidebar": "Contents",
   "toc_cell": false,
   "toc_position": {},
   "toc_section_display": true,
   "toc_window_display": false
  },
  "vscode": {
   "interpreter": {
    "hash": "31f2aee4e71d21fbe5cf8b01ff0e069b9275f58929596ceb00d14d90e3e16cd6"
   }
  }
 },
 "nbformat": 4,
 "nbformat_minor": 5
}
