{
 "cells": [
  {
   "attachments": {},
   "cell_type": "markdown",
   "id": "123456",
   "metadata": {},
   "source": [
    "<div style=\"text-align:left;font-size:2em\"><span style=\"font-weight:bolder;font-size:1.25em\">SP2273 | Learning Portfolio</span><br><br><span style=\"font-weight:bold;color:darkred\">Fundamentals (Need) Exercises</span></div>"
   ]
  },
  {
   "cell_type": "code",
   "execution_count": 9,
   "id": "435a2427",
   "metadata": {},
   "outputs": [],
   "source": [
    "import math as m"
   ]
  },
  {
   "cell_type": "markdown",
   "id": "e35f8415",
   "metadata": {},
   "source": [
    "**Exercise 1**"
   ]
  },
  {
   "cell_type": "markdown",
   "id": "01c94525",
   "metadata": {},
   "source": [
    "Interpreter\n",
    "\n",
    "Variables\n",
    "\n",
    "Functions\n",
    "\n",
    "Comments\n",
    "\n",
    "If statements\n",
    "\n",
    "*Case-sensitivity*\n",
    "\n",
    "*= is different from ==*\n",
    "\n",
    "*Indentations*\n",
    "\n",
    "*Brackets*\n",
    "\n",
    "*Packages*\n",
    "\n",
    "*The dot (.)*"
   ]
  },
  {
   "cell_type": "markdown",
   "id": "ab6f8ccc",
   "metadata": {},
   "source": [
    "**Exercise 2**"
   ]
  },
  {
   "cell_type": "code",
   "execution_count": 7,
   "id": "1be96380",
   "metadata": {},
   "outputs": [
    {
     "ename": "IndentationError",
     "evalue": "unindent does not match any outer indentation level (<string>, line 4)",
     "output_type": "error",
     "traceback": [
      "\u001b[0;36m  File \u001b[0;32m<string>:4\u001b[0;36m\u001b[0m\n\u001b[0;31m    Print(x, y, z)\u001b[0m\n\u001b[0m                  ^\u001b[0m\n\u001b[0;31mIndentationError\u001b[0m\u001b[0;31m:\u001b[0m unindent does not match any outer indentation level\n"
     ]
    }
   ],
   "source": [
    "# Original code\n",
    "x, y = 3, 4\n",
    "        z = sqrt(x*2 + y**2)\n",
    "    Print(x, y, z)"
   ]
  },
  {
   "cell_type": "code",
   "execution_count": 10,
   "id": "02701808",
   "metadata": {},
   "outputs": [
    {
     "name": "stdout",
     "output_type": "stream",
     "text": [
      "3 4 5.0\n"
     ]
    }
   ],
   "source": [
    "# Debugged code\n",
    "x, y = 3, 4\n",
    "z = m.sqrt(x**2 + y**2)\n",
    "print(x, y, z)"
   ]
  },
  {
   "cell_type": "markdown",
   "id": "8e6d4ad7",
   "metadata": {},
   "source": [
    "**Exercise 3**"
   ]
  },
  {
   "cell_type": "markdown",
   "id": "467c903e",
   "metadata": {},
   "source": [
    "| # | **Term** | **Description** |\n",
    "| :--: | :--- | :--: |\n",
    "| 1 | Function | A function performs actions on the input(s) and returns an output.|\n",
    "| 2 | Arguments |Arguments are values you can pass into a function when calling it.|\n",
    "| 3 | Comments |Comments are text that can be used to explain the purpose of the code, and they will not be executed.|\n",
    "| 4 | Indentations |Indentations indicate the beginning of a block of code.|\n",
    "| 5 | Packages |Packages can be downloaded and imported into a python file, and they contain functions and other contents.|\n",
    "| 6 | . |A dot indicates ownership and can be used to call built-in methods or functions from an imported package.|\n",
    "| 7 | : |A colon indicates that there is going to be an indented block of code afterwards on the next line.|\n",
    "| 8 | [] |Brackets are used to define lists, and they can also be used for slicing.|\n",
    "| 9 | [[[]]] |This is a list containing a list that contains an empty list, or a nested list.|\n",
    "| 10 | {} |Curly brackets can be used to define dictionaries.|"
   ]
  },
  {
   "cell_type": "markdown",
   "id": "f31915e1",
   "metadata": {},
   "source": [
    "**Exercise 4**"
   ]
  },
  {
   "cell_type": "code",
   "execution_count": 1,
   "id": "7662d2e6",
   "metadata": {},
   "outputs": [
    {
     "data": {
      "text/plain": [
       "2.5"
      ]
     },
     "execution_count": 1,
     "metadata": {},
     "output_type": "execute_result"
    }
   ],
   "source": [
    "5/2  # This is division, which returns a float."
   ]
  },
  {
   "cell_type": "code",
   "execution_count": 2,
   "id": "a8e93671",
   "metadata": {},
   "outputs": [
    {
     "data": {
      "text/plain": [
       "2"
      ]
     },
     "execution_count": 2,
     "metadata": {},
     "output_type": "execute_result"
    }
   ],
   "source": [
    "5//2  # This is floor division, which returns the greatest integer \n",
    "      # less than or equal to the quotient"
   ]
  },
  {
   "cell_type": "code",
   "execution_count": 3,
   "id": "e70d15ce",
   "metadata": {},
   "outputs": [
    {
     "data": {
      "text/plain": [
       "1"
      ]
     },
     "execution_count": 3,
     "metadata": {},
     "output_type": "execute_result"
    }
   ],
   "source": [
    "5%2  # This is the modulo operator, which returns the remainder of the division \n",
    "     # performed on the left operand and right operand. "
   ]
  }
 ],
 "metadata": {
  "kernelspec": {
   "display_name": "Python 3 (ipykernel)",
   "language": "python",
   "name": "python3"
  },
  "language_info": {
   "codemirror_mode": {
    "name": "ipython",
    "version": 3
   },
   "file_extension": ".py",
   "mimetype": "text/x-python",
   "name": "python",
   "nbconvert_exporter": "python",
   "pygments_lexer": "ipython3",
   "version": "3.11.5"
  },
  "toc": {
   "base_numbering": 1,
   "nav_menu": {},
   "number_sections": true,
   "sideBar": true,
   "skip_h1_title": false,
   "title_cell": "Table of Contents",
   "title_sidebar": "Contents",
   "toc_cell": false,
   "toc_position": {},
   "toc_section_display": true,
   "toc_window_display": false
  },
  "vscode": {
   "interpreter": {
    "hash": "31f2aee4e71d21fbe5cf8b01ff0e069b9275f58929596ceb00d14d90e3e16cd6"
   }
  }
 },
 "nbformat": 4,
 "nbformat_minor": 5
}
