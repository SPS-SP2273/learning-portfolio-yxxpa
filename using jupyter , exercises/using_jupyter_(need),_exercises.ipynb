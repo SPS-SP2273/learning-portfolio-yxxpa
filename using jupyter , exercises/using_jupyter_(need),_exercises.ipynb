{
 "cells": [
  {
   "attachments": {},
   "cell_type": "markdown",
   "id": "123456",
   "metadata": {},
   "source": [
    "<div style=\"text-align:left;font-size:2em\"><span style=\"font-weight:bolder;font-size:1.25em\">SP2273 | Learning Portfolio</span><br><br><span style=\"font-weight:bold;color:darkred\">Using Jupyter (Need), Exercises</span></div>"
   ]
  },
  {
   "attachments": {},
   "cell_type": "markdown",
   "id": "407d3ef8-08ec-4d73-98d3-5b5103315aa9",
   "metadata": {},
   "source": [
    "## **Exercise 1**\n",
    "\n",
    "## **Quadratic Equations**\n",
    "\n",
    "<hr>"
   ]
  },
  {
   "attachments": {},
   "cell_type": "markdown",
   "id": "82718ed7-9a20-4c8b-b861-023a2ed9e524",
   "metadata": {},
   "source": [
    "### **Introduction**\n",
    "\n",
    "![](https://upload.wikimedia.org/wikipedia/commons/thumb/f/f8/Polynomialdeg2.svg/300px-Polynomialdeg2.svg.png)\n",
    "\n",
    "*(Image from the [Wikipedia page on Quadratic equations](https://en.wikipedia.org/wiki/Quadratic_equation))*\n",
    "\n",
    "The general form of a quadratic equation is:\n",
    "\n",
    "$$\n",
    "ax^2 + bx + c = 0\n",
    "$$"
   ]
  },
  {
   "attachments": {},
   "cell_type": "markdown",
   "id": "bef1cd54-df76-45a2-b93e-062262fcc911",
   "metadata": {},
   "source": [
    "### **Solutions**\n",
    "\n",
    "Provided $a \\neq 0$, we can use an elementary algebraic method called [completing the square](https://en.wikipedia.org/wiki/Completing_the_square) to show that a quadratic equation has the following solution:\n",
    "$$\n",
    "x = \\dfrac{-b \\pm \\sqrt{b^2-4ac}}{2a}\n",
    "$$"
   ]
  },
  {
   "attachments": {},
   "cell_type": "markdown",
   "id": "9f73546d-2f2e-4f52-a73a-38c5783a71e4",
   "metadata": {},
   "source": [
    "### **Discriminant**\n",
    "\n",
    "The quantity $\\Delta = b^2 - 4ac$ is called the **discriminant** of the equation and decides the nature of its solutions. The table below shows the various possibilities.\n",
    "\n",
    "| **Discriminant** | **Roots** |\n",
    "|        :--:      |    :---   |\n",
    "|$\\Delta = b^2 - 4ac = 0$ | A single solution of $-b/(2a)$ |\n",
    "|$\\Delta = b^2 - 4ac \\gt 0$ | Two distinct solutions |\n",
    "|$\\Delta = b^2 - 4ac \\lt 0$ | No real solutions; both are complex.|"
   ]
  },
  {
   "attachments": {},
   "cell_type": "markdown",
   "id": "d186abed-27c0-4460-b49c-12ee0f37fe1c",
   "metadata": {},
   "source": [
    "## **Exercise 2**\n",
    "\n",
    "\n",
    "1. A Git repository is a location that stores files and their revision history.  \n",
    "2. Git keeps track of changes in the files in our repository.\n",
    "3. A commit records the changes made to a file and is accompanied by a commit message from the user detailing what was changed.\n",
    "4. A push allows the user to update changes made locally to the origin, or the server.\n",
    "5. A pull allows the user to update their local repository with changes made in the remote repository.\n",
    "6. GitHub is a cloud-based service developers can use to store, manage, and collaborate on their code. GitHub Desktop is an application that allows one to use a graphical user interface to interact with GitHub and perform actions such as committing, pushing, pulling, and more."
   ]
  }
 ],
 "metadata": {
  "kernelspec": {
   "display_name": "Python 3 (ipykernel)",
   "language": "python",
   "name": "python3"
  },
  "language_info": {
   "codemirror_mode": {
    "name": "ipython",
    "version": 3
   },
   "file_extension": ".py",
   "mimetype": "text/x-python",
   "name": "python",
   "nbconvert_exporter": "python",
   "pygments_lexer": "ipython3",
   "version": "3.11.5"
  },
  "toc": {
   "base_numbering": 1,
   "nav_menu": {},
   "number_sections": true,
   "sideBar": true,
   "skip_h1_title": false,
   "title_cell": "Table of Contents",
   "title_sidebar": "Contents",
   "toc_cell": false,
   "toc_position": {},
   "toc_section_display": true,
   "toc_window_display": false
  },
  "vscode": {
   "interpreter": {
    "hash": "31f2aee4e71d21fbe5cf8b01ff0e069b9275f58929596ceb00d14d90e3e16cd6"
   }
  }
 },
 "nbformat": 4,
 "nbformat_minor": 5
}
