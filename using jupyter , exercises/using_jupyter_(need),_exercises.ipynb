{
 "cells": [
  {
   "attachments": {},
   "cell_type": "markdown",
   "id": "123456",
   "metadata": {},
   "source": [
    "<div style=\"text-align:left;font-size:2em\"><span style=\"font-weight:bolder;font-size:1.25em\">SP2273 | Learning Portfolio</span><br><br><span style=\"font-weight:bold;color:darkred\">Using Jupyter (Need), Exercises</span></div>"
   ]
  },
  {
   "cell_type": "markdown",
   "id": "8bf1b051-8be9-4d75-a289-a18618350829",
   "metadata": {},
   "source": [
    "## **Exercise 1**"
   ]
  },
  {
   "attachments": {},
   "cell_type": "markdown",
   "id": "3f25f9bd-1e65-42c8-8c62-b26aa0e317c8",
   "metadata": {},
   "source": [
    "## **Quadratic Equations**\n",
    "\n",
    "<hr>"
   ]
  },
  {
   "attachments": {},
   "cell_type": "markdown",
   "id": "546c9c9e",
   "metadata": {},
   "source": [
    "### **Introduction**"
   ]
  },
  {
   "attachments": {},
   "cell_type": "markdown",
   "id": "002eeaaa-e18c-459b-b194-c7af77036095",
   "metadata": {},
   "source": [
    "![](https://upload.wikimedia.org/wikipedia/commons/thumb/f/f8/Polynomialdeg2.svg/300px-Polynomialdeg2.svg.png)\n",
    "\n",
    "*(Image from the [Wikipedia page on Quadratic equations](https://en.wikipedia.org/wiki/Quadratic_equation))*"
   ]
  },
  {
   "attachments": {},
   "cell_type": "markdown",
   "id": "b9a581a4-c349-48dc-a354-1759b626ed49",
   "metadata": {},
   "source": [
    "The general form of a quadratic equation is:\n",
    "\n",
    "$$\n",
    "ax^2 + bx + c = 0\n",
    "$$"
   ]
  },
  {
   "attachments": {},
   "cell_type": "markdown",
   "id": "bef1cd54-df76-45a2-b93e-062262fcc911",
   "metadata": {},
   "source": [
    "### **Solutions**\n",
    "\n",
    "Provided $a \\neq 0$, we can use an elementary algebraic method called [completing the square](https://en.wikipedia.org/wiki/Completing_the_square) to show that a quadratic equation has the following solution:\n",
    "$$\n",
    "x = \\dfrac{-b \\pm \\sqrt{b^2-4ac}}{2a}\n",
    "$$"
   ]
  },
  {
   "attachments": {},
   "cell_type": "markdown",
   "id": "9f73546d-2f2e-4f52-a73a-38c5783a71e4",
   "metadata": {},
   "source": [
    "### **Discriminant**\n",
    "\n",
    "The quantity $\\Delta = b^2 - 4ac$ is called the **discriminant** of the equation and decides the nature of its solutions. The table below shows the various possibilities.\n",
    "| **Discriminant** | **Roots** |\n",
    "|:--: | :---|\n",
    "|$\\Delta = b^2 - 4ac = 0$ | A single solution of $-b/(2a)$ |\n",
    "|$\\Delta = b^2 - 4ac \\gt 0$ | Two distinct solutions |\n",
    "|$\\Delta = b^2 - 4ac \\lt 0$ | No real solutions; both are complex.|"
   ]
  },
  {
   "cell_type": "markdown",
   "id": "de10eed2-73a4-4760-8999-4f5988ec980b",
   "metadata": {},
   "source": [
    "## **Exercise 2**\n"
   ]
  },
  {
   "cell_type": "markdown",
   "id": "72646cfb-7398-41d3-975e-b8be50489200",
   "metadata": {},
   "source": [
    "1. A Git repository is a folder on the GitHub server that stores files such as the Learning Portfolio.\n",
    "2. Git keeps track of changes in the files in our repository.\n",
    "3. A commit records the changes made to a file and can be accompanied by a commit message from the user.\n",
    "4. A push allows the user to update changes made locally to the origin, or the server.\n",
    "5. A pull is when the user fetches changes from the cloud to a local device.\n",
    "6. GitHub allows one to store repositories in the cloud server, and GitHub Desktop is an application and graphical user interface. The user can connect to their GiHub account and perform actions such as committing, pushing, and pulling changes made to files."
   ]
  }
 ],
 "metadata": {
  "kernelspec": {
   "display_name": "Python 3 (ipykernel)",
   "language": "python",
   "name": "python3"
  },
  "language_info": {
   "codemirror_mode": {
    "name": "ipython",
    "version": 3
   },
   "file_extension": ".py",
   "mimetype": "text/x-python",
   "name": "python",
   "nbconvert_exporter": "python",
   "pygments_lexer": "ipython3",
   "version": "3.11.5"
  },
  "toc": {
   "base_numbering": 1,
   "nav_menu": {},
   "number_sections": true,
   "sideBar": true,
   "skip_h1_title": false,
   "title_cell": "Table of Contents",
   "title_sidebar": "Contents",
   "toc_cell": false,
   "toc_position": {},
   "toc_section_display": true,
   "toc_window_display": false
  },
  "vscode": {
   "interpreter": {
    "hash": "31f2aee4e71d21fbe5cf8b01ff0e069b9275f58929596ceb00d14d90e3e16cd6"
   }
  }
 },
 "nbformat": 4,
 "nbformat_minor": 5
}
