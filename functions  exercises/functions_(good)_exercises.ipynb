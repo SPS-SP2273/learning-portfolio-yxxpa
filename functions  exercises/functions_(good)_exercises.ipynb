{
 "cells": [
  {
   "attachments": {},
   "cell_type": "markdown",
   "id": "123456",
   "metadata": {},
   "source": [
    "<div style=\"text-align:left;font-size:2em\"><span style=\"font-weight:bolder;font-size:1.25em\">SP2273 | Learning Portfolio</span><br><br><span style=\"font-weight:bold;color:darkred\">Functions (Good) Exercises</span></div>"
   ]
  },
  {
   "cell_type": "markdown",
   "id": "adb64d65-8b41-4b8e-93fd-f9a02eb397e4",
   "metadata": {},
   "source": [
    "**Exercise 1**"
   ]
  },
  {
   "cell_type": "code",
   "execution_count": 23,
   "id": "5f121077-e53d-4e06-b46d-d6e508c8acad",
   "metadata": {},
   "outputs": [],
   "source": [
    "def convert_celsius(temperature_celsius, target_scale=\"Fahrenheit\"):\n",
    "    if target_scale == \"Kelvin\":\n",
    "        # Converting Celsius to Kelvin\n",
    "        converted_temp = temperature_celsius + 273.15\n",
    "        return f\"{converted_temp:.2f} degrees Kelvin\"\n",
    "    else:\n",
    "        # Converting Celsius to Fahrenheit\n",
    "        converted_temp = temperature_celsius * (9/5) + 32\n",
    "        return f\"{converted_temp:.2f} degrees Fahrenheit\""
   ]
  },
  {
   "cell_type": "code",
   "execution_count": 24,
   "id": "b0b51c39-ba8b-4349-9f89-f06d34c419f4",
   "metadata": {},
   "outputs": [
    {
     "data": {
      "text/plain": [
       "'298.15 degrees Kelvin'"
      ]
     },
     "execution_count": 24,
     "metadata": {},
     "output_type": "execute_result"
    }
   ],
   "source": [
    "convert_celsius(25, \"Kelvin\")"
   ]
  },
  {
   "cell_type": "code",
   "execution_count": 25,
   "id": "ad7d1872-7a2b-4662-8181-fdc6fdb78d13",
   "metadata": {},
   "outputs": [
    {
     "data": {
      "text/plain": [
       "'86.00 degrees Fahrenheit'"
      ]
     },
     "execution_count": 25,
     "metadata": {},
     "output_type": "execute_result"
    }
   ],
   "source": [
    "convert_celsius(30)"
   ]
  },
  {
   "cell_type": "markdown",
   "id": "5149b8f0-6554-49c7-8d4d-e2dcd4c5e703",
   "metadata": {},
   "source": [
    "**Exercise 2**"
   ]
  },
  {
   "cell_type": "code",
   "execution_count": 26,
   "id": "3d17d0ee-3cb8-4cc5-b79e-18df9e573e24",
   "metadata": {},
   "outputs": [],
   "source": [
    "def convert_fahrenheit(temperature_fahrenheit, target_scale=\"Celsius\"):\n",
    "    if target_scale == \"Kelvin\":\n",
    "        # Converting Fahrenheit to Kelvin\n",
    "        converted_temp = (temperature_fahrenheit - 32) * (5/9) + 273.15\n",
    "        return f\"{converted_temp:.2f} degrees Kelvin\"\n",
    "    else:\n",
    "        # Converting Fahrenheit to Celsius\n",
    "        converted_temp = (temperature_fahrenheit - 32) * (5/9)\n",
    "        return f\"{converted_temp:.2f} degrees Celsius\""
   ]
  },
  {
   "cell_type": "code",
   "execution_count": 27,
   "id": "25c202b8-9135-4781-bc89-5749e100f1d0",
   "metadata": {},
   "outputs": [
    {
     "data": {
      "text/plain": [
       "'273.15 degrees Kelvin'"
      ]
     },
     "execution_count": 27,
     "metadata": {},
     "output_type": "execute_result"
    }
   ],
   "source": [
    "convert_fahrenheit(32, \"Kelvin\")"
   ]
  },
  {
   "cell_type": "code",
   "execution_count": 28,
   "id": "0a44245a-9ab3-42db-997d-399a3ef97dbb",
   "metadata": {},
   "outputs": [
    {
     "data": {
      "text/plain": [
       "'7.22 degrees Celsius'"
      ]
     },
     "execution_count": 28,
     "metadata": {},
     "output_type": "execute_result"
    }
   ],
   "source": [
    "convert_fahrenheit(45)"
   ]
  },
  {
   "cell_type": "markdown",
   "id": "bcd5dfac-988f-4e6b-89e2-1ba52c4ce3ff",
   "metadata": {},
   "source": [
    "**Exercise 3**"
   ]
  },
  {
   "cell_type": "code",
   "execution_count": 20,
   "id": "c0099fce-0d1b-44bb-acc9-1a3f009882b2",
   "metadata": {},
   "outputs": [],
   "source": [
    "def convert_temperature(temperature, source_scale, target_scale):\n",
    "    if source_scale == \"Celsius\":\n",
    "        return convert_celsius(temperature, target_scale)\n",
    "    elif source_scale == \"Fahrenheit\":\n",
    "        return convert_fahrenheit(temperature, target_scale)\n",
    "    else:\n",
    "        # Converting Kelvin to Celsius\n",
    "        if target_scale == \"Celsius\":\n",
    "            converted_temp = temperature - 273.15\n",
    "            return f\"{converted_temp:.2f} degrees Celsius\"\n",
    "        else:\n",
    "            # Converting Kelvin to Fahrenheit\n",
    "            converted_temp = (9/5)*(temperature - 273.15) + 32\n",
    "            return f\"{converted_temp:.2f} degrees Fahrenheit\""
   ]
  },
  {
   "cell_type": "code",
   "execution_count": 22,
   "id": "5b526b6e-af99-446a-bda6-b2dc5730fa9f",
   "metadata": {},
   "outputs": [
    {
     "data": {
      "text/plain": [
       "'26.85 degrees Celsius'"
      ]
     },
     "execution_count": 22,
     "metadata": {},
     "output_type": "execute_result"
    }
   ],
   "source": [
    "convert_temperature(300, \"Kelvin\", \"Celsius\")"
   ]
  },
  {
   "cell_type": "code",
   "execution_count": 33,
   "id": "759de58c-a40f-42f7-af5c-4ff02df5c4ef",
   "metadata": {},
   "outputs": [
    {
     "data": {
      "text/plain": [
       "'80.33 degrees Fahrenheit'"
      ]
     },
     "execution_count": 33,
     "metadata": {},
     "output_type": "execute_result"
    }
   ],
   "source": [
    "convert_temperature(300, \"Kelvin\", \"Fahrenheit\")"
   ]
  },
  {
   "cell_type": "code",
   "execution_count": 29,
   "id": "dc0c7b73-cfb6-4ff7-a5ad-3fb1a5b09e71",
   "metadata": {},
   "outputs": [
    {
     "data": {
      "text/plain": [
       "'4.44 degrees Celsius'"
      ]
     },
     "execution_count": 29,
     "metadata": {},
     "output_type": "execute_result"
    }
   ],
   "source": [
    "convert_temperature(40, \"Fahrenheit\", \"Celsius\")"
   ]
  }
 ],
 "metadata": {
  "kernelspec": {
   "display_name": "Python 3 (ipykernel)",
   "language": "python",
   "name": "python3"
  },
  "language_info": {
   "codemirror_mode": {
    "name": "ipython",
    "version": 3
   },
   "file_extension": ".py",
   "mimetype": "text/x-python",
   "name": "python",
   "nbconvert_exporter": "python",
   "pygments_lexer": "ipython3",
   "version": "3.11.5"
  },
  "toc": {
   "base_numbering": 1,
   "nav_menu": {},
   "number_sections": true,
   "sideBar": true,
   "skip_h1_title": false,
   "title_cell": "Table of Contents",
   "title_sidebar": "Contents",
   "toc_cell": false,
   "toc_position": {},
   "toc_section_display": true,
   "toc_window_display": false
  },
  "vscode": {
   "interpreter": {
    "hash": "31f2aee4e71d21fbe5cf8b01ff0e069b9275f58929596ceb00d14d90e3e16cd6"
   }
  }
 },
 "nbformat": 4,
 "nbformat_minor": 5
}
